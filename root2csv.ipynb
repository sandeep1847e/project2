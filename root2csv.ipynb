{
 "cells": [
  {
   "cell_type": "code",
   "execution_count": null,
   "metadata": {},
   "outputs": [],
   "source": [
    "import uproot\n",
    "import pandas as pd\n",
    "\n",
    "# Paths to ROOT files\n",
    "signal_file_path = \"/path/to/signal.root\"\n",
    "background_file_path = \"/path/background.root\"\n",
    "\n",
    "# Output CSV file path\n",
    "output_csv_path = \"/home/sandeep/Desktop/project/data.csv\"\n",
    "\n",
    "# Function to extract data from a ROOT file\n",
    "def extract_data(root_file_path, label):\n",
    "    # Open the ROOT file\n",
    "    with uproot.open(root_file_path) as file:\n",
    "        # Inspect the structure (tree and branches)\n",
    "        tree = file[\"TreeName\"]  # Replace \"TreeName\" with the actual tree name\n",
    "\n",
    "        # Extract relevant features\n",
    "        data = tree.arrays([\n",
    "            \"event_no\", \"jet_no\", \"jet_pt\", \"jet_eta\", \"jet_phi\", \"jet_mass\"\n",
    "        ], library=\"pd\")\n",
    "\n",
    "        # Add label for signal or background\n",
    "        data[\"signal_or_background\"] = label\n",
    "\n",
    "        return data\n",
    "\n",
    "# Extract data from signal and background ROOT files\n",
    "signal_data = extract_data(signal_file_path, label=1)\n",
    "background_data = extract_data(background_file_path, label=0)\n",
    "\n",
    "# Combine signal and background data\n",
    "dataset = pd.concat([signal_data, background_data], ignore_index=True)\n",
    "\n",
    "# Save to CSV\n",
    "dataset.to_csv(output_csv_path, index=False)\n",
    "\n",
    "print(f\"Data successfully saved to {output_csv_path}\")\n"
   ]
  }
 ],
 "metadata": {
  "kernelspec": {
   "display_name": "base",
   "language": "python",
   "name": "python3"
  },
  "language_info": {
   "name": "python",
   "version": "3.12.7"
  }
 },
 "nbformat": 4,
 "nbformat_minor": 2
}
