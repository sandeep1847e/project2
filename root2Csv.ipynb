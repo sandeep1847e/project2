{
 "cells": [
  {
   "cell_type": "markdown",
   "metadata": {
    "colab_type": "text",
    "id": "view-in-github"
   },
   "source": [
    "<a href=\"https://colab.research.google.com/github/sandeep1847e/MSc-Project/blob/main/codes/Jet_2_graph.ipynb\" target=\"_parent\"><img src=\"https://colab.research.google.com/assets/colab-badge.svg\" alt=\"Open In Colab\"/></a>"
   ]
  },
  {
   "cell_type": "code",
   "execution_count": 1,
   "metadata": {
    "id": "OAeYh9AW5yn3"
   },
   "outputs": [],
   "source": [
    "import uproot\n",
    "import fastjet as fj\n",
    "import numpy as np\n",
    "import awkward as ak\n",
    "\n",
    "import pandas as pd\n",
    "import numpy as np\n",
    "import networkx as nx\n",
    "import matplotlib.pyplot as plt"
   ]
  },
  {
   "cell_type": "code",
   "execution_count": 4,
   "metadata": {
    "colab": {
     "base_uri": "https://localhost:8080/"
    },
    "id": "sXo9-BYFfaY9",
    "outputId": "76d8eeb2-9a2e-4458-c104-880a21158ae1"
   },
   "outputs": [
    {
     "name": "stdout",
     "output_type": "stream",
     "text": [
      "Download complete!\n"
     ]
    }
   ],
   "source": [
    "# import requests\n",
    "\n",
    "# # URL of the .root file\n",
    "# url = \"https://github.com/sandeep1847e/MSc-Project/blob/main/Events/pp24tops100E.root?raw=true\"\n",
    "\n",
    "# # Download the file\n",
    "# response = requests.get(url)\n",
    "# with open(\"pp24tops100E.root\", \"wb\") as file:\n",
    "#     file.write(response.content)\n",
    "\n",
    "# print(\"Download complete!\")\n"
   ]
  },
  {
   "cell_type": "code",
   "execution_count": 10,
   "metadata": {
    "colab": {
     "base_uri": "https://localhost:8080/"
    },
    "id": "AT1kNRJsNmvI",
    "outputId": "3a2ca3e3-1aca-45d4-a910-dae21d43dfdc"
   },
   "outputs": [
    {
     "name": "stdout",
     "output_type": "stream",
     "text": [
      "['ProcessID0;1', 'Delphes;1']\n"
     ]
    }
   ],
   "source": [
    "file = uproot.open(\"/home/sandeep-sharma/Desktop/project2/4top_signal.root\")\n",
    "print(file.keys())\n",
    "tree = file[\"Delphes;1\"]\n",
    "#print(tree.keys())\n"
   ]
  },
  {
   "cell_type": "code",
   "execution_count": 11,
   "metadata": {
    "id": "0Zz-q8vtldM_"
   },
   "outputs": [
    {
     "data": {
      "text/plain": [
       "5000"
      ]
     },
     "execution_count": 11,
     "metadata": {},
     "output_type": "execute_result"
    }
   ],
   "source": [
    "jet=tree['Jet'].arrays()\n",
    "len(jet)"
   ]
  },
  {
   "cell_type": "code",
   "execution_count": 12,
   "metadata": {
    "id": "TsRUip0q6Z7t"
   },
   "outputs": [],
   "source": [
    "jet_pt=jet['Jet.PT']\n",
    "jet_eta=jet['Jet.Eta']\n",
    "jet_phi=jet['Jet.Phi']\n",
    "jet_mass=jet['Jet.Mass']\n",
    "jet_EbyM=jet[\"Jet.EhadOverEem\"]\n",
    "# jet_pt\n",
    "# len(jet_pt)"
   ]
  },
  {
   "cell_type": "code",
   "execution_count": 13,
   "metadata": {
    "colab": {
     "base_uri": "https://localhost:8080/"
    },
    "id": "IQT7iN2MK1kc",
    "outputId": "46ff80da-efa2-41e8-9b34-2e6d03b6be59"
   },
   "outputs": [
    {
     "name": "stdout",
     "output_type": "stream",
     "text": [
      "7\n",
      "7\n",
      "7\n"
     ]
    }
   ],
   "source": [
    "print(len(jet_pt[0]))\n",
    "print(len(jet_eta[0]))\n",
    "print(len(jet_phi[0]))\n"
   ]
  },
  {
   "cell_type": "code",
   "execution_count": null,
   "metadata": {
    "colab": {
     "base_uri": "https://localhost:8080/"
    },
    "id": "27JYfvZZkO6G",
    "outputId": "1759672a-8be9-46e6-dc7b-5cd47ab7579e"
   },
   "outputs": [],
   "source": []
  },
  {
   "cell_type": "code",
   "execution_count": 16,
   "metadata": {
    "id": "Y2NgLKfdtJl6"
   },
   "outputs": [],
   "source": [
    "jet_pt=jet['Jet.PT']\n",
    "jet_eta=jet['Jet.Eta']\n",
    "jet_phi=jet['Jet.Phi']\n",
    "jet_mass=jet['Jet.Mass']\n",
    "\n"
   ]
  },
  {
   "cell_type": "code",
   "execution_count": 16,
   "metadata": {},
   "outputs": [
    {
     "name": "stdout",
     "output_type": "stream",
     "text": [
      "Processed data saved to /home/sandeep-sharma/Desktop/project2/jet_data.csv\n"
     ]
    }
   ],
   "source": [
    "# File paths\n",
    "signal_file_path = \"/home/sandeep-sharma/Desktop/project2/4top_signal.root\"\n",
    "background_file_path = \"/home/sandeep-sharma/Desktop/project2/4top_background.root\"\n",
    "\n",
    "def process_root_file(file_path, label, event_offset):\n",
    "    file = uproot.open(file_path)\n",
    "    tree = file[\"Delphes;1\"]\n",
    "    jets = tree[\"Jet\"].arrays()\n",
    "\n",
    "    # Flatten jet-level features while keeping track of the event\n",
    "    all_data = []\n",
    "    for event_no, (jet_pt, jet_eta, jet_phi, jet_mass, jet_EbyM) in enumerate(\n",
    "        zip(jets[\"Jet.PT\"], jets[\"Jet.Eta\"], jets[\"Jet.Phi\"], jets[\"Jet.Mass\"], jets[\"Jet.EhadOverEem\"])\n",
    "    ):\n",
    "        for i in range(len(jet_pt)):\n",
    "            all_data.append({\n",
    "                \"event_no\": event_no + event_offset,  # Offset the event number\n",
    "                \"jet_no\": i,\n",
    "                \"jet_pt\": jet_pt[i],\n",
    "                \"jet_eta\": jet_eta[i],\n",
    "                \"jet_phi\": jet_phi[i],\n",
    "                \"jet_mass\": jet_mass[i],\n",
    "                \"jet_EbyM\": jet_EbyM[i],\n",
    "                \"signal_or_background\": label\n",
    "            })\n",
    "    \n",
    "    return pd.DataFrame(all_data)\n",
    "\n",
    "# Process signal and background files with unique event numbers\n",
    "signal_data = process_root_file(signal_file_path, label=1, event_offset=0)  # Start signal from 0\n",
    "background_data = process_root_file(background_file_path, label=0, event_offset=len(signal_data[\"event_no\"].unique()))  # Offset background by signal events count\n",
    "\n",
    "# Combine signal and background data\n",
    "final_df = pd.concat([signal_data, background_data], ignore_index=True)\n",
    "\n",
    "# Save to CSV\n",
    "output_path = \"/home/sandeep-sharma/Desktop/project2/jet_data.csv\"\n",
    "final_df.to_csv(output_path, index=False)\n",
    "print(f\"Processed data saved to {output_path}\")\n"
   ]
  },
  {
   "cell_type": "code",
   "execution_count": 32,
   "metadata": {},
   "outputs": [
    {
     "name": "stderr",
     "output_type": "stream",
     "text": [
      "/home/sandeep-sharma/anaconda3/lib/python3.12/site-packages/torch_geometric/deprecation.py:26: UserWarning: 'data.DataLoader' is deprecated, use 'loader.DataLoader' instead\n",
      "  warnings.warn(out)\n"
     ]
    },
    {
     "ename": "RuntimeError",
     "evalue": "size mismatch (got input: [2], target: [32])",
     "output_type": "error",
     "traceback": [
      "\u001b[0;31m---------------------------------------------------------------------------\u001b[0m",
      "\u001b[0;31mRuntimeError\u001b[0m                              Traceback (most recent call last)",
      "Cell \u001b[0;32mIn[32], line 134\u001b[0m\n\u001b[1;32m    132\u001b[0m \u001b[38;5;28;01mif\u001b[39;00m \u001b[38;5;18m__name__\u001b[39m \u001b[38;5;241m==\u001b[39m \u001b[38;5;124m\"\u001b[39m\u001b[38;5;124m__main__\u001b[39m\u001b[38;5;124m\"\u001b[39m:\n\u001b[1;32m    133\u001b[0m     csv_file_path \u001b[38;5;241m=\u001b[39m \u001b[38;5;124m\"\u001b[39m\u001b[38;5;124m/home/sandeep-sharma/Desktop/project2/jet_data.csv\u001b[39m\u001b[38;5;124m\"\u001b[39m  \u001b[38;5;66;03m# Replace with your dataset path\u001b[39;00m\n\u001b[0;32m--> 134\u001b[0m     trained_model \u001b[38;5;241m=\u001b[39m train_model(csv_file_path, num_epochs\u001b[38;5;241m=\u001b[39m\u001b[38;5;241m10\u001b[39m, batch_size\u001b[38;5;241m=\u001b[39m\u001b[38;5;241m32\u001b[39m, learning_rate\u001b[38;5;241m=\u001b[39m\u001b[38;5;241m0.01\u001b[39m)\n",
      "Cell \u001b[0;32mIn[32], line 122\u001b[0m, in \u001b[0;36mtrain_model\u001b[0;34m(csv_file, num_epochs, batch_size, learning_rate)\u001b[0m\n\u001b[1;32m    120\u001b[0m batch \u001b[38;5;241m=\u001b[39m batch\u001b[38;5;241m.\u001b[39mto(\u001b[38;5;124m'\u001b[39m\u001b[38;5;124mcpu\u001b[39m\u001b[38;5;124m'\u001b[39m)  \u001b[38;5;66;03m# Ensure data is on the correct device\u001b[39;00m\n\u001b[1;32m    121\u001b[0m out \u001b[38;5;241m=\u001b[39m model(batch)\n\u001b[0;32m--> 122\u001b[0m loss \u001b[38;5;241m=\u001b[39m loss_fn(out, batch\u001b[38;5;241m.\u001b[39my)  \u001b[38;5;66;03m# Batch labels as targets\u001b[39;00m\n\u001b[1;32m    123\u001b[0m loss\u001b[38;5;241m.\u001b[39mbackward()\n\u001b[1;32m    124\u001b[0m optimizer\u001b[38;5;241m.\u001b[39mstep()\n",
      "File \u001b[0;32m~/anaconda3/lib/python3.12/site-packages/torch/nn/modules/module.py:1736\u001b[0m, in \u001b[0;36mModule._wrapped_call_impl\u001b[0;34m(self, *args, **kwargs)\u001b[0m\n\u001b[1;32m   1734\u001b[0m     \u001b[38;5;28;01mreturn\u001b[39;00m \u001b[38;5;28mself\u001b[39m\u001b[38;5;241m.\u001b[39m_compiled_call_impl(\u001b[38;5;241m*\u001b[39margs, \u001b[38;5;241m*\u001b[39m\u001b[38;5;241m*\u001b[39mkwargs)  \u001b[38;5;66;03m# type: ignore[misc]\u001b[39;00m\n\u001b[1;32m   1735\u001b[0m \u001b[38;5;28;01melse\u001b[39;00m:\n\u001b[0;32m-> 1736\u001b[0m     \u001b[38;5;28;01mreturn\u001b[39;00m \u001b[38;5;28mself\u001b[39m\u001b[38;5;241m.\u001b[39m_call_impl(\u001b[38;5;241m*\u001b[39margs, \u001b[38;5;241m*\u001b[39m\u001b[38;5;241m*\u001b[39mkwargs)\n",
      "File \u001b[0;32m~/anaconda3/lib/python3.12/site-packages/torch/nn/modules/module.py:1747\u001b[0m, in \u001b[0;36mModule._call_impl\u001b[0;34m(self, *args, **kwargs)\u001b[0m\n\u001b[1;32m   1742\u001b[0m \u001b[38;5;66;03m# If we don't have any hooks, we want to skip the rest of the logic in\u001b[39;00m\n\u001b[1;32m   1743\u001b[0m \u001b[38;5;66;03m# this function, and just call forward.\u001b[39;00m\n\u001b[1;32m   1744\u001b[0m \u001b[38;5;28;01mif\u001b[39;00m \u001b[38;5;129;01mnot\u001b[39;00m (\u001b[38;5;28mself\u001b[39m\u001b[38;5;241m.\u001b[39m_backward_hooks \u001b[38;5;129;01mor\u001b[39;00m \u001b[38;5;28mself\u001b[39m\u001b[38;5;241m.\u001b[39m_backward_pre_hooks \u001b[38;5;129;01mor\u001b[39;00m \u001b[38;5;28mself\u001b[39m\u001b[38;5;241m.\u001b[39m_forward_hooks \u001b[38;5;129;01mor\u001b[39;00m \u001b[38;5;28mself\u001b[39m\u001b[38;5;241m.\u001b[39m_forward_pre_hooks\n\u001b[1;32m   1745\u001b[0m         \u001b[38;5;129;01mor\u001b[39;00m _global_backward_pre_hooks \u001b[38;5;129;01mor\u001b[39;00m _global_backward_hooks\n\u001b[1;32m   1746\u001b[0m         \u001b[38;5;129;01mor\u001b[39;00m _global_forward_hooks \u001b[38;5;129;01mor\u001b[39;00m _global_forward_pre_hooks):\n\u001b[0;32m-> 1747\u001b[0m     \u001b[38;5;28;01mreturn\u001b[39;00m forward_call(\u001b[38;5;241m*\u001b[39margs, \u001b[38;5;241m*\u001b[39m\u001b[38;5;241m*\u001b[39mkwargs)\n\u001b[1;32m   1749\u001b[0m result \u001b[38;5;241m=\u001b[39m \u001b[38;5;28;01mNone\u001b[39;00m\n\u001b[1;32m   1750\u001b[0m called_always_called_hooks \u001b[38;5;241m=\u001b[39m \u001b[38;5;28mset\u001b[39m()\n",
      "File \u001b[0;32m~/anaconda3/lib/python3.12/site-packages/torch/nn/modules/loss.py:251\u001b[0m, in \u001b[0;36mNLLLoss.forward\u001b[0;34m(self, input, target)\u001b[0m\n\u001b[1;32m    250\u001b[0m \u001b[38;5;28;01mdef\u001b[39;00m \u001b[38;5;21mforward\u001b[39m(\u001b[38;5;28mself\u001b[39m, \u001b[38;5;28minput\u001b[39m: Tensor, target: Tensor) \u001b[38;5;241m-\u001b[39m\u001b[38;5;241m>\u001b[39m Tensor:\n\u001b[0;32m--> 251\u001b[0m     \u001b[38;5;28;01mreturn\u001b[39;00m F\u001b[38;5;241m.\u001b[39mnll_loss(\n\u001b[1;32m    252\u001b[0m         \u001b[38;5;28minput\u001b[39m,\n\u001b[1;32m    253\u001b[0m         target,\n\u001b[1;32m    254\u001b[0m         weight\u001b[38;5;241m=\u001b[39m\u001b[38;5;28mself\u001b[39m\u001b[38;5;241m.\u001b[39mweight,\n\u001b[1;32m    255\u001b[0m         ignore_index\u001b[38;5;241m=\u001b[39m\u001b[38;5;28mself\u001b[39m\u001b[38;5;241m.\u001b[39mignore_index,\n\u001b[1;32m    256\u001b[0m         reduction\u001b[38;5;241m=\u001b[39m\u001b[38;5;28mself\u001b[39m\u001b[38;5;241m.\u001b[39mreduction,\n\u001b[1;32m    257\u001b[0m     )\n",
      "File \u001b[0;32m~/anaconda3/lib/python3.12/site-packages/torch/nn/functional.py:3148\u001b[0m, in \u001b[0;36mnll_loss\u001b[0;34m(input, target, weight, size_average, ignore_index, reduce, reduction)\u001b[0m\n\u001b[1;32m   3146\u001b[0m \u001b[38;5;28;01mif\u001b[39;00m size_average \u001b[38;5;129;01mis\u001b[39;00m \u001b[38;5;129;01mnot\u001b[39;00m \u001b[38;5;28;01mNone\u001b[39;00m \u001b[38;5;129;01mor\u001b[39;00m reduce \u001b[38;5;129;01mis\u001b[39;00m \u001b[38;5;129;01mnot\u001b[39;00m \u001b[38;5;28;01mNone\u001b[39;00m:\n\u001b[1;32m   3147\u001b[0m     reduction \u001b[38;5;241m=\u001b[39m _Reduction\u001b[38;5;241m.\u001b[39mlegacy_get_string(size_average, reduce)\n\u001b[0;32m-> 3148\u001b[0m \u001b[38;5;28;01mreturn\u001b[39;00m torch\u001b[38;5;241m.\u001b[39m_C\u001b[38;5;241m.\u001b[39m_nn\u001b[38;5;241m.\u001b[39mnll_loss_nd(\n\u001b[1;32m   3149\u001b[0m     \u001b[38;5;28minput\u001b[39m, target, weight, _Reduction\u001b[38;5;241m.\u001b[39mget_enum(reduction), ignore_index\n\u001b[1;32m   3150\u001b[0m )\n",
      "\u001b[0;31mRuntimeError\u001b[0m: size mismatch (got input: [2], target: [32])"
     ]
    }
   ],
   "source": [
    "import torch\n",
    "from torch_geometric.data import Data, Dataset, DataLoader\n",
    "import pandas as pd\n",
    "import numpy as np\n",
    "import torch.nn.functional as F\n",
    "from torch.nn import Linear\n",
    "from torch_geometric.nn import GCNConv\n",
    "\n",
    "# Constants\n",
    "DELTA_R_THRESHOLD = 0.4\n",
    "\n",
    "# Function to create a graph for a single event\n",
    "def create_graph(event_data):\n",
    "    \"\"\"\n",
    "    Create a graph for a single event.\n",
    "    Jets are nodes, and edges are created based on ΔR proximity.\n",
    "    \"\"\"\n",
    "    # Extract node features (jet properties)\n",
    "    node_features = torch.tensor(event_data[[\"jet_pt\", \"jet_eta\", \"jet_phi\", \"jet_mass\", \"jet_EbyM\"]].values, dtype=torch.float)\n",
    "    \n",
    "    # Extract jet positions for edge creation\n",
    "    eta = event_data[\"jet_eta\"].values\n",
    "    phi = event_data[\"jet_phi\"].values\n",
    "    num_jets = len(eta)\n",
    "    \n",
    "    # Create edges based on ΔR < threshold\n",
    "    edge_index = []\n",
    "    for i in range(num_jets):\n",
    "        for j in range(i + 1, num_jets):\n",
    "            delta_eta = eta[i] - eta[j]\n",
    "            delta_phi = np.abs(phi[i] - phi[j])\n",
    "            if delta_phi > np.pi:\n",
    "                delta_phi = 2 * np.pi - delta_phi\n",
    "            delta_r = np.sqrt(delta_eta**2 + delta_phi**2)\n",
    "            if delta_r < DELTA_R_THRESHOLD:\n",
    "                edge_index.append([i, j])\n",
    "                edge_index.append([j, i])  # Undirected graph\n",
    "    \n",
    "    # Convert edge index to tensor\n",
    "    if len(edge_index) > 0:\n",
    "        edge_index = torch.tensor(edge_index, dtype=torch.long).t().contiguous()\n",
    "    else:\n",
    "        edge_index = torch.empty((2, 0), dtype=torch.long)  # No edges\n",
    "    \n",
    "    # Event label (signal or background)\n",
    "    label = torch.tensor([event_data[\"signal_or_background\"].iloc[0]], dtype=torch.long)\n",
    "    \n",
    "    # Create a PyTorch Geometric Data object\n",
    "    graph = Data(x=node_features, edge_index=edge_index, y=label)\n",
    "    return graph\n",
    "\n",
    "# Custom Dataset Class\n",
    "class JetGraphDataset(Dataset):\n",
    "    def __init__(self, csv_file):\n",
    "        \"\"\"\n",
    "        Initialize the dataset by loading the CSV file.\n",
    "        \"\"\"\n",
    "        self.data = pd.read_csv(csv_file)\n",
    "        self.events = self.data[\"event_no\"].unique()\n",
    "\n",
    "    def len(self):\n",
    "        return len(self.events)\n",
    "\n",
    "    def get(self, idx):\n",
    "        \"\"\"\n",
    "        Generate a graph for the idx-th event.\n",
    "        \"\"\"\n",
    "        event_no = self.events[idx]\n",
    "        event_data = self.data[self.data[\"event_no\"] == event_no]\n",
    "        return create_graph(event_data)\n",
    "\n",
    "    def indices(self):\n",
    "        \"\"\"\n",
    "        Return a range of indices for the dataset.\n",
    "        \"\"\"\n",
    "        return range(self.len())\n",
    "\n",
    "    def transform(self, data):\n",
    "        \"\"\"\n",
    "        Placeholder transform method (can be customized).\n",
    "        \"\"\"\n",
    "        return data\n",
    "\n",
    "# Define a GCN Model\n",
    "class GCN(torch.nn.Module):\n",
    "    def __init__(self, input_dim, hidden_dim, output_dim):\n",
    "        super(GCN, self).__init__()\n",
    "        self.gcn1 = GCNConv(input_dim, hidden_dim)\n",
    "        self.gcn2 = GCNConv(hidden_dim, hidden_dim)\n",
    "        self.fc = Linear(hidden_dim, output_dim)\n",
    "\n",
    "    def forward(self, data):\n",
    "        \"\"\"\n",
    "        Forward pass for a batch of graphs.\n",
    "        \"\"\"\n",
    "        x, edge_index = data.x, data.edge_index\n",
    "        x = F.relu(self.gcn1(x, edge_index))  # Apply GCNConv + ReLU activation\n",
    "        x = F.relu(self.gcn2(x, edge_index))  # Apply second GCNConv + ReLU activation\n",
    "        x = torch.mean(x, dim=0)  # Graph-level representation (pooling)\n",
    "        x = self.fc(x)  # Output layer\n",
    "        return F.log_softmax(x, dim=0)\n",
    "\n",
    "# Main Training Pipeline\n",
    "def train_model(csv_file, num_epochs=10, batch_size=32, learning_rate=0.01):\n",
    "    # Load dataset and dataloader\n",
    "    dataset = JetGraphDataset(csv_file)\n",
    "    dataloader = DataLoader(dataset, batch_size=batch_size, shuffle=True)\n",
    "\n",
    "    # Model, optimizer, and loss function\n",
    "    model = GCN(input_dim=5, hidden_dim=32, output_dim=2)\n",
    "    optimizer = torch.optim.Adam(model.parameters(), lr=learning_rate)\n",
    "    loss_fn = torch.nn.NLLLoss()  # Negative Log-Likelihood Loss for classification\n",
    "\n",
    "    # Training loop\n",
    "    model.train()\n",
    "    for epoch in range(num_epochs):\n",
    "        total_loss = 0\n",
    "        for batch in dataloader:\n",
    "            optimizer.zero_grad()\n",
    "            batch = batch.to('cpu')  # Ensure data is on the correct device\n",
    "            out = model(batch)\n",
    "            loss = loss_fn(out, batch.y)  # Batch labels as targets\n",
    "            loss.backward()\n",
    "            optimizer.step()\n",
    "            total_loss += loss.item()\n",
    "        print(f\"Epoch {epoch + 1}/{num_epochs}, Loss: {total_loss:.4f}\")\n",
    "\n",
    "    print(\"Training complete!\")\n",
    "    return model\n",
    "\n",
    "# Example Usage\n",
    "if __name__ == \"__main__\":\n",
    "    csv_file_path = \"/home/sandeep-sharma/Desktop/project2/jet_data.csv\"  # Replace with your dataset path\n",
    "    trained_model = train_model(csv_file_path, num_epochs=10, batch_size=32, learning_rate=0.01)\n"
   ]
  },
  {
   "cell_type": "code",
   "execution_count": 20,
   "metadata": {
    "id": "h-WGyVIzlqoI"
   },
   "outputs": [],
   "source": [
    "from sklearn.preprocessing import MinMaxScaler\n",
    "\n",
    "dataframes = []\n",
    "\n",
    "# Looping through each event\n",
    "for event_no, (jets_pt, jets_eta, jets_phi, jet_mass) in enumerate(zip(jet_pt, jet_eta, jet_phi, jet_mass), start=1):\n",
    "    # Create a DataFrame for each event\n",
    "    event_df = pd.DataFrame({\n",
    "        'event_no': [event_no] * len(jets_pt),  # Event number for each jet\n",
    "        'jet_no': list(range(1, len(jets_pt) + 1)),  # Jet number\n",
    "        'jet_pt': jets_pt,  # Jet transverse momentum\n",
    "        'jet_eta': jets_eta,  # Jet pseudorapidity\n",
    "        'jet_phi': jets_phi,  # Jet azimuthal angle\n",
    "        'jet_mass': jet_mass  # Jet mass\n",
    "    })\n",
    "    dataframes.append(event_df)\n",
    "\n",
    "# Concatenating all DataFrames into a single DataFrame\n",
    "final_df = pd.concat(dataframes, ignore_index=True)\n",
    "\n",
    "# Normalize jet properties\n",
    "#scaler = MinMaxScaler()\n",
    "#final_df[['jet_pt', 'jet_eta', 'jet_phi','jet_mass']] = scaler.fit_transform(final_df[['jet_pt', 'jet_eta', 'jet_phi','jet_mass']])\n",
    "\n",
    "distance_threshold = 0.5  \n",
    "all_graphs = []\n",
    "\n",
    "for event_no in final_df['event_no'].unique():\n",
    "    event_data = final_df[final_df['event_no'] == event_no]\n",
    "    G_event = nx.Graph()\n",
    "\n",
    "    # Add nodes for each jet in the event\n",
    "    for idx, row in event_data.iterrows():\n",
    "        G_event.add_node(row['jet_no'], pt=row['jet_pt'], eta=row['jet_eta'], phi=row['jet_phi'])\n",
    "\n",
    "    # Add edges based on distance\n",
    "    for i in range(len(event_data)):\n",
    "        for j in range(i + 1, len(event_data)):\n",
    "            # Calculate distance (using normalized pt, eta, phi)\n",
    "            pt1, eta1, phi1 = event_data.iloc[i][['jet_pt', 'jet_eta', 'jet_phi']]\n",
    "            pt2, eta2, phi2 = event_data.iloc[j][['jet_pt', 'jet_eta', 'jet_phi']]\n",
    "            distance = ((eta1 - eta2)**2 + (phi1 - phi2)**2 + (pt1 - pt2)**2)**0.5\n",
    "\n",
    "            if distance < distance_threshold:\n",
    "                G_event.add_edge(event_data.iloc[i]['jet_no'], event_data.iloc[j]['jet_no'])\n",
    "\n",
    "    all_graphs.append(G_event)\n"
   ]
  },
  {
   "cell_type": "code",
   "execution_count": 21,
   "metadata": {
    "id": "h--Rf-1ztFu1"
   },
   "outputs": [
    {
     "data": {
      "text/html": [
       "<div>\n",
       "<style scoped>\n",
       "    .dataframe tbody tr th:only-of-type {\n",
       "        vertical-align: middle;\n",
       "    }\n",
       "\n",
       "    .dataframe tbody tr th {\n",
       "        vertical-align: top;\n",
       "    }\n",
       "\n",
       "    .dataframe thead th {\n",
       "        text-align: right;\n",
       "    }\n",
       "</style>\n",
       "<table border=\"1\" class=\"dataframe\">\n",
       "  <thead>\n",
       "    <tr style=\"text-align: right;\">\n",
       "      <th></th>\n",
       "      <th>event_no</th>\n",
       "      <th>jet_no</th>\n",
       "      <th>jet_pt</th>\n",
       "      <th>jet_eta</th>\n",
       "      <th>jet_phi</th>\n",
       "      <th>jet_mass</th>\n",
       "    </tr>\n",
       "  </thead>\n",
       "  <tbody>\n",
       "    <tr>\n",
       "      <th>0</th>\n",
       "      <td>1</td>\n",
       "      <td>1</td>\n",
       "      <td>168.948029</td>\n",
       "      <td>-1.806623</td>\n",
       "      <td>-2.031107</td>\n",
       "      <td>46.233925</td>\n",
       "    </tr>\n",
       "    <tr>\n",
       "      <th>1</th>\n",
       "      <td>1</td>\n",
       "      <td>2</td>\n",
       "      <td>130.779541</td>\n",
       "      <td>-1.273731</td>\n",
       "      <td>-2.969492</td>\n",
       "      <td>19.038677</td>\n",
       "    </tr>\n",
       "    <tr>\n",
       "      <th>2</th>\n",
       "      <td>1</td>\n",
       "      <td>3</td>\n",
       "      <td>98.353188</td>\n",
       "      <td>-1.665545</td>\n",
       "      <td>1.773501</td>\n",
       "      <td>13.042610</td>\n",
       "    </tr>\n",
       "    <tr>\n",
       "      <th>3</th>\n",
       "      <td>1</td>\n",
       "      <td>4</td>\n",
       "      <td>78.188454</td>\n",
       "      <td>-0.760060</td>\n",
       "      <td>0.281581</td>\n",
       "      <td>9.643224</td>\n",
       "    </tr>\n",
       "    <tr>\n",
       "      <th>4</th>\n",
       "      <td>1</td>\n",
       "      <td>5</td>\n",
       "      <td>51.535923</td>\n",
       "      <td>-0.745683</td>\n",
       "      <td>1.732738</td>\n",
       "      <td>8.544092</td>\n",
       "    </tr>\n",
       "  </tbody>\n",
       "</table>\n",
       "</div>"
      ],
      "text/plain": [
       "   event_no  jet_no      jet_pt   jet_eta   jet_phi   jet_mass\n",
       "0         1       1  168.948029 -1.806623 -2.031107  46.233925\n",
       "1         1       2  130.779541 -1.273731 -2.969492  19.038677\n",
       "2         1       3   98.353188 -1.665545  1.773501  13.042610\n",
       "3         1       4   78.188454 -0.760060  0.281581   9.643224\n",
       "4         1       5   51.535923 -0.745683  1.732738   8.544092"
      ]
     },
     "execution_count": 21,
     "metadata": {},
     "output_type": "execute_result"
    }
   ],
   "source": [
    "final_df.head()"
   ]
  },
  {
   "cell_type": "code",
   "execution_count": 23,
   "metadata": {
    "colab": {
     "base_uri": "https://localhost:8080/",
     "height": 1000
    },
    "id": "BFt4i5Sdshkl",
    "outputId": "b0a688d6-49a8-4407-f11a-a8d5d3e0c267"
   },
   "outputs": [
    {
     "data": {
      "image/png": "[encoded data removed]",
      "text/plain": [
       "<Figure size 600x400 with 1 Axes>"
      ]
     },
     "metadata": {},
     "output_type": "display_data"
    },
    {
     "data": {
      "image/png": "[encoded data removed]",
      "text/plain": [
       "<Figure size 600x400 with 1 Axes>"
      ]
     },
     "metadata": {},
     "output_type": "display_data"
    },
    {
     "data": {
      "image/png": "[encoded data removed]",
      "text/plain": [
       "<Figure size 600x400 with 1 Axes>"
      ]
     },
     "metadata": {},
     "output_type": "display_data"
    },
    {
     "data": {
      "image/png": "[encoded data removed]",
      "text/plain": [
       "<Figure size 600x400 with 1 Axes>"
      ]
     },
     "metadata": {},
     "output_type": "display_data"
    },
    {
     "data": {
      "image/png": "[encoded data removed]",
      "text/plain": [
       "<Figure size 600x400 with 1 Axes>"
      ]
     },
     "metadata": {},
     "output_type": "display_data"
    },
    {
     "data": {
      "image/png": "[encoded data removed]",
      "text/plain": [
       "<Figure size 600x400 with 1 Axes>"
      ]
     },
     "metadata": {},
     "output_type": "display_data"
    }
   ],
   "source": [
    "# Now `all_graphs` contains separate graphs for each event\n",
    "for i, G_event in enumerate(all_graphs[0:6]):\n",
    "    plt.figure(figsize=(6,4))\n",
    "    pos = nx.spring_layout(G_event)\n",
    "    node_sizes = [G_event.degree(n) * 100 for n in G_event.nodes()]  # Adjust node size by degree\n",
    "    node_colors = [G_event.nodes[n]['pt'] for n in G_event.nodes()]  # Color nodes by pt\n",
    "\n",
    "    # Draw edges\n",
    "    nx.draw_networkx_edges(G_event, pos, alpha=0.5, edge_color='gray')\n",
    "\n",
    "    # Draw labels\n",
    "    nx.draw_networkx_labels(G_event, pos)\n",
    "    plt.title(f'Jet Connectivity Graph for Event {i+1}')\n",
    "\n",
    "plt.show()"
   ]
  },
  {
   "cell_type": "code",
   "execution_count": 24,
   "metadata": {
    "id": "SVoMoTL-GWrw"
   },
   "outputs": [],
   "source": [
    "for G_event in all_graphs:\n",
    "    # Create and attach the adjacency matrix as an attribute to the graph\n",
    "    G_event.graph['adjacency_matrix'] = nx.to_numpy_array(G_event, nodelist=sorted(G_event.nodes()), weight=\"weight\")\n"
   ]
  },
  {
   "cell_type": "code",
   "execution_count": 28,
   "metadata": {},
   "outputs": [
    {
     "name": "stdout",
     "output_type": "stream",
     "text": [
      "[[0. 0. 0. 0. 0. 0. 0.]\n",
      " [0. 0. 0. 0. 0. 0. 0.]\n",
      " [0. 0. 0. 0. 0. 0. 0.]\n",
      " [0. 0. 0. 0. 0. 0. 0.]\n",
      " [0. 0. 0. 0. 0. 0. 0.]\n",
      " [0. 0. 0. 0. 0. 0. 0.]\n",
      " [0. 0. 0. 0. 0. 0. 0.]]\n",
      "[[0. 0. 0. 0. 0. 0. 0. 0. 0. 0. 0.]\n",
      " [0. 0. 0. 0. 0. 0. 0. 0. 0. 0. 0.]\n",
      " [0. 0. 0. 0. 0. 0. 0. 0. 0. 0. 0.]\n",
      " [0. 0. 0. 0. 0. 0. 0. 0. 0. 0. 0.]\n",
      " [0. 0. 0. 0. 0. 0. 0. 0. 0. 0. 0.]\n",
      " [0. 0. 0. 0. 0. 0. 0. 0. 0. 0. 0.]\n",
      " [0. 0. 0. 0. 0. 0. 0. 0. 0. 0. 0.]\n",
      " [0. 0. 0. 0. 0. 0. 0. 0. 0. 0. 0.]\n",
      " [0. 0. 0. 0. 0. 0. 0. 0. 0. 0. 0.]\n",
      " [0. 0. 0. 0. 0. 0. 0. 0. 0. 0. 0.]\n",
      " [0. 0. 0. 0. 0. 0. 0. 0. 0. 0. 0.]]\n",
      "[[0. 0. 0. 0. 0. 0. 0. 0. 0. 0. 0. 0.]\n",
      " [0. 0. 0. 0. 0. 0. 0. 0. 0. 0. 0. 0.]\n",
      " [0. 0. 0. 0. 0. 0. 0. 0. 0. 0. 0. 0.]\n",
      " [0. 0. 0. 0. 0. 0. 0. 0. 0. 0. 0. 0.]\n",
      " [0. 0. 0. 0. 0. 0. 0. 0. 0. 0. 0. 0.]\n",
      " [0. 0. 0. 0. 0. 0. 0. 0. 0. 0. 0. 0.]\n",
      " [0. 0. 0. 0. 0. 0. 0. 0. 0. 0. 0. 0.]\n",
      " [0. 0. 0. 0. 0. 0. 0. 0. 0. 0. 0. 0.]\n",
      " [0. 0. 0. 0. 0. 0. 0. 0. 0. 0. 0. 0.]\n",
      " [0. 0. 0. 0. 0. 0. 0. 0. 0. 0. 0. 0.]\n",
      " [0. 0. 0. 0. 0. 0. 0. 0. 0. 0. 0. 0.]\n",
      " [0. 0. 0. 0. 0. 0. 0. 0. 0. 0. 0. 0.]]\n",
      "[[0. 0. 0. 0. 0. 0. 0. 0.]\n",
      " [0. 0. 0. 0. 0. 0. 0. 0.]\n",
      " [0. 0. 0. 0. 0. 0. 0. 0.]\n",
      " [0. 0. 0. 0. 0. 0. 0. 0.]\n",
      " [0. 0. 0. 0. 0. 0. 0. 0.]\n",
      " [0. 0. 0. 0. 0. 0. 0. 0.]\n",
      " [0. 0. 0. 0. 0. 0. 0. 0.]\n",
      " [0. 0. 0. 0. 0. 0. 0. 0.]]\n",
      "[[0. 0. 0. 0. 0. 0. 0.]\n",
      " [0. 0. 0. 0. 0. 0. 0.]\n",
      " [0. 0. 0. 0. 0. 0. 0.]\n",
      " [0. 0. 0. 0. 0. 0. 0.]\n",
      " [0. 0. 0. 0. 0. 0. 0.]\n",
      " [0. 0. 0. 0. 0. 0. 0.]\n",
      " [0. 0. 0. 0. 0. 0. 0.]]\n",
      "[[0. 0. 0. 0. 0.]\n",
      " [0. 0. 0. 0. 0.]\n",
      " [0. 0. 0. 0. 0.]\n",
      " [0. 0. 0. 0. 0.]\n",
      " [0. 0. 0. 0. 0.]]\n",
      "[[0. 0. 0. 0. 0. 0. 0. 0. 0. 0. 0.]\n",
      " [0. 0. 0. 0. 0. 0. 0. 0. 0. 0. 0.]\n",
      " [0. 0. 0. 0. 0. 0. 0. 0. 0. 0. 0.]\n",
      " [0. 0. 0. 0. 0. 0. 0. 0. 0. 0. 0.]\n",
      " [0. 0. 0. 0. 0. 0. 0. 0. 0. 0. 0.]\n",
      " [0. 0. 0. 0. 0. 0. 0. 0. 0. 0. 0.]\n",
      " [0. 0. 0. 0. 0. 0. 0. 0. 0. 0. 0.]\n",
      " [0. 0. 0. 0. 0. 0. 0. 0. 0. 0. 0.]\n",
      " [0. 0. 0. 0. 0. 0. 0. 0. 0. 0. 0.]\n",
      " [0. 0. 0. 0. 0. 0. 0. 0. 0. 0. 0.]\n",
      " [0. 0. 0. 0. 0. 0. 0. 0. 0. 0. 0.]]\n",
      "[[0. 0. 0. 0. 0. 0. 0. 0.]\n",
      " [0. 0. 0. 0. 0. 0. 0. 0.]\n",
      " [0. 0. 0. 0. 0. 0. 0. 0.]\n",
      " [0. 0. 0. 0. 0. 0. 0. 0.]\n",
      " [0. 0. 0. 0. 0. 0. 0. 0.]\n",
      " [0. 0. 0. 0. 0. 0. 0. 0.]\n",
      " [0. 0. 0. 0. 0. 0. 0. 0.]\n",
      " [0. 0. 0. 0. 0. 0. 0. 0.]]\n",
      "[[0. 0. 0. 0. 0. 0. 0. 0. 0. 0. 0. 0.]\n",
      " [0. 0. 0. 0. 0. 0. 0. 0. 0. 0. 0. 0.]\n",
      " [0. 0. 0. 0. 0. 0. 0. 0. 0. 0. 0. 0.]\n",
      " [0. 0. 0. 0. 0. 0. 0. 0. 0. 0. 0. 0.]\n",
      " [0. 0. 0. 0. 0. 0. 0. 0. 0. 0. 0. 0.]\n",
      " [0. 0. 0. 0. 0. 0. 0. 0. 0. 0. 0. 0.]\n",
      " [0. 0. 0. 0. 0. 0. 0. 0. 0. 0. 0. 0.]\n",
      " [0. 0. 0. 0. 0. 0. 0. 0. 0. 0. 0. 0.]\n",
      " [0. 0. 0. 0. 0. 0. 0. 0. 0. 0. 0. 0.]\n",
      " [0. 0. 0. 0. 0. 0. 0. 0. 0. 0. 0. 0.]\n",
      " [0. 0. 0. 0. 0. 0. 0. 0. 0. 0. 0. 0.]\n",
      " [0. 0. 0. 0. 0. 0. 0. 0. 0. 0. 0. 0.]]\n",
      "[[0. 0. 0. 0. 0. 0. 0. 0. 0. 0.]\n",
      " [0. 0. 0. 0. 0. 0. 0. 0. 0. 0.]\n",
      " [0. 0. 0. 0. 0. 0. 0. 0. 0. 0.]\n",
      " [0. 0. 0. 0. 0. 0. 0. 0. 0. 0.]\n",
      " [0. 0. 0. 0. 0. 0. 0. 0. 0. 0.]\n",
      " [0. 0. 0. 0. 0. 0. 0. 0. 0. 0.]\n",
      " [0. 0. 0. 0. 0. 0. 0. 0. 0. 0.]\n",
      " [0. 0. 0. 0. 0. 0. 0. 0. 0. 0.]\n",
      " [0. 0. 0. 0. 0. 0. 0. 0. 0. 0.]\n",
      " [0. 0. 0. 0. 0. 0. 0. 0. 0. 0.]]\n",
      "[[0. 0. 0. 0. 0. 0. 0. 0.]\n",
      " [0. 0. 0. 0. 0. 0. 0. 0.]\n",
      " [0. 0. 0. 0. 0. 0. 0. 0.]\n",
      " [0. 0. 0. 0. 0. 0. 0. 0.]\n",
      " [0. 0. 0. 0. 0. 0. 0. 0.]\n",
      " [0. 0. 0. 0. 0. 0. 0. 0.]\n",
      " [0. 0. 0. 0. 0. 0. 0. 0.]\n",
      " [0. 0. 0. 0. 0. 0. 0. 0.]]\n",
      "[[0. 0. 0. 0. 0. 0. 0. 0. 0. 0.]\n",
      " [0. 0. 0. 0. 0. 0. 0. 0. 0. 0.]\n",
      " [0. 0. 0. 0. 0. 0. 0. 0. 0. 0.]\n",
      " [0. 0. 0. 0. 0. 0. 0. 0. 0. 0.]\n",
      " [0. 0. 0. 0. 0. 0. 0. 0. 0. 0.]\n",
      " [0. 0. 0. 0. 0. 0. 0. 0. 0. 0.]\n",
      " [0. 0. 0. 0. 0. 0. 0. 0. 0. 0.]\n",
      " [0. 0. 0. 0. 0. 0. 0. 0. 0. 0.]\n",
      " [0. 0. 0. 0. 0. 0. 0. 0. 0. 0.]\n",
      " [0. 0. 0. 0. 0. 0. 0. 0. 0. 0.]]\n",
      "[[0. 0. 0. 0. 0. 0. 0. 0. 0.]\n",
      " [0. 0. 0. 0. 0. 0. 0. 0. 0.]\n",
      " [0. 0. 0. 0. 0. 0. 0. 0. 0.]\n",
      " [0. 0. 0. 0. 0. 0. 0. 0. 0.]\n",
      " [0. 0. 0. 0. 0. 0. 0. 0. 0.]\n",
      " [0. 0. 0. 0. 0. 0. 0. 0. 0.]\n",
      " [0. 0. 0. 0. 0. 0. 0. 0. 0.]\n",
      " [0. 0. 0. 0. 0. 0. 0. 0. 0.]\n",
      " [0. 0. 0. 0. 0. 0. 0. 0. 0.]]\n",
      "[[0. 0. 0. 0. 0. 0. 0.]\n",
      " [0. 0. 0. 0. 0. 0. 0.]\n",
      " [0. 0. 0. 0. 0. 0. 0.]\n",
      " [0. 0. 0. 0. 0. 0. 0.]\n",
      " [0. 0. 0. 0. 0. 0. 0.]\n",
      " [0. 0. 0. 0. 0. 0. 0.]\n",
      " [0. 0. 0. 0. 0. 0. 0.]]\n",
      "[[0. 0. 0. 0. 0. 0. 0. 0. 0. 0. 0.]\n",
      " [0. 0. 0. 0. 0. 0. 0. 0. 0. 0. 0.]\n",
      " [0. 0. 0. 0. 0. 0. 0. 0. 0. 0. 0.]\n",
      " [0. 0. 0. 0. 0. 0. 0. 0. 0. 0. 0.]\n",
      " [0. 0. 0. 0. 0. 0. 0. 0. 0. 0. 0.]\n",
      " [0. 0. 0. 0. 0. 0. 0. 0. 0. 0. 0.]\n",
      " [0. 0. 0. 0. 0. 0. 0. 0. 0. 0. 0.]\n",
      " [0. 0. 0. 0. 0. 0. 0. 0. 0. 0. 0.]\n",
      " [0. 0. 0. 0. 0. 0. 0. 0. 0. 0. 0.]\n",
      " [0. 0. 0. 0. 0. 0. 0. 0. 0. 0. 0.]\n",
      " [0. 0. 0. 0. 0. 0. 0. 0. 0. 0. 0.]]\n"
     ]
    }
   ],
   "source": [
    "for G_event in all_graphs[0:15]:\n",
    "    adjacency_matrix = G_event.graph['adjacency_matrix']\n",
    "    print(adjacency_matrix)\n"
   ]
  },
  {
   "cell_type": "code",
   "execution_count": 27,
   "metadata": {},
   "outputs": [],
   "source": [
    "import numpy as np\n",
    "\n",
    "# Step 1: Determine the maximum number of jets in any event\n",
    "max_jets = max(len(G_event.nodes) for G_event in all_graphs)\n",
    "\n",
    "# Step 2: Pad each adjacency matrix to match the max_jets dimension\n",
    "padded_adjacency_matrices = []\n",
    "\n",
    "for G_event in all_graphs:\n",
    "    # Get the adjacency matrix for the current graph\n",
    "    adjacency_matrix = nx.to_numpy_array(G_event, nodelist=sorted(G_event.nodes()), weight=\"weight\")\n",
    "    \n",
    "    # Get the current number of jets for this event\n",
    "    num_jets = adjacency_matrix.shape[0]\n",
    "    \n",
    "    # If the matrix is smaller than max_jets, pad it\n",
    "    if num_jets < max_jets:\n",
    "        padded_matrix = np.zeros((max_jets, max_jets))\n",
    "        padded_matrix[:num_jets, :num_jets] = adjacency_matrix\n",
    "    else:\n",
    "        padded_matrix = adjacency_matrix\n",
    "    \n",
    "    padded_adjacency_matrices.append(padded_matrix)\n",
    "\n",
    "# Now `padded_adjacency_matrices` contains square matrices of shape (max_jets, max_jets) for each event\n"
   ]
  },
  {
   "cell_type": "code",
   "execution_count": 23,
   "metadata": {},
   "outputs": [
    {
     "data": {
      "text/plain": [
       "[array([[0., 1., 0., 0., 1., 0., 0., 0., 0., 0., 0., 0., 0., 0., 0.],\n",
       "        [1., 0., 1., 0., 0., 0., 0., 0., 0., 0., 0., 0., 0., 0., 0.],\n",
       "        [0., 1., 0., 0., 1., 0., 0., 0., 0., 0., 0., 0., 0., 0., 0.],\n",
       "        [0., 0., 0., 0., 1., 1., 1., 0., 1., 0., 0., 0., 0., 0., 0.],\n",
       "        [1., 0., 1., 1., 0., 1., 0., 1., 1., 0., 0., 0., 0., 0., 0.],\n",
       "        [0., 0., 0., 1., 1., 0., 1., 1., 1., 0., 0., 0., 0., 0., 0.],\n",
       "        [0., 0., 0., 1., 0., 1., 0., 0., 1., 0., 0., 0., 0., 0., 0.],\n",
       "        [0., 0., 0., 0., 1., 1., 0., 0., 1., 0., 0., 0., 0., 0., 0.],\n",
       "        [0., 0., 0., 1., 1., 1., 1., 1., 0., 0., 0., 0., 0., 0., 0.],\n",
       "        [0., 0., 0., 0., 0., 0., 0., 0., 0., 0., 0., 0., 0., 0., 0.],\n",
       "        [0., 0., 0., 0., 0., 0., 0., 0., 0., 0., 0., 0., 0., 0., 0.],\n",
       "        [0., 0., 0., 0., 0., 0., 0., 0., 0., 0., 0., 0., 0., 0., 0.],\n",
       "        [0., 0., 0., 0., 0., 0., 0., 0., 0., 0., 0., 0., 0., 0., 0.],\n",
       "        [0., 0., 0., 0., 0., 0., 0., 0., 0., 0., 0., 0., 0., 0., 0.],\n",
       "        [0., 0., 0., 0., 0., 0., 0., 0., 0., 0., 0., 0., 0., 0., 0.]]),\n",
       " array([[0., 0., 0., 1., 0., 0., 1., 1., 0., 0., 0., 0., 0., 0., 0.],\n",
       "        [0., 0., 1., 0., 1., 1., 0., 0., 0., 0., 0., 0., 0., 0., 0.],\n",
       "        [0., 1., 0., 0., 1., 1., 1., 0., 0., 0., 1., 0., 0., 0., 0.],\n",
       "        [1., 0., 0., 0., 1., 0., 1., 1., 1., 1., 0., 0., 0., 0., 0.],\n",
       "        [0., 1., 1., 1., 0., 1., 1., 1., 0., 0., 1., 0., 0., 0., 0.],\n",
       "        [0., 1., 1., 0., 1., 0., 1., 0., 0., 0., 1., 0., 0., 0., 0.],\n",
       "        [1., 0., 1., 1., 1., 1., 0., 1., 1., 0., 0., 0., 0., 0., 0.],\n",
       "        [1., 0., 0., 1., 1., 0., 1., 0., 1., 1., 1., 0., 0., 0., 0.],\n",
       "        [0., 0., 0., 1., 0., 0., 1., 1., 0., 1., 0., 0., 0., 0., 0.],\n",
       "        [0., 0., 0., 1., 0., 0., 0., 1., 1., 0., 0., 0., 0., 0., 0.],\n",
       "        [0., 0., 1., 0., 1., 1., 0., 1., 0., 0., 0., 0., 0., 0., 0.],\n",
       "        [0., 0., 0., 0., 0., 0., 0., 0., 0., 0., 0., 0., 0., 0., 0.],\n",
       "        [0., 0., 0., 0., 0., 0., 0., 0., 0., 0., 0., 0., 0., 0., 0.],\n",
       "        [0., 0., 0., 0., 0., 0., 0., 0., 0., 0., 0., 0., 0., 0., 0.],\n",
       "        [0., 0., 0., 0., 0., 0., 0., 0., 0., 0., 0., 0., 0., 0., 0.]]),\n",
       " array([[0., 0., 0., 1., 1., 0., 1., 1., 0., 0., 0., 0., 0., 0., 0.],\n",
       "        [0., 0., 1., 0., 0., 0., 0., 0., 0., 0., 0., 0., 0., 0., 0.],\n",
       "        [0., 1., 0., 1., 0., 1., 0., 0., 0., 0., 0., 0., 0., 0., 0.],\n",
       "        [1., 0., 1., 0., 1., 1., 1., 1., 0., 0., 0., 0., 0., 0., 0.],\n",
       "        [1., 0., 0., 1., 0., 0., 1., 1., 0., 0., 0., 0., 0., 0., 0.],\n",
       "        [0., 0., 1., 1., 0., 0., 1., 1., 0., 0., 0., 0., 0., 0., 0.],\n",
       "        [1., 0., 0., 1., 1., 1., 0., 1., 0., 0., 0., 0., 0., 0., 0.],\n",
       "        [1., 0., 0., 1., 1., 1., 1., 0., 0., 0., 0., 0., 0., 0., 0.],\n",
       "        [0., 0., 0., 0., 0., 0., 0., 0., 0., 0., 0., 0., 0., 0., 0.],\n",
       "        [0., 0., 0., 0., 0., 0., 0., 0., 0., 0., 0., 0., 0., 0., 0.],\n",
       "        [0., 0., 0., 0., 0., 0., 0., 0., 0., 0., 0., 0., 0., 0., 0.],\n",
       "        [0., 0., 0., 0., 0., 0., 0., 0., 0., 0., 0., 0., 0., 0., 0.],\n",
       "        [0., 0., 0., 0., 0., 0., 0., 0., 0., 0., 0., 0., 0., 0., 0.],\n",
       "        [0., 0., 0., 0., 0., 0., 0., 0., 0., 0., 0., 0., 0., 0., 0.],\n",
       "        [0., 0., 0., 0., 0., 0., 0., 0., 0., 0., 0., 0., 0., 0., 0.]]),\n",
       " array([[0., 0., 0., 0., 0., 0., 0., 0., 0., 0., 0., 0., 0., 0., 0.],\n",
       "        [0., 0., 1., 0., 1., 0., 1., 0., 1., 1., 1., 0., 0., 0., 1.],\n",
       "        [0., 1., 0., 1., 1., 1., 1., 1., 1., 0., 1., 0., 1., 0., 0.],\n",
       "        [0., 0., 1., 0., 0., 1., 1., 1., 1., 0., 0., 1., 1., 0., 0.],\n",
       "        [0., 1., 1., 0., 0., 0., 1., 0., 0., 0., 1., 0., 0., 1., 0.],\n",
       "        [0., 0., 1., 1., 0., 0., 1., 0., 1., 0., 0., 1., 1., 0., 0.],\n",
       "        [0., 1., 1., 1., 1., 1., 0., 0., 1., 1., 1., 0., 0., 0., 1.],\n",
       "        [0., 0., 1., 1., 0., 0., 0., 0., 0., 0., 0., 0., 0., 1., 0.],\n",
       "        [0., 1., 1., 1., 0., 1., 1., 0., 0., 1., 1., 0., 0., 0., 1.],\n",
       "        [0., 1., 0., 0., 0., 0., 1., 0., 1., 0., 1., 0., 0., 0., 1.],\n",
       "        [0., 1., 1., 0., 1., 0., 1., 0., 1., 1., 0., 0., 0., 1., 0.],\n",
       "        [0., 0., 0., 1., 0., 1., 0., 0., 0., 0., 0., 0., 1., 0., 0.],\n",
       "        [0., 0., 1., 1., 0., 1., 0., 0., 0., 0., 0., 1., 0., 0., 0.],\n",
       "        [0., 0., 0., 0., 1., 0., 0., 1., 0., 0., 1., 0., 0., 0., 0.],\n",
       "        [0., 1., 0., 0., 0., 0., 1., 0., 1., 1., 0., 0., 0., 0., 0.]]),\n",
       " array([[0., 0., 0., 0., 0., 0., 0., 0., 0., 0., 0., 0., 0., 0., 0.],\n",
       "        [0., 0., 1., 0., 0., 0., 0., 0., 0., 0., 0., 0., 0., 0., 0.],\n",
       "        [0., 1., 0., 1., 1., 1., 1., 0., 0., 0., 0., 0., 0., 0., 0.],\n",
       "        [0., 0., 1., 0., 1., 1., 1., 0., 0., 0., 0., 0., 0., 0., 0.],\n",
       "        [0., 0., 1., 1., 0., 1., 0., 1., 0., 0., 0., 0., 0., 0., 0.],\n",
       "        [0., 0., 1., 1., 1., 0., 1., 0., 0., 0., 0., 0., 0., 0., 0.],\n",
       "        [0., 0., 1., 1., 0., 1., 0., 0., 0., 0., 0., 0., 0., 0., 0.],\n",
       "        [0., 0., 0., 0., 1., 0., 0., 0., 0., 0., 0., 0., 0., 0., 0.],\n",
       "        [0., 0., 0., 0., 0., 0., 0., 0., 0., 0., 0., 0., 0., 0., 0.],\n",
       "        [0., 0., 0., 0., 0., 0., 0., 0., 0., 0., 0., 0., 0., 0., 0.],\n",
       "        [0., 0., 0., 0., 0., 0., 0., 0., 0., 0., 0., 0., 0., 0., 0.],\n",
       "        [0., 0., 0., 0., 0., 0., 0., 0., 0., 0., 0., 0., 0., 0., 0.],\n",
       "        [0., 0., 0., 0., 0., 0., 0., 0., 0., 0., 0., 0., 0., 0., 0.],\n",
       "        [0., 0., 0., 0., 0., 0., 0., 0., 0., 0., 0., 0., 0., 0., 0.],\n",
       "        [0., 0., 0., 0., 0., 0., 0., 0., 0., 0., 0., 0., 0., 0., 0.]])]"
      ]
     },
     "execution_count": 23,
     "metadata": {},
     "output_type": "execute_result"
    }
   ],
   "source": [
    "padded_adjacency_matrices[0:5]"
   ]
  },
  {
   "cell_type": "code",
   "execution_count": 12,
   "metadata": {},
   "outputs": [
    {
     "name": "stdout",
     "output_type": "stream",
     "text": [
      "Signal events: 7656: [array([3]), array([4]), array([5]), array([6]), array([9]), array([12]), array([15]), array([16]), array([17]), array([18]), array([19]), array([21]), array([22]), array([32]), array([33]), array([36]), array([39]), array([46]), array([48]), array([49]), array([50]), array([51]), array([54]), array([56]), array([57]), array([59]), array([61]), array([62]), array([63]), array([65]), array([68]), array([69]), array([73]), array([77]), array([78]), array([79]), array([83]), array([85]), array([86]), array([87]), array([89]), array([92]), array([93]), array([95]), array([98]), array([102]), array([103]), array([104]), array([106]), array([108]), array([115]), array([116]), array([117]), array([121]), array([122]), array([126]), array([127]), array([130]), array([142]), array([151]), array([155]), array([156]), array([162]), array([164]), array([166]), array([167]), array([173]), array([174]), array([179]), array([188]), array([189]), array([190]), array([191]), array([195]), array([197]), array([201]), array([202]), array([203]), array([205]), array([208]), array([214]), array([216]), array([217]), array([218]), array([223]), array([225]), array([228]), array([230]), array([231]), array([236]), array([237]), array([238]), array([241]), array([243]), array([248]), array([252]), array([254]), array([262]), array([263]), array([265]), array([268]), array([270]), array([272]), array([274]), array([275]), array([276]), array([283]), array([286]), array([288]), array([289]), array([290]), array([291]), array([293]), array([294]), array([295]), array([296]), array([298]), array([299]), array([305]), array([306]), array([308]), array([311]), array([316]), array([317]), array([318]), array([319]), array([320]), array([323]), array([328]), array([330]), array([331]), array([333]), array([336]), array([337]), array([338]), array([340]), array([342]), array([343]), array([345]), array([347]), array([350]), array([358]), array([359]), array([362]), array([364]), array([365]), array([367]), array([368]), array([371]), array([372]), array([375]), array([379]), array([382]), array([385]), array([388]), array([391]), array([392]), array([394]), array([395]), array([397]), array([404]), array([406]), array([407]), array([410]), array([411]), array([415]), array([417]), array([418]), array([419]), array([420]), array([421]), array([422]), array([424]), array([425]), array([426]), array([428]), array([429]), array([431]), array([432]), array([433]), array([434]), array([435]), array([439]), array([440]), array([443]), array([445]), array([448]), array([450]), array([453]), array([457]), array([463]), array([464]), array([468]), array([471]), array([474]), array([477]), array([481]), array([488]), array([489]), array([490]), array([492]), array([497]), array([499]), array([500]), array([501]), array([503]), array([518]), array([519]), array([523]), array([525]), array([527]), array([530]), array([536]), array([538]), array([540]), array([541]), array([542]), array([544]), array([547]), array([550]), array([551]), array([554]), array([556]), array([557]), array([561]), array([571]), array([573]), array([574]), array([577]), array([584]), array([587]), array([588]), array([589]), array([591]), array([593]), array([594]), array([599]), array([601]), array([602]), array([606]), array([608]), array([609]), array([610]), array([612]), array([614]), array([623]), array([625]), array([627]), array([628]), array([634]), array([635]), array([637]), array([639]), array([648]), array([654]), array([658]), array([660]), array([661]), array([664]), array([665]), array([669]), array([670]), array([673]), array([674]), array([675]), array([677]), array([680]), array([684]), array([686]), array([687]), array([689]), array([691]), array([695]), array([697]), array([699]), array([702]), array([706]), array([710]), array([711]), array([714]), array([717]), array([718]), array([719]), array([721]), array([723]), array([724]), array([725]), array([729]), array([731]), array([734]), array([743]), array([746]), array([747]), array([749]), array([752]), array([755]), array([760]), array([763]), array([766]), array([772]), array([776]), array([777]), array([778]), array([781]), array([782]), array([783]), array([785]), array([790]), array([792]), array([794]), array([796]), array([797]), array([799]), array([802]), array([803]), array([804]), array([806]), array([808]), array([809]), array([810]), array([811]), array([815]), array([820]), array([821]), array([822]), array([823]), array([829]), array([832]), array([836]), array([842]), array([843]), array([848]), array([855]), array([856]), array([860]), array([861]), array([862]), array([863]), array([865]), array([870]), array([873]), array([877]), array([880]), array([881]), array([882]), array([883]), array([885]), array([886]), array([888]), array([890]), array([891]), array([897]), array([900]), array([908]), array([912]), array([915]), array([918]), array([919]), array([925]), array([928]), array([929]), array([935]), array([936]), array([937]), array([942]), array([943]), array([948]), array([949]), array([951]), array([954]), array([955]), array([957]), array([970]), array([972]), array([973]), array([975]), array([976]), array([979]), array([980]), array([982]), array([984]), array([987]), array([995]), array([998]), array([999]), array([1000]), array([1007]), array([1011]), array([1016]), array([1019]), array([1021]), array([1025]), array([1026]), array([1027]), array([1029]), array([1032]), array([1039]), array([1041]), array([1048]), array([1050]), array([1054]), array([1055]), array([1058]), array([1061]), array([1064]), array([1066]), array([1067]), array([1068]), array([1073]), array([1074]), array([1075]), array([1078]), array([1085]), array([1087]), array([1094]), array([1095]), array([1099]), array([1100]), array([1102]), array([1107]), array([1108]), array([1109]), array([1111]), array([1117]), array([1118]), array([1119]), array([1120]), array([1124]), array([1125]), array([1126]), array([1129]), array([1130]), array([1133]), array([1134]), array([1138]), array([1143]), array([1144]), array([1148]), array([1153]), array([1160]), array([1161]), array([1168]), array([1169]), array([1178]), array([1186]), array([1188]), array([1189]), array([1190]), array([1191]), array([1193]), array([1194]), array([1196]), array([1198]), array([1199]), array([1201]), array([1204]), array([1210]), array([1211]), array([1212]), array([1214]), array([1215]), array([1218]), array([1220]), array([1221]), array([1224]), array([1226]), array([1227]), array([1230]), array([1232]), array([1234]), array([1237]), array([1238]), array([1243]), array([1252]), array([1254]), array([1259]), array([1260]), array([1263]), array([1265]), array([1270]), array([1271]), array([1272]), array([1274]), array([1280]), array([1281]), array([1284]), array([1285]), array([1287]), array([1289]), array([1292]), array([1295]), array([1297]), array([1299]), array([1301]), array([1303]), array([1306]), array([1309]), array([1310]), array([1311]), array([1312]), array([1313]), array([1314]), array([1318]), array([1320]), array([1321]), array([1322]), array([1323]), array([1325]), array([1326]), array([1329]), array([1333]), array([1334]), array([1336]), array([1338]), array([1341]), array([1344]), array([1345]), array([1351]), array([1353]), array([1354]), array([1358]), array([1359]), array([1360]), array([1363]), array([1364]), array([1366]), array([1369]), array([1373]), array([1374]), array([1376]), array([1385]), array([1387]), array([1391]), array([1392]), array([1395]), array([1397]), array([1399]), array([1401]), array([1402]), array([1404]), array([1405]), array([1407]), array([1413]), array([1414]), array([1418]), array([1420]), array([1421]), array([1422]), array([1423]), array([1424]), array([1426]), array([1428]), array([1430]), array([1431]), array([1435]), array([1437]), array([1439]), array([1441]), array([1442]), array([1443]), array([1447]), array([1448]), array([1450]), array([1451]), array([1453]), array([1454]), array([1461]), array([1463]), array([1464]), array([1466]), array([1467]), array([1468]), array([1469]), array([1471]), array([1478]), array([1480]), array([1481]), array([1486]), array([1487]), array([1490]), array([1494]), array([1495]), array([1497]), array([1498]), array([1499]), array([1500]), array([1501]), array([1503]), array([1506]), array([1507]), array([1512]), array([1517]), array([1518]), array([1519]), array([1520]), array([1522]), array([1527]), array([1528]), array([1530]), array([1531]), array([1535]), array([1536]), array([1538]), array([1539]), array([1548]), array([1549]), array([1552]), array([1554]), array([1555]), array([1557]), array([1558]), array([1559]), array([1560]), array([1568]), array([1569]), array([1578]), array([1579]), array([1581]), array([1582]), array([1585]), array([1586]), array([1594]), array([1601]), array([1602]), array([1603]), array([1606]), array([1607]), array([1608]), array([1611]), array([1613]), array([1615]), array([1619]), array([1624]), array([1626]), array([1631]), array([1634]), array([1640]), array([1642]), array([1647]), array([1649]), array([1652]), array([1655]), array([1656]), array([1657]), array([1659]), array([1662]), array([1668]), array([1669]), array([1674]), array([1675]), array([1682]), array([1685]), array([1688]), array([1689]), array([1690]), array([1691]), array([1692]), array([1693]), array([1695]), array([1697]), array([1700]), array([1706]), array([1707]), array([1708]), array([1709]), array([1711]), array([1715]), array([1716]), array([1717]), array([1718]), array([1719]), array([1721]), array([1722]), array([1728]), array([1733]), array([1740]), array([1743]), array([1744]), array([1746]), array([1747]), array([1750]), array([1752]), array([1759]), array([1761]), array([1762]), array([1764]), array([1766]), array([1768]), array([1769]), array([1772]), array([1773]), array([1774]), array([1775]), array([1776]), array([1778]), array([1779]), array([1780]), array([1784]), array([1785]), array([1795]), array([1796]), array([1797]), array([1799]), array([1800]), array([1802]), array([1804]), array([1809]), array([1811]), array([1813]), array([1821]), array([1822]), array([1825]), array([1826]), array([1832]), array([1833]), array([1835]), array([1836]), array([1838]), array([1841]), array([1842]), array([1843]), array([1844]), array([1845]), array([1850]), array([1853]), array([1854]), array([1859]), array([1860]), array([1865]), array([1870]), array([1873]), array([1875]), array([1876]), array([1877]), array([1878]), array([1879]), array([1880]), array([1883]), array([1887]), array([1888]), array([1889]), array([1892]), array([1893]), array([1896]), array([1901]), array([1902]), array([1904]), array([1905]), array([1906]), array([1909]), array([1911]), array([1912]), array([1913]), array([1916]), array([1923]), array([1924]), array([1926]), array([1931]), array([1934]), array([1935]), array([1936]), array([1938]), array([1941]), array([1943]), array([1947]), array([1948]), array([1949]), array([1950]), array([1953]), array([1958]), array([1959]), array([1964]), array([1971]), array([1973]), array([1981]), array([1982]), array([1984]), array([1987]), array([1993]), array([1994]), array([1995]), array([1997]), array([2001]), array([2002]), array([2004]), array([2005]), array([2007]), array([2008]), array([2009]), array([2010]), array([2015]), array([2019]), array([2025]), array([2027]), array([2031]), array([2037]), array([2038]), array([2041]), array([2045]), array([2046]), array([2047]), array([2049]), array([2051]), array([2056]), array([2057]), array([2061]), array([2063]), array([2065]), array([2066]), array([2068]), array([2070]), array([2076]), array([2077]), array([2080]), array([2081]), array([2082]), array([2084]), array([2087]), array([2090]), array([2091]), array([2092]), array([2098]), array([2103]), array([2105]), array([2106]), array([2107]), array([2110]), array([2111]), array([2112]), array([2115]), array([2118]), array([2119]), array([2120]), array([2121]), array([2122]), array([2123]), array([2124]), array([2127]), array([2133]), array([2135]), array([2138]), array([2140]), array([2141]), array([2144]), array([2147]), array([2149]), array([2150]), array([2151]), array([2153]), array([2154]), array([2155]), array([2157]), array([2158]), array([2162]), array([2164]), array([2169]), array([2170]), array([2181]), array([2182]), array([2185]), array([2187]), array([2189]), array([2193]), array([2194]), array([2195]), array([2197]), array([2199]), array([2204]), array([2207]), array([2209]), array([2211]), array([2212]), array([2213]), array([2218]), array([2220]), array([2221]), array([2226]), array([2228]), array([2231]), array([2234]), array([2236]), array([2240]), array([2241]), array([2242]), array([2243]), array([2248]), array([2249]), array([2250]), array([2254]), array([2255]), array([2257]), array([2261]), array([2263]), array([2264]), array([2266]), array([2270]), array([2271]), array([2272]), array([2273]), array([2276]), array([2277]), array([2280]), array([2285]), array([2286]), array([2290]), array([2292]), array([2293]), array([2299]), array([2305]), array([2306]), array([2311]), array([2312]), array([2313]), array([2314]), array([2315]), array([2317]), array([2319]), array([2321]), array([2322]), array([2324]), array([2326]), array([2327]), array([2328]), array([2329]), array([2330]), array([2331]), array([2332]), array([2340]), array([2341]), array([2343]), array([2352]), array([2355]), array([2357]), array([2359]), array([2362]), array([2365]), array([2366]), array([2370]), array([2371]), array([2372]), array([2373]), array([2377]), array([2380]), array([2382]), array([2384]), array([2387]), array([2390]), array([2391]), array([2392]), array([2393]), array([2394]), array([2395]), array([2396]), array([2397]), array([2402]), array([2403]), array([2407]), array([2408]), array([2409]), array([2413]), array([2419]), array([2421]), array([2422]), array([2423]), array([2429]), array([2430]), array([2432]), array([2439]), array([2441]), array([2442]), array([2443]), array([2449]), array([2450]), array([2456]), array([2457]), array([2458]), array([2460]), array([2465]), array([2468]), array([2469]), array([2471]), array([2472]), array([2477]), array([2479]), array([2480]), array([2481]), array([2485]), array([2488]), array([2489]), array([2491]), array([2495]), array([2496]), array([2499]), array([2505]), array([2510]), array([2512]), array([2517]), array([2520]), array([2522]), array([2524]), array([2526]), array([2530]), array([2532]), array([2536]), array([2539]), array([2546]), array([2547]), array([2548]), array([2557]), array([2563]), array([2564]), array([2565]), array([2570]), array([2572]), array([2573]), array([2576]), array([2581]), array([2587]), array([2588]), array([2592]), array([2597]), array([2599]), array([2601]), array([2602]), array([2603]), array([2606]), array([2607]), array([2608]), array([2609]), array([2610]), array([2616]), array([2618]), array([2620]), array([2625]), array([2627]), array([2628]), array([2634]), array([2635]), array([2637]), array([2640]), array([2642]), array([2650]), array([2651]), array([2655]), array([2661]), array([2666]), array([2667]), array([2668]), array([2669]), array([2671]), array([2674]), array([2677]), array([2682]), array([2683]), array([2687]), array([2688]), array([2693]), array([2694]), array([2695]), array([2699]), array([2700]), array([2702]), array([2705]), array([2706]), array([2710]), array([2711]), array([2714]), array([2715]), array([2720]), array([2723]), array([2724]), array([2730]), array([2731]), array([2737]), array([2738]), array([2739]), array([2740]), array([2753]), array([2755]), array([2756]), array([2757]), array([2758]), array([2759]), array([2760]), array([2761]), array([2764]), array([2767]), array([2769]), array([2777]), array([2778]), array([2779]), array([2780]), array([2784]), array([2786]), array([2787]), array([2788]), array([2791]), array([2792]), array([2793]), array([2795]), array([2796]), array([2800]), array([2801]), array([2803]), array([2805]), array([2808]), array([2809]), array([2810]), array([2811]), array([2813]), array([2815]), array([2818]), array([2819]), array([2821]), array([2822]), array([2823]), array([2826]), array([2831]), array([2834]), array([2835]), array([2839]), array([2846]), array([2851]), array([2858]), array([2860]), array([2862]), array([2868]), array([2873]), array([2874]), array([2877]), array([2882]), array([2886]), array([2890]), array([2892]), array([2895]), array([2896]), array([2899]), array([2901]), array([2904]), array([2905]), array([2906]), array([2908]), array([2910]), array([2912]), array([2913]), array([2914]), array([2915]), array([2916]), array([2918]), array([2921]), array([2922]), array([2924]), array([2925]), array([2927]), array([2928]), array([2930]), array([2936]), array([2940]), array([2941]), array([2942]), array([2943]), array([2944]), array([2945]), array([2947]), array([2948]), array([2950]), array([2955]), array([2959]), array([2964]), array([2966]), array([2968]), array([2969]), array([2972]), array([2980]), array([2985]), array([2986]), array([2988]), array([2990]), array([2991]), array([2995]), array([2996]), array([2999]), array([3002]), array([3003]), array([3008]), array([3009]), array([3012]), array([3013]), array([3014]), array([3017]), array([3019]), array([3020]), array([3033]), array([3036]), array([3037]), array([3044]), array([3046]), array([3051]), array([3056]), array([3058]), array([3059]), array([3061]), array([3065]), array([3066]), array([3069]), array([3070]), array([3080]), array([3081]), array([3082]), array([3083]), array([3086]), array([3092]), array([3093]), array([3095]), array([3100]), array([3103]), array([3105]), array([3107]), array([3113]), array([3115]), array([3117]), array([3118]), array([3119]), array([3120]), array([3121]), array([3122]), array([3126]), array([3131]), array([3133]), array([3143]), array([3144]), array([3146]), array([3148]), array([3152]), array([3155]), array([3156]), array([3163]), array([3167]), array([3169]), array([3170]), array([3178]), array([3179]), array([3180]), array([3181]), array([3182]), array([3183]), array([3185]), array([3188]), array([3191]), array([3194]), array([3195]), array([3199]), array([3201]), array([3203]), array([3204]), array([3205]), array([3211]), array([3219]), array([3222]), array([3223]), array([3226]), array([3228]), array([3235]), array([3236]), array([3239]), array([3241]), array([3242]), array([3244]), array([3245]), array([3249]), array([3252]), array([3254]), array([3256]), array([3258]), array([3260]), array([3266]), array([3267]), array([3270]), array([3271]), array([3275]), array([3280]), array([3282]), array([3283]), array([3285]), array([3291]), array([3296]), array([3297]), array([3300]), array([3306]), array([3313]), array([3317]), array([3318]), array([3319]), array([3320]), array([3325]), array([3326]), array([3331]), array([3333]), array([3336]), array([3339]), array([3340]), array([3341]), array([3346]), array([3349]), array([3350]), array([3356]), array([3358]), array([3359]), array([3360]), array([3363]), array([3368]), array([3369]), array([3370]), array([3371]), array([3377]), array([3379]), array([3385]), array([3388]), array([3394]), array([3395]), array([3396]), array([3397]), array([3398]), array([3403]), array([3407]), array([3409]), array([3411]), array([3415]), array([3419]), array([3420]), array([3421]), array([3422]), array([3424]), array([3430]), array([3431]), array([3436]), array([3445]), array([3447]), array([3455]), array([3457]), array([3461]), array([3463]), array([3464]), array([3466]), array([3468]), array([3469]), array([3474]), array([3477]), array([3480]), array([3483]), array([3485]), array([3486]), array([3487]), array([3488]), array([3489]), array([3493]), array([3496]), array([3499]), array([3500]), array([3503]), array([3504]), array([3510]), array([3511]), array([3517]), array([3518]), array([3519]), array([3520]), array([3521]), array([3534]), array([3535]), array([3538]), array([3539]), array([3540]), array([3542]), array([3543]), array([3545]), array([3550]), array([3552]), array([3554]), array([3557]), array([3563]), array([3564]), array([3566]), array([3568]), array([3570]), array([3572]), array([3574]), array([3576]), array([3578]), array([3579]), array([3583]), array([3585]), array([3590]), array([3591]), array([3592]), array([3595]), array([3596]), array([3597]), array([3599]), array([3600]), array([3601]), array([3606]), array([3611]), array([3612]), array([3619]), array([3620]), array([3621]), array([3622]), array([3623]), array([3624]), array([3631]), array([3635]), array([3636]), array([3638]), array([3641]), array([3643]), array([3645]), array([3647]), array([3648]), array([3649]), array([3653]), array([3655]), array([3657]), array([3663]), array([3666]), array([3669]), array([3672]), array([3675]), array([3676]), array([3679]), array([3680]), array([3681]), array([3682]), array([3683]), array([3686]), array([3687]), array([3690]), array([3691]), array([3692]), array([3694]), array([3696]), array([3697]), array([3698]), array([3700]), array([3701]), array([3707]), array([3709]), array([3726]), array([3730]), array([3731]), array([3735]), array([3738]), array([3745]), array([3748]), array([3749]), array([3751]), array([3752]), array([3756]), array([3757]), array([3758]), array([3763]), array([3768]), array([3769]), array([3773]), array([3775]), array([3778]), array([3782]), array([3789]), array([3791]), array([3794]), array([3796]), array([3797]), array([3799]), array([3803]), array([3805]), array([3808]), array([3816]), array([3817]), array([3818]), array([3819]), array([3820]), array([3821]), array([3832]), array([3834]), array([3835]), array([3838]), array([3839]), array([3841]), array([3849]), array([3854]), array([3857]), array([3862]), array([3864]), array([3870]), array([3875]), array([3879]), array([3885]), array([3892]), array([3895]), array([3896]), array([3897]), array([3899]), array([3901]), array([3902]), array([3904]), array([3911]), array([3912]), array([3913]), array([3917]), array([3918]), array([3919]), array([3920]), array([3925]), array([3927]), array([3929]), array([3930]), array([3931]), array([3932]), array([3936]), array([3939]), array([3940]), array([3941]), array([3944]), array([3946]), array([3948]), array([3951]), array([3952]), array([3953]), array([3955]), array([3957]), array([3958]), array([3961]), array([3962]), array([3964]), array([3965]), array([3967]), array([3970]), array([3971]), array([3972]), array([3976]), array([3977]), array([3978]), array([3979]), array([3980]), array([3981]), array([3982]), array([3989]), array([3990]), array([3991]), array([3996]), array([3997]), array([3999]), array([4004]), array([4008]), array([4012]), array([4013]), array([4014]), array([4015]), array([4016]), array([4017]), array([4019]), array([4020]), array([4024]), array([4025]), array([4026]), array([4030]), array([4033]), array([4034]), array([4035]), array([4041]), array([4043]), array([4046]), array([4050]), array([4051]), array([4052]), array([4053]), array([4055]), array([4058]), array([4060]), array([4061]), array([4063]), array([4065]), array([4067]), array([4070]), array([4071]), array([4076]), array([4082]), array([4085]), array([4086]), array([4087]), array([4091]), array([4092]), array([4095]), array([4098]), array([4099]), array([4100]), array([4104]), array([4108]), array([4109]), array([4110]), array([4116]), array([4117]), array([4118]), array([4124]), array([4125]), array([4126]), array([4127]), array([4129]), array([4130]), array([4134]), array([4136]), array([4137]), array([4140]), array([4141]), array([4144]), array([4146]), array([4150]), array([4152]), array([4154]), array([4155]), array([4160]), array([4166]), array([4173]), array([4174]), array([4179]), array([4182]), array([4183]), array([4184]), array([4188]), array([4197]), array([4202]), array([4209]), array([4210]), array([4211]), array([4213]), array([4219]), array([4221]), array([4223]), array([4225]), array([4226]), array([4227]), array([4231]), array([4232]), array([4233]), array([4237]), array([4239]), array([4242]), array([4245]), array([4246]), array([4248]), array([4257]), array([4262]), array([4267]), array([4272]), array([4274]), array([4278]), array([4279]), array([4283]), array([4287]), array([4291]), array([4292]), array([4293]), array([4294]), array([4298]), array([4300]), array([4303]), array([4312]), array([4318]), array([4319]), array([4320]), array([4326]), array([4332]), array([4333]), array([4334]), array([4337]), array([4344]), array([4346]), array([4348]), array([4350]), array([4354]), array([4356]), array([4359]), array([4367]), array([4369]), array([4372]), array([4373]), array([4375]), array([4378]), array([4379]), array([4381]), array([4383]), array([4387]), array([4390]), array([4391]), array([4395]), array([4397]), array([4399]), array([4403]), array([4407]), array([4412]), array([4415]), array([4416]), array([4418]), array([4419]), array([4423]), array([4424]), array([4426]), array([4431]), array([4433]), array([4434]), array([4435]), array([4436]), array([4438]), array([4442]), array([4452]), array([4453]), array([4457]), array([4459]), array([4460]), array([4461]), array([4462]), array([4463]), array([4468]), array([4469]), array([4472]), array([4480]), array([4481]), array([4483]), array([4484]), array([4494]), array([4495]), array([4496]), array([4498]), array([4499]), array([4500]), array([4503]), array([4505]), array([4507]), array([4512]), array([4513]), array([4516]), array([4517]), array([4522]), array([4525]), array([4527]), array([4529]), array([4530]), array([4535]), array([4539]), array([4542]), array([4544]), array([4546]), array([4550]), array([4552]), array([4553]), array([4555]), array([4556]), array([4557]), array([4558]), array([4559]), array([4566]), array([4567]), array([4568]), array([4570]), array([4571]), array([4572]), array([4576]), array([4579]), array([4580]), array([4582]), array([4592]), array([4595]), array([4596]), array([4599]), array([4601]), array([4602]), array([4603]), array([4609]), array([4612]), array([4613]), array([4617]), array([4626]), array([4631]), array([4634]), array([4636]), array([4638]), array([4643]), array([4645]), array([4646]), array([4647]), array([4650]), array([4651]), array([4654]), array([4657]), array([4659]), array([4662]), array([4669]), array([4672]), array([4677]), array([4678]), array([4679]), array([4681]), array([4682]), array([4684]), array([4686]), array([4690]), array([4691]), array([4692]), array([4693]), array([4700]), array([4701]), array([4703]), array([4704]), array([4705]), array([4709]), array([4710]), array([4714]), array([4715]), array([4717]), array([4721]), array([4722]), array([4726]), array([4727]), array([4732]), array([4738]), array([4743]), array([4744]), array([4747]), array([4748]), array([4750]), array([4753]), array([4755]), array([4759]), array([4763]), array([4764]), array([4765]), array([4767]), array([4771]), array([4777]), array([4778]), array([4782]), array([4783]), array([4785]), array([4786]), array([4791]), array([4792]), array([4800]), array([4801]), array([4806]), array([4810]), array([4812]), array([4813]), array([4816]), array([4818]), array([4819]), array([4820]), array([4822]), array([4823]), array([4824]), array([4825]), array([4831]), array([4835]), array([4839]), array([4840]), array([4841]), array([4848]), array([4854]), array([4856]), array([4860]), array([4861]), array([4864]), array([4865]), array([4867]), array([4869]), array([4872]), array([4875]), array([4876]), array([4877]), array([4881]), array([4883]), array([4886]), array([4887]), array([4888]), array([4893]), array([4896]), array([4898]), array([4900]), array([4902]), array([4903]), array([4904]), array([4905]), array([4913]), array([4915]), array([4918]), array([4919]), array([4921]), array([4922]), array([4924]), array([4925]), array([4926]), array([4928]), array([4929]), array([4932]), array([4934]), array([4937]), array([4938]), array([4940]), array([4943]), array([4946]), array([4951]), array([4953]), array([4954]), array([4955]), array([4958]), array([4961]), array([4964]), array([4965]), array([4967]), array([4969]), array([4970]), array([4971]), array([4975]), array([4976]), array([4978]), array([4979]), array([4980]), array([4987]), array([4988]), array([4989]), array([4991]), array([4996]), array([1]), array([2]), array([3]), array([6]), array([7]), array([9]), array([11]), array([15]), array([16]), array([19]), array([21]), array([22]), array([24]), array([27]), array([29]), array([31]), array([33]), array([34]), array([37]), array([39]), array([41]), array([42]), array([43]), array([48]), array([49]), array([51]), array([52]), array([54]), array([57]), array([58]), array([65]), array([66]), array([70]), array([71]), array([80]), array([83]), array([84]), array([85]), array([87]), array([88]), array([89]), array([90]), array([92]), array([95]), array([96]), array([99]), array([102]), array([105]), array([109]), array([110]), array([116]), array([122]), array([125]), array([126]), array([128]), array([133]), array([134]), array([137]), array([139]), array([140]), array([142]), array([143]), array([149]), array([150]), array([157]), array([158]), array([160]), array([161]), array([162]), array([163]), array([164]), array([167]), array([168]), array([169]), array([175]), array([176]), array([178]), array([181]), array([183]), array([187]), array([188]), array([189]), array([190]), array([194]), array([199]), array([201]), array([213]), array([214]), array([217]), array([221]), array([222]), array([223]), array([227]), array([228]), array([229]), array([231]), array([232]), array([239]), array([240]), array([241]), array([243]), array([244]), array([245]), array([246]), array([249]), array([256]), array([258]), array([259]), array([260]), array([261]), array([265]), array([267]), array([271]), array([277]), array([283]), array([287]), array([297]), array([299]), array([302]), array([305]), array([310]), array([311]), array([312]), array([313]), array([317]), array([327]), array([328]), array([330]), array([334]), array([337]), array([340]), array([341]), array([342]), array([343]), array([347]), array([351]), array([352]), array([355]), array([358]), array([362]), array([364]), array([368]), array([370]), array([371]), array([372]), array([373]), array([379]), array([380]), array([383]), array([385]), array([388]), array([390]), array([397]), array([402]), array([404]), array([406]), array([408]), array([409]), array([411]), array([419]), array([432]), array([433]), array([434]), array([437]), array([438]), array([441]), array([442]), array([444]), array([445]), array([446]), array([448]), array([449]), array([452]), array([453]), array([460]), array([465]), array([468]), array([470]), array([471]), array([475]), array([480]), array([481]), array([482]), array([484]), array([487]), array([490]), array([502]), array([506]), array([507]), array([521]), array([522]), array([524]), array([530]), array([532]), array([539]), array([542]), array([543]), array([546]), array([548]), array([549]), array([556]), array([557]), array([560]), array([561]), array([563]), array([571]), array([572]), array([574]), array([575]), array([577]), array([580]), array([581]), array([582]), array([583]), array([584]), array([586]), array([591]), array([594]), array([597]), array([600]), array([603]), array([606]), array([608]), array([610]), array([612]), array([613]), array([615]), array([630]), array([631]), array([632]), array([645]), array([648]), array([652]), array([655]), array([657]), array([664]), array([666]), array([667]), array([668]), array([669]), array([676]), array([677]), array([678]), array([679]), array([680]), array([682]), array([683]), array([686]), array([692]), array([695]), array([696]), array([701]), array([702]), array([704]), array([705]), array([709]), array([714]), array([720]), array([725]), array([727]), array([728]), array([729]), array([733]), array([735]), array([738]), array([744]), array([748]), array([750]), array([753]), array([754]), array([757]), array([760]), array([761]), array([765]), array([770]), array([772]), array([775]), array([776]), array([782]), array([783]), array([785]), array([786]), array([795]), array([801]), array([803]), array([804]), array([808]), array([809]), array([811]), array([812]), array([813]), array([815]), array([817]), array([820]), array([821]), array([828]), array([829]), array([832]), array([833]), array([835]), array([836]), array([844]), array([849]), array([851]), array([853]), array([857]), array([858]), array([859]), array([862]), array([865]), array([867]), array([873]), array([874]), array([875]), array([877]), array([881]), array([885]), array([890]), array([891]), array([894]), array([897]), array([899]), array([902]), array([907]), array([908]), array([910]), array([912]), array([915]), array([916]), array([917]), array([918]), array([919]), array([924]), array([927]), array([928]), array([929]), array([934]), array([936]), array([938]), array([939]), array([942]), array([945]), array([946]), array([947]), array([949]), array([950]), array([952]), array([957]), array([958]), array([959]), array([963]), array([964]), array([965]), array([966]), array([967]), array([969]), array([970]), array([973]), array([974]), array([978]), array([981]), array([984]), array([986]), array([992]), array([994]), array([996]), array([997]), array([998]), array([1005]), array([1006]), array([1007]), array([1012]), array([1014]), array([1017]), array([1018]), array([1020]), array([1022]), array([1028]), array([1030]), array([1031]), array([1035]), array([1036]), array([1037]), array([1039]), array([1041]), array([1042]), array([1043]), array([1049]), array([1050]), array([1051]), array([1053]), array([1054]), array([1057]), array([1060]), array([1063]), array([1076]), array([1081]), array([1083]), array([1088]), array([1090]), array([1094]), array([1095]), array([1098]), array([1100]), array([1110]), array([1112]), array([1115]), array([1117]), array([1119]), array([1121]), array([1123]), array([1124]), array([1126]), array([1128]), array([1129]), array([1130]), array([1132]), array([1135]), array([1136]), array([1137]), array([1141]), array([1147]), array([1148]), array([1151]), array([1153]), array([1154]), array([1156]), array([1157]), array([1160]), array([1161]), array([1166]), array([1167]), array([1168]), array([1170]), array([1174]), array([1176]), array([1178]), array([1181]), array([1185]), array([1189]), array([1193]), array([1196]), array([1198]), array([1199]), array([1200]), array([1201]), array([1204]), array([1205]), array([1206]), array([1208]), array([1210]), array([1212]), array([1213]), array([1217]), array([1220]), array([1226]), array([1228]), array([1229]), array([1230]), array([1231]), array([1234]), array([1235]), array([1237]), array([1239]), array([1241]), array([1252]), array([1253]), array([1255]), array([1256]), array([1257]), array([1263]), array([1266]), array([1267]), array([1268]), array([1269]), array([1271]), array([1275]), array([1278]), array([1285]), array([1286]), array([1289]), array([1290]), array([1292]), array([1297]), array([1298]), array([1303]), array([1304]), array([1306]), array([1310]), array([1313]), array([1314]), array([1317]), array([1321]), array([1322]), array([1323]), array([1325]), array([1328]), array([1329]), array([1331]), array([1332]), array([1334]), array([1335]), array([1338]), array([1340]), array([1342]), array([1344]), array([1345]), array([1347]), array([1348]), array([1350]), array([1352]), array([1355]), array([1356]), array([1364]), array([1366]), array([1367]), array([1368]), array([1371]), array([1372]), array([1377]), array([1381]), array([1382]), array([1383]), array([1390]), array([1393]), array([1394]), array([1406]), array([1407]), array([1408]), array([1413]), array([1417]), array([1420]), array([1421]), array([1422]), array([1424]), array([1426]), array([1428]), array([1433]), array([1436]), array([1443]), array([1444]), array([1445]), array([1447]), array([1449]), array([1450]), array([1454]), array([1455]), array([1457]), array([1459]), array([1460]), array([1461]), array([1462]), array([1466]), array([1467]), array([1471]), array([1474]), array([1476]), array([1483]), array([1485]), array([1488]), array([1494]), array([1496]), array([1497]), array([1499]), array([1500]), array([1503]), array([1506]), array([1508]), array([1510]), array([1513]), array([1516]), array([1518]), array([1520]), array([1523]), array([1527]), array([1529]), array([1530]), array([1531]), array([1532]), array([1537]), array([1539]), array([1541]), array([1545]), array([1547]), array([1551]), array([1552]), array([1554]), array([1557]), array([1558]), array([1560]), array([1562]), array([1565]), array([1568]), array([1573]), array([1574]), array([1578]), array([1579]), array([1582]), array([1583]), array([1587]), array([1589]), array([1590]), array([1591]), array([1598]), array([1601]), array([1606]), array([1609]), array([1617]), array([1621]), array([1622]), array([1628]), array([1629]), array([1632]), array([1636]), array([1639]), array([1641]), array([1644]), array([1646]), array([1650]), array([1651]), array([1652]), array([1653]), array([1659]), array([1666]), array([1668]), array([1669]), array([1670]), array([1671]), array([1673]), array([1675]), array([1676]), array([1680]), array([1681]), array([1685]), array([1688]), array([1690]), array([1692]), array([1693]), array([1699]), array([1700]), array([1702]), array([1704]), array([1705]), array([1706]), array([1709]), array([1712]), array([1718]), array([1720]), array([1721]), array([1727]), array([1730]), array([1739]), array([1742]), array([1743]), array([1746]), array([1747]), array([1754]), array([1755]), array([1761]), array([1770]), array([1773]), array([1774]), array([1776]), array([1777]), array([1780]), array([1781]), array([1782]), array([1784]), array([1792]), array([1794]), array([1795]), array([1799]), array([1804]), array([1812]), array([1813]), array([1815]), array([1820]), array([1821]), array([1827]), array([1828]), array([1832]), array([1833]), array([1835]), array([1837]), array([1841]), array([1843]), array([1844]), array([1848]), array([1850]), array([1851]), array([1854]), array([1855]), array([1860]), array([1861]), array([1862]), array([1863]), array([1866]), array([1871]), array([1872]), array([1873]), array([1875]), array([1881]), array([1882]), array([1884]), array([1886]), array([1888]), array([1892]), array([1894]), array([1895]), array([1896]), array([1903]), array([1918]), array([1924]), array([1928]), array([1930]), array([1934]), array([1935]), array([1937]), array([1942]), array([1949]), array([1952]), array([1955]), array([1956]), array([1957]), array([1958]), array([1961]), array([1962]), array([1968]), array([1974]), array([1976]), array([1981]), array([1982]), array([1983]), array([1986]), array([1987]), array([1988]), array([1990]), array([1991]), array([1992]), array([1993]), array([1995]), array([1998]), array([1999]), array([2002]), array([2003]), array([2005]), array([2007]), array([2009]), array([2013]), array([2016]), array([2019]), array([2026]), array([2027]), array([2028]), array([2029]), array([2034]), array([2036]), array([2037]), array([2041]), array([2047]), array([2049]), array([2050]), array([2052]), array([2053]), array([2058]), array([2059]), array([2062]), array([2064]), array([2065]), array([2066]), array([2067]), array([2069]), array([2078]), array([2079]), array([2081]), array([2086]), array([2090]), array([2092]), array([2094]), array([2099]), array([2100]), array([2101]), array([2102]), array([2109]), array([2112]), array([2114]), array([2116]), array([2119]), array([2120]), array([2122]), array([2124]), array([2126]), array([2128]), array([2130]), array([2131]), array([2134]), array([2137]), array([2138]), array([2139]), array([2140]), array([2141]), array([2148]), array([2153]), array([2154]), array([2155]), array([2156]), array([2157]), array([2162]), array([2163]), array([2166]), array([2167]), array([2173]), array([2174]), array([2176]), array([2178]), array([2181]), array([2182]), array([2183]), array([2184]), array([2185]), array([2186]), array([2191]), array([2195]), array([2198]), array([2199]), array([2201]), array([2204]), array([2207]), array([2210]), array([2213]), array([2217]), array([2220]), array([2221]), array([2224]), array([2227]), array([2228]), array([2229]), array([2236]), array([2240]), array([2241]), array([2242]), array([2244]), array([2249]), array([2250]), array([2253]), array([2254]), array([2255]), array([2264]), array([2266]), array([2268]), array([2270]), array([2272]), array([2275]), array([2281]), array([2283]), array([2284]), array([2286]), array([2291]), array([2293]), array([2294]), array([2296]), array([2299]), array([2301]), array([2302]), array([2306]), array([2307]), array([2310]), array([2311]), array([2312]), array([2315]), array([2317]), array([2318]), array([2324]), array([2325]), array([2326]), array([2328]), array([2332]), array([2337]), array([2338]), array([2339]), array([2341]), array([2342]), array([2346]), array([2347]), array([2348]), array([2351]), array([2352]), array([2354]), array([2355]), array([2356]), array([2358]), array([2359]), array([2361]), array([2362]), array([2364]), array([2365]), array([2371]), array([2380]), array([2381]), array([2383]), array([2386]), array([2389]), array([2393]), array([2396]), array([2400]), array([2401]), array([2402]), array([2404]), array([2405]), array([2406]), array([2408]), array([2411]), array([2414]), array([2422]), array([2423]), array([2424]), array([2426]), array([2431]), array([2432]), array([2433]), array([2434]), array([2436]), array([2437]), array([2441]), array([2442]), array([2449]), array([2454]), array([2456]), array([2458]), array([2462]), array([2464]), array([2466]), array([2471]), array([2473]), array([2474]), array([2477]), array([2478]), array([2485]), array([2491]), array([2493]), array([2498]), array([2502]), array([2503]), array([2504]), array([2506]), array([2507]), array([2509]), array([2510]), array([2511]), array([2513]), array([2514]), array([2515]), array([2517]), array([2524]), array([2528]), array([2533]), array([2541]), array([2542]), array([2544]), array([2545]), array([2547]), array([2550]), array([2551]), array([2553]), array([2555]), array([2559]), array([2561]), array([2562]), array([2569]), array([2570]), array([2573]), array([2574]), array([2579]), array([2581]), array([2584]), array([2587]), array([2591]), array([2593]), array([2595]), array([2601]), array([2602]), array([2604]), array([2606]), array([2607]), array([2609]), array([2610]), array([2611]), array([2612]), array([2617]), array([2626]), array([2628]), array([2629]), array([2630]), array([2635]), array([2638]), array([2640]), array([2642]), array([2643]), array([2645]), array([2646]), array([2647]), array([2648]), array([2649]), array([2653]), array([2654]), array([2656]), array([2659]), array([2660]), array([2662]), array([2664]), array([2665]), array([2670]), array([2673]), array([2675]), array([2678]), array([2683]), array([2688]), array([2698]), array([2700]), array([2701]), array([2702]), array([2704]), array([2709]), array([2710]), array([2711]), array([2713]), array([2714]), array([2715]), array([2716]), array([2728]), array([2732]), array([2735]), array([2737]), array([2739]), array([2740]), array([2741]), array([2742]), array([2743]), array([2744]), array([2749]), array([2750]), array([2751]), array([2753]), array([2757]), array([2762]), array([2763]), array([2766]), array([2767]), array([2769]), array([2770]), array([2773]), array([2774]), array([2776]), array([2777]), array([2782]), array([2785]), array([2787]), array([2789]), array([2790]), array([2797]), array([2799]), array([2802]), array([2803]), array([2805]), array([2807]), array([2809]), array([2811]), array([2813]), array([2814]), array([2815]), array([2822]), array([2824]), array([2825]), array([2829]), array([2831]), array([2832]), array([2834]), array([2835]), array([2836]), array([2837]), array([2838]), array([2841]), array([2842]), array([2845]), array([2847]), array([2849]), array([2851]), array([2854]), array([2858]), array([2861]), array([2862]), array([2864]), array([2866]), array([2868]), array([2874]), array([2876]), array([2882]), array([2884]), array([2887]), array([2888]), array([2889]), array([2891]), array([2895]), array([2896]), array([2898]), array([2899]), array([2902]), array([2904]), array([2906]), array([2908]), array([2911]), array([2915]), array([2916]), array([2918]), array([2921]), array([2924]), array([2928]), array([2932]), array([2933]), array([2938]), array([2943]), array([2945]), array([2946]), array([2948]), array([2953]), array([2954]), array([2955]), array([2957]), array([2958]), array([2959]), array([2960]), array([2964]), array([2965]), array([2966]), array([2971]), array([2977]), array([2978]), array([2987]), array([2989]), array([2991]), array([2994]), array([2997]), array([2998]), array([3002]), array([3004]), array([3005]), array([3006]), array([3007]), array([3016]), array([3020]), array([3021]), array([3022]), array([3024]), array([3025]), array([3032]), array([3033]), array([3035]), array([3036]), array([3040]), array([3043]), array([3048]), array([3051]), array([3053]), array([3054]), array([3055]), array([3058]), array([3059]), array([3061]), array([3063]), array([3064]), array([3065]), array([3069]), array([3071]), array([3072]), array([3074]), array([3078]), array([3083]), array([3084]), array([3087]), array([3088]), array([3096]), array([3097]), array([3100]), array([3101]), array([3102]), array([3106]), array([3107]), array([3110]), array([3112]), array([3120]), array([3121]), array([3123]), array([3124]), array([3125]), array([3126]), array([3128]), array([3129]), array([3130]), array([3132]), array([3133]), array([3137]), array([3139]), array([3142]), array([3149]), array([3150]), array([3152]), array([3153]), array([3155]), array([3158]), array([3161]), array([3164]), array([3165]), array([3170]), array([3171]), array([3175]), array([3177]), array([3179]), array([3184]), array([3187]), array([3188]), array([3189]), array([3196]), array([3198]), array([3200]), array([3205]), array([3207]), array([3214]), array([3216]), array([3220]), array([3225]), array([3229]), array([3235]), array([3236]), array([3237]), array([3243]), array([3245]), array([3246]), array([3251]), array([3252]), array([3256]), array([3259]), array([3260]), array([3261]), array([3262]), array([3264]), array([3267]), array([3268]), array([3271]), array([3274]), array([3277]), array([3279]), array([3281]), array([3285]), array([3286]), array([3288]), array([3292]), array([3295]), array([3296]), array([3297]), array([3299]), array([3300]), array([3301]), array([3302]), array([3305]), array([3308]), array([3311]), array([3316]), array([3319]), array([3320]), array([3322]), array([3326]), array([3327]), array([3328]), array([3329]), array([3330]), array([3331]), array([3332]), array([3333]), array([3335]), array([3337]), array([3339]), array([3340]), array([3341]), array([3342]), array([3343]), array([3350]), array([3352]), array([3354]), array([3362]), array([3372]), array([3381]), array([3382]), array([3384]), array([3391]), array([3393]), array([3397]), array([3400]), array([3402]), array([3406]), array([3407]), array([3410]), array([3412]), array([3414]), array([3415]), array([3417]), array([3419]), array([3421]), array([3422]), array([3423]), array([3425]), array([3426]), array([3427]), array([3429]), array([3434]), array([3435]), array([3436]), array([3443]), array([3446]), array([3448]), array([3449]), array([3452]), array([3455]), array([3456]), array([3459]), array([3461]), array([3462]), array([3467]), array([3470]), array([3471]), array([3473]), array([3475]), array([3476]), array([3479]), array([3486]), array([3489]), array([3490]), array([3492]), array([3504]), array([3505]), array([3506]), array([3507]), array([3509]), array([3513]), array([3515]), array([3516]), array([3517]), array([3518]), array([3519]), array([3520]), array([3521]), array([3527]), array([3528]), array([3532]), array([3535]), array([3537]), array([3540]), array([3541]), array([3542]), array([3544]), array([3551]), array([3553]), array([3554]), array([3555]), array([3556]), array([3557]), array([3558]), array([3560]), array([3562]), array([3564]), array([3567]), array([3568]), array([3572]), array([3573]), array([3574]), array([3575]), array([3582]), array([3584]), array([3586]), array([3587]), array([3590]), array([3592]), array([3593]), array([3594]), array([3596]), array([3597]), array([3598]), array([3599]), array([3606]), array([3609]), array([3610]), array([3612]), array([3613]), array([3614]), array([3618]), array([3619]), array([3621]), array([3622]), array([3623]), array([3625]), array([3632]), array([3634]), array([3635]), array([3638]), array([3639]), array([3646]), array([3648]), array([3649]), array([3650]), array([3652]), array([3655]), array([3657]), array([3662]), array([3664]), array([3665]), array([3669]), array([3670]), array([3671]), array([3673]), array([3678]), array([3679]), array([3680]), array([3683]), array([3686]), array([3691]), array([3695]), array([3697]), array([3698]), array([3700]), array([3704]), array([3705]), array([3706]), array([3708]), array([3710]), array([3715]), array([3719]), array([3720]), array([3721]), array([3724]), array([3728]), array([3731]), array([3740]), array([3741]), array([3742]), array([3743]), array([3744]), array([3749]), array([3751]), array([3755]), array([3758]), array([3761]), array([3764]), array([3768]), array([3772]), array([3774]), array([3775]), array([3776]), array([3778]), array([3782]), array([3784]), array([3785]), array([3788]), array([3789]), array([3790]), array([3791]), array([3793]), array([3794]), array([3795]), array([3797]), array([3800]), array([3810]), array([3811]), array([3812]), array([3813]), array([3816]), array([3818]), array([3822]), array([3825]), array([3828]), array([3833]), array([3835]), array([3837]), array([3841]), array([3843]), array([3845]), array([3851]), array([3853]), array([3854]), array([3860]), array([3861]), array([3866]), array([3867]), array([3870]), array([3872]), array([3876]), array([3881]), array([3882]), array([3884]), array([3886]), array([3887]), array([3888]), array([3890]), array([3892]), array([3894]), array([3896]), array([3904]), array([3906]), array([3911]), array([3912]), array([3915]), array([3920]), array([3921]), array([3922]), array([3924]), array([3926]), array([3935]), array([3941]), array([3944]), array([3946]), array([3953]), array([3957]), array([3959]), array([3961]), array([3962]), array([3963]), array([3965]), array([3967]), array([3968]), array([3979]), array([3980]), array([3982]), array([3985]), array([3987]), array([3989]), array([3991]), array([3993]), array([3994]), array([3996]), array([3998]), array([4001]), array([4003]), array([4004]), array([4005]), array([4008]), array([4009]), array([4010]), array([4011]), array([4012]), array([4013]), array([4014]), array([4018]), array([4020]), array([4022]), array([4026]), array([4028]), array([4030]), array([4031]), array([4034]), array([4035]), array([4037]), array([4038]), array([4042]), array([4048]), array([4050]), array([4052]), array([4053]), array([4057]), array([4068]), array([4071]), array([4072]), array([4073]), array([4076]), array([4078]), array([4081]), array([4084]), array([4086]), array([4088]), array([4089]), array([4091]), array([4103]), array([4105]), array([4110]), array([4112]), array([4113]), array([4114]), array([4118]), array([4119]), array([4121]), array([4125]), array([4130]), array([4134]), array([4135]), array([4136]), array([4139]), array([4146]), array([4148]), array([4149]), array([4151]), array([4153]), array([4156]), array([4158]), array([4163]), array([4164]), array([4165]), array([4167]), array([4168]), array([4172]), array([4173]), array([4181]), array([4182]), array([4183]), array([4184]), array([4185]), array([4188]), array([4189]), array([4192]), array([4195]), array([4203]), array([4208]), array([4220]), array([4222]), array([4225]), array([4227]), array([4228]), array([4229]), array([4235]), array([4236]), array([4242]), array([4248]), array([4250]), array([4254]), array([4255]), array([4256]), array([4262]), array([4264]), array([4265]), array([4268]), array([4274]), array([4276]), array([4278]), array([4286]), array([4289]), array([4292]), array([4294]), array([4296]), array([4310]), array([4311]), array([4314]), array([4315]), array([4317]), array([4319]), array([4321]), array([4327]), array([4336]), array([4341]), array([4343]), array([4345]), array([4347]), array([4348]), array([4354]), array([4360]), array([4361]), array([4362]), array([4366]), array([4367]), array([4369]), array([4371]), array([4375]), array([4378]), array([4379]), array([4382]), array([4385]), array([4386]), array([4387]), array([4392]), array([4393]), array([4397]), array([4398]), array([4399]), array([4401]), array([4402]), array([4404]), array([4406]), array([4412]), array([4413]), array([4415]), array([4417]), array([4419]), array([4420]), array([4421]), array([4422]), array([4425]), array([4428]), array([4429]), array([4434]), array([4435]), array([4443]), array([4446]), array([4449]), array([4452]), array([4453]), array([4454]), array([4455]), array([4458]), array([4459]), array([4463]), array([4464]), array([4468]), array([4473]), array([4474]), array([4477]), array([4479]), array([4482]), array([4483]), array([4484]), array([4487]), array([4495]), array([4504]), array([4508]), array([4509]), array([4515]), array([4517]), array([4521]), array([4522]), array([4524]), array([4528]), array([4529]), array([4530]), array([4531]), array([4533]), array([4545]), array([4546]), array([4554]), array([4555]), array([4559]), array([4560]), array([4561]), array([4562]), array([4564]), array([4566]), array([4569]), array([4572]), array([4573]), array([4576]), array([4578]), array([4583]), array([4585]), array([4586]), array([4591]), array([4595]), array([4596]), array([4597]), array([4600]), array([4601]), array([4604]), array([4608]), array([4610]), array([4612]), array([4614]), array([4615]), array([4619]), array([4622]), array([4626]), array([4627]), array([4630]), array([4634]), array([4642]), array([4648]), array([4651]), array([4653]), array([4660]), array([4661]), array([4662]), array([4663]), array([4664]), array([4665]), array([4666]), array([4667]), array([4668]), array([4673]), array([4676]), array([4678]), array([4685]), array([4686]), array([4694]), array([4695]), array([4696]), array([4697]), array([4703]), array([4704]), array([4705]), array([4706]), array([4707]), array([4708]), array([4709]), array([4710]), array([4716]), array([4719]), array([4720]), array([4722]), array([4725]), array([4726]), array([4729]), array([4734]), array([4735]), array([4737]), array([4738]), array([4741]), array([4743]), array([4744]), array([4747]), array([4749]), array([4751]), array([4754]), array([4755]), array([4756]), array([4759]), array([4760]), array([4761]), array([4762]), array([4763]), array([4766]), array([4768]), array([4769]), array([4770]), array([4773]), array([4779]), array([4780]), array([4781]), array([4782]), array([4783]), array([4785]), array([4787]), array([4793]), array([4794]), array([4795]), array([4798]), array([4800]), array([4803]), array([4812]), array([4815]), array([4816]), array([4824]), array([4825]), array([4826]), array([4828]), array([4829]), array([4830]), array([4831]), array([4833]), array([4834]), array([4836]), array([4837]), array([4840]), array([4841]), array([4843]), array([4844]), array([4845]), array([4847]), array([4850]), array([4851]), array([4856]), array([4857]), array([4859]), array([4866]), array([4877]), array([4879]), array([4884]), array([4886]), array([4887]), array([4888]), array([4889]), array([4891]), array([4892]), array([4893]), array([4894]), array([4899]), array([4907]), array([4910]), array([4911]), array([4913]), array([4915]), array([4918]), array([4921]), array([4926]), array([4927]), array([4928]), array([4933]), array([4934]), array([4936]), array([4937]), array([4939]), array([4942]), array([4946]), array([4947]), array([4951]), array([4952]), array([4953]), array([4955]), array([4961]), array([4963]), array([4967]), array([4968]), array([4973]), array([4974]), array([4975]), array([4976]), array([4979]), array([4981]), array([4982]), array([4984]), array([4985]), array([4987]), array([4990]), array([4993]), array([4997]), array([1]), array([6]), array([14]), array([15]), array([17]), array([21]), array([22]), array([23]), array([27]), array([28]), array([36]), array([37]), array([38]), array([41]), array([42]), array([43]), array([44]), array([45]), array([46]), array([49]), array([52]), array([54]), array([58]), array([59]), array([61]), array([65]), array([66]), array([68]), array([69]), array([72]), array([73]), array([74]), array([77]), array([79]), array([80]), array([83]), array([84]), array([85]), array([86]), array([89]), array([90]), array([97]), array([98]), array([99]), array([103]), array([104]), array([105]), array([106]), array([110]), array([116]), array([117]), array([120]), array([121]), array([126]), array([128]), array([129]), array([133]), array([137]), array([143]), array([145]), array([148]), array([150]), array([152]), array([154]), array([156]), array([158]), array([161]), array([166]), array([167]), array([168]), array([173]), array([175]), array([176]), array([177]), array([178]), array([181]), array([183]), array([184]), array([185]), array([188]), array([190]), array([191]), array([197]), array([198]), array([199]), array([201]), array([202]), array([205]), array([207]), array([210]), array([211]), array([212]), array([213]), array([219]), array([223]), array([225]), array([230]), array([233]), array([235]), array([241]), array([243]), array([245]), array([246]), array([251]), array([254]), array([255]), array([257]), array([260]), array([261]), array([263]), array([265]), array([271]), array([273]), array([274]), array([275]), array([277]), array([280]), array([281]), array([282]), array([285]), array([288]), array([292]), array([293]), array([294]), array([297]), array([300]), array([306]), array([307]), array([309]), array([310]), array([312]), array([323]), array([326]), array([330]), array([332]), array([335]), array([338]), array([340]), array([341]), array([345]), array([347]), array([348]), array([349]), array([350]), array([352]), array([354]), array([357]), array([360]), array([365]), array([368]), array([371]), array([375]), array([381]), array([389]), array([394]), array([395]), array([401]), array([402]), array([405]), array([411]), array([414]), array([415]), array([418]), array([421]), array([423]), array([424]), array([425]), array([429]), array([431]), array([432]), array([434]), array([435]), array([437]), array([438]), array([441]), array([442]), array([443]), array([445]), array([453]), array([455]), array([457]), array([459]), array([467]), array([472]), array([474]), array([475]), array([476]), array([484]), array([485]), array([486]), array([492]), array([493]), array([495]), array([501]), array([504]), array([505]), array([506]), array([508]), array([510]), array([516]), array([519]), array([522]), array([526]), array([529]), array([531]), array([534]), array([535]), array([539]), array([543]), array([544]), array([548]), array([549]), array([554]), array([555]), array([558]), array([559]), array([560]), array([562]), array([563]), array([564]), array([565]), array([566]), array([569]), array([571]), array([574]), array([577]), array([579]), array([580]), array([582]), array([583]), array([584]), array([585]), array([588]), array([591]), array([592]), array([593]), array([598]), array([604]), array([606]), array([609]), array([613]), array([614]), array([616]), array([617]), array([619]), array([621]), array([627]), array([628]), array([630]), array([632]), array([634]), array([635]), array([636]), array([639]), array([640]), array([641]), array([643]), array([644]), array([654]), array([655]), array([656]), array([662]), array([665]), array([671]), array([672]), array([673]), array([674]), array([678]), array([680]), array([684]), array([686]), array([692]), array([693]), array([695]), array([699]), array([704]), array([710]), array([711]), array([712]), array([713]), array([716]), array([718]), array([725]), array([727]), array([730]), array([734]), array([737]), array([740]), array([741]), array([744]), array([747]), array([749]), array([751]), array([752]), array([754]), array([755]), array([759]), array([760]), array([762]), array([766]), array([772]), array([773]), array([774]), array([777]), array([778]), array([784]), array([786]), array([788]), array([789]), array([790]), array([792]), array([794]), array([795]), array([799]), array([800]), array([801]), array([802]), array([810]), array([812]), array([815]), array([817]), array([820]), array([822]), array([824]), array([825]), array([826]), array([828]), array([830]), array([835]), array([843]), array([848]), array([849]), array([851]), array([852]), array([853]), array([855]), array([860]), array([863]), array([866]), array([867]), array([870]), array([871]), array([875]), array([876]), array([882]), array([886]), array([887]), array([889]), array([891]), array([892]), array([898]), array([902]), array([903]), array([905]), array([906]), array([911]), array([912]), array([913]), array([914]), array([915]), array([920]), array([921]), array([923]), array([924]), array([925]), array([926]), array([928]), array([930]), array([934]), array([938]), array([939]), array([940]), array([941]), array([942]), array([947]), array([948]), array([949]), array([950]), array([953]), array([958]), array([960]), array([965]), array([968]), array([969]), array([971]), array([973]), array([977]), array([984]), array([987]), array([994]), array([997]), array([1000]), array([1007]), array([1008]), array([1012]), array([1013]), array([1014]), array([1017]), array([1018]), array([1020]), array([1021]), array([1023]), array([1027]), array([1028]), array([1036]), array([1038]), array([1039]), array([1041]), array([1045]), array([1047]), array([1048]), array([1052]), array([1054]), array([1055]), array([1059]), array([1062]), array([1063]), array([1073]), array([1076]), array([1081]), array([1086]), array([1087]), array([1091]), array([1092]), array([1094]), array([1097]), array([1099]), array([1102]), array([1105]), array([1109]), array([1115]), array([1118]), array([1122]), array([1123]), array([1127]), array([1129]), array([1130]), array([1137]), array([1138]), array([1141]), array([1143]), array([1146]), array([1148]), array([1150]), array([1151]), array([1152]), array([1153]), array([1154]), array([1155]), array([1158]), array([1159]), array([1161]), array([1163]), array([1167]), array([1175]), array([1180]), array([1183]), array([1188]), array([1189]), array([1190]), array([1191]), array([1194]), array([1197]), array([1198]), array([1199]), array([1202]), array([1203]), array([1214]), array([1219]), array([1221]), array([1223]), array([1225]), array([1228]), array([1229]), array([1230]), array([1233]), array([1237]), array([1240]), array([1241]), array([1242]), array([1248]), array([1254]), array([1256]), array([1260]), array([1261]), array([1265]), array([1272]), array([1273]), array([1276]), array([1277]), array([1280]), array([1281]), array([1284]), array([1285]), array([1287]), array([1289]), array([1291]), array([1295]), array([1296]), array([1302]), array([1306]), array([1307]), array([1310]), array([1312]), array([1313]), array([1317]), array([1321]), array([1323]), array([1325]), array([1326]), array([1329]), array([1330]), array([1333]), array([1334]), array([1336]), array([1339]), array([1341]), array([1348]), array([1354]), array([1355]), array([1358]), array([1359]), array([1360]), array([1363]), array([1364]), array([1370]), array([1372]), array([1375]), array([1376]), array([1377]), array([1378]), array([1380]), array([1381]), array([1382]), array([1383]), array([1389]), array([1390]), array([1393]), array([1394]), array([1395]), array([1397]), array([1399]), array([1401]), array([1406]), array([1413]), array([1420]), array([1426]), array([1427]), array([1431]), array([1432]), array([1434]), array([1438]), array([1439]), array([1440]), array([1442]), array([1445]), array([1446]), array([1447]), array([1448]), array([1449]), array([1454]), array([1457]), array([1458]), array([1459]), array([1460]), array([1462]), array([1468]), array([1469]), array([1474]), array([1485]), array([1486]), array([1487]), array([1489]), array([1492]), array([1494]), array([1495]), array([1496]), array([1500]), array([1504]), array([1506]), array([1512]), array([1514]), array([1516]), array([1526]), array([1527]), array([1530]), array([1532]), array([1535]), array([1536]), array([1542]), array([1546]), array([1551]), array([1556]), array([1559]), array([1562]), array([1565]), array([1569]), array([1573]), array([1576]), array([1578]), array([1580]), array([1586]), array([1593]), array([1596]), array([1598]), array([1599]), array([1600]), array([1605]), array([1608]), array([1612]), array([1613]), array([1614]), array([1616]), array([1619]), array([1620]), array([1621]), array([1622]), array([1623]), array([1626]), array([1630]), array([1633]), array([1635]), array([1643]), array([1648]), array([1649]), array([1653]), array([1655]), array([1657]), array([1666]), array([1668]), array([1669]), array([1670]), array([1672]), array([1674]), array([1675]), array([1676]), array([1679]), array([1681]), array([1682]), array([1684]), array([1685]), array([1686]), array([1690]), array([1694]), array([1696]), array([1699]), array([1701]), array([1710]), array([1711]), array([1714]), array([1715]), array([1720]), array([1726]), array([1733]), array([1735]), array([1736]), array([1737]), array([1743]), array([1747]), array([1752]), array([1754]), array([1755]), array([1756]), array([1758]), array([1762]), array([1763]), array([1765]), array([1766]), array([1768]), array([1773]), array([1777]), array([1778]), array([1786]), array([1788]), array([1789]), array([1791]), array([1795]), array([1799]), array([1801]), array([1804]), array([1809]), array([1812]), array([1814]), array([1815]), array([1816]), array([1823]), array([1827]), array([1833]), array([1836]), array([1837]), array([1842]), array([1843]), array([1844]), array([1847]), array([1848]), array([1851]), array([1852]), array([1855]), array([1856]), array([1857]), array([1858]), array([1860]), array([1864]), array([1871]), array([1876]), array([1877]), array([1879]), array([1880]), array([1882]), array([1886]), array([1887]), array([1888]), array([1894]), array([1896]), array([1897]), array([1899]), array([1900]), array([1903]), array([1908]), array([1913]), array([1917]), array([1924]), array([1925]), array([1926]), array([1931]), array([1934]), array([1937]), array([1938]), array([1940]), array([1942]), array([1944]), array([1947]), array([1948]), array([1952]), array([1955]), array([1958]), array([1959]), array([1960]), array([1961]), array([1965]), array([1967]), array([1969]), array([1974]), array([1978]), array([1981]), array([1984]), array([1986]), array([1991]), array([1993]), array([1995]), array([1998]), array([2001]), array([2008]), array([2012]), array([2013]), array([2014]), array([2015]), array([2018]), array([2019]), array([2021]), array([2022]), array([2024]), array([2025]), array([2026]), array([2030]), array([2034]), array([2035]), array([2041]), array([2046]), array([2049]), array([2052]), array([2053]), array([2057]), array([2058]), array([2063]), array([2067]), array([2068]), array([2069]), array([2073]), array([2076]), array([2081]), array([2082]), array([2083]), array([2084]), array([2085]), array([2087]), array([2089]), array([2091]), array([2092]), array([2097]), array([2098]), array([2101]), array([2104]), array([2106]), array([2107]), array([2111]), array([2112]), array([2113]), array([2114]), array([2119]), array([2122]), array([2123]), array([2126]), array([2132]), array([2137]), array([2139]), array([2140]), array([2144]), array([2146]), array([2148]), array([2150]), array([2151]), array([2153]), array([2154]), array([2155]), array([2162]), array([2163]), array([2167]), array([2169]), array([2172]), array([2174]), array([2175]), array([2176]), array([2181]), array([2183]), array([2188]), array([2190]), array([2193]), array([2194]), array([2195]), array([2200]), array([2203]), array([2205]), array([2207]), array([2208]), array([2212]), array([2214]), array([2215]), array([2216]), array([2219]), array([2222]), array([2223]), array([2228]), array([2235]), array([2241]), array([2242]), array([2245]), array([2246]), array([2248]), array([2249]), array([2250]), array([2253]), array([2256]), array([2260]), array([2262]), array([2264]), array([2265]), array([2269]), array([2271]), array([2272]), array([2273]), array([2274]), array([2275]), array([2278]), array([2280]), array([2281]), array([2282]), array([2284]), array([2285]), array([2287]), array([2289]), array([2292]), array([2294]), array([2297]), array([2304]), array([2305]), array([2306]), array([2310]), array([2311]), array([2312]), array([2314]), array([2315]), array([2318]), array([2319]), array([2326]), array([2335]), array([2336]), array([2337]), array([2338]), array([2343]), array([2345]), array([2346]), array([2349]), array([2350]), array([2351]), array([2352]), array([2353]), array([2360]), array([2363]), array([2365]), array([2368]), array([2371]), array([2373]), array([2374]), array([2376]), array([2378]), array([2383]), array([2385]), array([2386]), array([2388]), array([2391]), array([2393]), array([2394]), array([2395]), array([2396]), array([2398]), array([2399]), array([2403]), array([2404]), array([2412]), array([2414]), array([2419]), array([2422]), array([2424]), array([2427]), array([2429]), array([2431]), array([2432]), array([2433]), array([2437]), array([2440]), array([2445]), array([2453]), array([2458]), array([2462]), array([2464]), array([2469]), array([2471]), array([2478]), array([2481]), array([2484]), array([2490]), array([2492]), array([2493]), array([2500]), array([2504]), array([2506]), array([2509]), array([2511]), array([2512]), array([2513]), array([2514]), array([2516]), array([2519]), array([2520]), array([2522]), array([2529]), array([2531]), array([2532]), array([2535]), array([2536]), array([2537]), array([2539]), array([2542]), array([2543]), array([2546]), array([2547]), array([2549]), array([2551]), array([2554]), array([2557]), array([2563]), array([2565]), array([2566]), array([2569]), array([2570]), array([2573]), array([2575]), array([2576]), array([2578]), array([2583]), array([2584]), array([2586]), array([2587]), array([2589]), array([2590]), array([2597]), array([2600]), array([2601]), array([2604]), array([2609]), array([2611]), array([2614]), array([2616]), array([2617]), array([2622]), array([2627]), array([2631]), array([2632]), array([2635]), array([2637]), array([2639]), array([2641]), array([2646]), array([2649]), array([2652]), array([2655]), array([2663]), array([2665]), array([2668]), array([2674]), array([2676]), array([2678]), array([2679]), array([2680]), array([2686]), array([2692]), array([2696]), array([2699]), array([2700]), array([2702]), array([2704]), array([2708]), array([2709]), array([2711]), array([2713]), array([2714]), array([2716]), array([2718]), array([2719]), array([2721]), array([2723]), array([2724]), array([2727]), array([2728]), array([2732]), array([2733]), array([2736]), array([2737]), array([2738]), array([2739]), array([2740]), array([2742]), array([2746]), array([2757]), array([2758]), array([2759]), array([2762]), array([2769]), array([2781]), array([2784]), array([2788]), array([2793]), array([2796]), array([2797]), array([2798]), array([2802]), array([2804]), array([2806]), array([2811]), array([2813]), array([2815]), array([2818]), array([2820]), array([2823]), array([2827]), array([2831]), array([2833]), array([2840]), array([2843]), array([2845]), array([2848]), array([2850]), array([2851]), array([2853]), array([2854]), array([2856]), array([2857]), array([2861]), array([2862]), array([2864]), array([2870]), array([2871]), array([2872]), array([2873]), array([2877]), array([2878]), array([2879]), array([2880]), array([2882]), array([2884]), array([2889]), array([2890]), array([2893]), array([2894]), array([2896]), array([2897]), array([2900]), array([2902]), array([2903]), array([2904]), array([2908]), array([2909]), array([2910]), array([2914]), array([2915]), array([2920]), array([2922]), array([2924]), array([2926]), array([2927]), array([2928]), array([2932]), array([2933]), array([2934]), array([2935]), array([2938]), array([2940]), array([2944]), array([2946]), array([2947]), array([2950]), array([2951]), array([2952]), array([2953]), array([2955]), array([2957]), array([2963]), array([2964]), array([2966]), array([2972]), array([2973]), array([2979]), array([2981]), array([2982]), array([2986]), array([2989]), array([2990]), array([2991]), array([3001]), array([3003]), array([3005]), array([3006]), array([3009]), array([3013]), array([3016]), array([3018]), array([3019]), array([3024]), array([3025]), array([3028]), array([3029]), array([3034]), array([3036]), array([3038]), array([3043]), array([3046]), array([3047]), array([3049]), array([3051]), array([3052]), array([3057]), array([3059]), array([3062]), array([3065]), array([3073]), array([3077]), array([3082]), array([3083]), array([3090]), array([3091]), array([3092]), array([3093]), array([3102]), array([3108]), array([3111]), array([3112]), array([3114]), array([3115]), array([3118]), array([3130]), array([3139]), array([3141]), array([3153]), array([3154]), array([3156]), array([3157]), array([3158]), array([3164]), array([3172]), array([3173]), array([3175]), array([3181]), array([3183]), array([3188]), array([3191]), array([3196]), array([3199]), array([3203]), array([3208]), array([3210]), array([3217]), array([3218]), array([3220]), array([3221]), array([3228]), array([3231]), array([3233]), array([3238]), array([3240]), array([3243]), array([3246]), array([3250]), array([3252]), array([3253]), array([3256]), array([3263]), array([3264]), array([3265]), array([3269]), array([3271]), array([3272]), array([3273]), array([3274]), array([3276]), array([3277]), array([3278]), array([3282]), array([3283]), array([3284]), array([3286]), array([3287]), array([3290]), array([3293]), array([3297]), array([3298]), array([3304]), array([3305]), array([3307]), array([3308]), array([3312]), array([3316]), array([3319]), array([3321]), array([3326]), array([3327]), array([3337]), array([3338]), array([3339]), array([3341]), array([3342]), array([3346]), array([3348]), array([3349]), array([3351]), array([3354]), array([3355]), array([3358]), array([3359]), array([3361]), array([3372]), array([3375]), array([3377]), array([3378]), array([3381]), array([3382]), array([3383]), array([3386]), array([3387]), array([3388]), array([3390]), array([3393]), array([3394]), array([3397]), array([3398]), array([3400]), array([3402]), array([3405]), array([3407]), array([3408]), array([3410]), array([3413]), array([3418]), array([3419]), array([3420]), array([3421]), array([3422]), array([3423]), array([3425]), array([3426]), array([3429]), array([3434]), array([3437]), array([3439]), array([3441]), array([3446]), array([3447]), array([3448]), array([3452]), array([3454]), array([3455]), array([3456]), array([3457]), array([3459]), array([3463]), array([3464]), array([3467]), array([3469]), array([3471]), array([3472]), array([3475]), array([3476]), array([3477]), array([3478]), array([3480]), array([3481]), array([3482]), array([3485]), array([3487]), array([3488]), array([3492]), array([3494]), array([3498]), array([3500]), array([3501]), array([3505]), array([3506]), array([3507]), array([3509]), array([3510]), array([3514]), array([3516]), array([3518]), array([3519]), array([3520]), array([3521]), array([3525]), array([3526]), array([3527]), array([3530]), array([3531]), array([3532]), array([3533]), array([3534]), array([3536]), array([3537]), array([3540]), array([3541]), array([3542]), array([3543]), array([3544]), array([3545]), array([3550]), array([3554]), array([3555]), array([3559]), array([3561]), array([3570]), array([3573]), array([3574]), array([3575]), array([3576]), array([3577]), array([3584]), array([3586]), array([3591]), array([3593]), array([3596]), array([3597]), array([3598]), array([3599]), array([3600]), array([3601]), array([3604]), array([3605]), array([3610]), array([3612]), array([3618]), array([3620]), array([3627]), array([3632]), array([3633]), array([3635]), array([3639]), array([3643]), array([3644]), array([3646]), array([3648]), array([3649]), array([3651]), array([3653]), array([3656]), array([3657]), array([3659]), array([3660]), array([3661]), array([3667]), array([3669]), array([3671]), array([3672]), array([3679]), array([3684]), array([3689]), array([3690]), array([3696]), array([3702]), array([3703]), array([3705]), array([3707]), array([3708]), array([3710]), array([3711]), array([3718]), array([3721]), array([3722]), array([3727]), array([3739]), array([3742]), array([3745]), array([3747]), array([3749]), array([3750]), array([3752]), array([3758]), array([3759]), array([3761]), array([3764]), array([3765]), array([3768]), array([3772]), array([3775]), array([3776]), array([3779]), array([3783]), array([3784]), array([3786]), array([3790]), array([3794]), array([3795]), array([3796]), array([3798]), array([3801]), array([3807]), array([3808]), array([3814]), array([3818]), array([3820]), array([3822]), array([3825]), array([3826]), array([3829]), array([3831]), array([3832]), array([3833]), array([3836]), array([3839]), array([3840]), array([3843]), array([3844]), array([3845]), array([3848]), array([3849]), array([3851]), array([3852]), array([3856]), array([3857]), array([3858]), array([3860]), array([3862]), array([3867]), array([3868]), array([3874]), array([3877]), array([3879]), array([3881]), array([3884]), array([3885]), array([3886]), array([3892]), array([3893]), array([3896]), array([3903]), array([3904]), array([3905]), array([3907]), array([3909]), array([3910]), array([3912]), array([3913]), array([3916]), array([3917]), array([3918]), array([3919]), array([3921]), array([3923]), array([3924]), array([3927]), array([3931]), array([3938]), array([3939]), array([3941]), array([3942]), array([3943]), array([3944]), array([3945]), array([3946]), array([3950]), array([3951]), array([3955]), array([3957]), array([3958]), array([3959]), array([3961]), array([3962]), array([3964]), array([3966]), array([3968]), array([3969]), array([3972]), array([3973]), array([3974]), array([3975]), array([3978]), array([3979]), array([3980]), array([3986]), array([3987]), array([3990]), array([3993]), array([3996]), array([3997]), array([3998]), array([4002]), array([4007]), array([4009]), array([4011]), array([4015]), array([4020]), array([4022]), array([4023]), array([4026]), array([4028]), array([4029]), array([4032]), array([4034]), array([4038]), array([4043]), array([4044]), array([4045]), array([4054]), array([4055]), array([4057]), array([4058]), array([4062]), array([4063]), array([4065]), array([4069]), array([4071]), array([4072]), array([4073]), array([4077]), array([4080]), array([4081]), array([4083]), array([4084]), array([4087]), array([4089]), array([4096]), array([4098]), array([4104]), array([4110]), array([4112]), array([4117]), array([4118]), array([4120]), array([4126]), array([4129]), array([4131]), array([4133]), array([4134]), array([4135]), array([4136]), array([4138]), array([4140]), array([4143]), array([4146]), array([4147]), array([4148]), array([4150]), array([4153]), array([4155]), array([4157]), array([4162]), array([4164]), array([4166]), array([4169]), array([4172]), array([4173]), array([4176]), array([4177]), array([4179]), array([4181]), array([4182]), array([4184]), array([4186]), array([4187]), array([4190]), array([4191]), array([4192]), array([4194]), array([4198]), array([4199]), array([4200]), array([4202]), array([4204]), array([4208]), array([4212]), array([4215]), array([4217]), array([4220]), array([4221]), array([4222]), array([4223]), array([4226]), array([4227]), array([4230]), array([4231]), array([4233]), array([4240]), array([4248]), array([4249]), array([4259]), array([4262]), array([4264]), array([4266]), array([4282]), array([4284]), array([4286]), array([4288]), array([4291]), array([4297]), array([4299]), array([4300]), array([4302]), array([4304]), array([4305]), array([4306]), array([4307]), array([4310]), array([4312]), array([4316]), array([4317]), array([4318]), array([4320]), array([4321]), array([4322]), array([4325]), array([4326]), array([4327]), array([4331]), array([4332]), array([4333]), array([4334]), array([4336]), array([4337]), array([4338]), array([4339]), array([4346]), array([4349]), array([4350]), array([4352]), array([4357]), array([4359]), array([4369]), array([4371]), array([4374]), array([4375]), array([4376]), array([4379]), array([4380]), array([4381]), array([4382]), array([4383]), array([4385]), array([4386]), array([4393]), array([4401]), array([4406]), array([4409]), array([4412]), array([4414]), array([4418]), array([4420]), array([4423]), array([4428]), array([4429]), array([4430]), array([4435]), array([4437]), array([4439]), array([4442]), array([4449]), array([4451]), array([4452]), array([4456]), array([4459]), array([4460]), array([4464]), array([4465]), array([4466]), array([4467]), array([4468]), array([4469]), array([4470]), array([4472]), array([4474]), array([4476]), array([4479]), array([4481]), array([4484]), array([4486]), array([4492]), array([4496]), array([4498]), array([4500]), array([4501]), array([4504]), array([4512]), array([4514]), array([4515]), array([4519]), array([4528]), array([4529]), array([4530]), array([4532]), array([4542]), array([4546]), array([4549]), array([4554]), array([4555]), array([4557]), array([4559]), array([4563]), array([4564]), array([4567]), array([4573]), array([4576]), array([4579]), array([4581]), array([4585]), array([4586]), array([4588]), array([4589]), array([4590]), array([4595]), array([4601]), array([4602]), array([4614]), array([4615]), array([4617]), array([4618]), array([4620]), array([4626]), array([4631]), array([4636]), array([4640]), array([4641]), array([4645]), array([4649]), array([4650]), array([4653]), array([4654]), array([4660]), array([4661]), array([4663]), array([4665]), array([4668]), array([4670]), array([4679]), array([4680]), array([4681]), array([4689]), array([4692]), array([4702]), array([4704]), array([4707]), array([4710]), array([4715]), array([4717]), array([4720]), array([4721]), array([4722]), array([4724]), array([4725]), array([4726]), array([4727]), array([4728]), array([4729]), array([4731]), array([4735]), array([4744]), array([4745]), array([4751]), array([4753]), array([4757]), array([4760]), array([4761]), array([4762]), array([4763]), array([4766]), array([4770]), array([4772]), array([4776]), array([4777]), array([4779]), array([4781]), array([4782]), array([4783]), array([4785]), array([4787]), array([4792]), array([4795]), array([4797]), array([4800]), array([4801]), array([4805]), array([4806]), array([4807]), array([4809]), array([4812]), array([4815]), array([4817]), array([4818]), array([4819]), array([4822]), array([4823]), array([4828]), array([4829]), array([4830]), array([4831]), array([4834]), array([4835]), array([4839]), array([4844]), array([4846]), array([4848]), array([4849]), array([4850]), array([4851]), array([4852]), array([4853]), array([4857]), array([4859]), array([4860]), array([4865]), array([4869]), array([4870]), array([4872]), array([4873]), array([4879]), array([4884]), array([4886]), array([4887]), array([4892]), array([4894]), array([4896]), array([4897]), array([4900]), array([4903]), array([4904]), array([4906]), array([4917]), array([4924]), array([4927]), array([4928]), array([4931]), array([4932]), array([4938]), array([4940]), array([4941]), array([4946]), array([4948]), array([4950]), array([4955]), array([4958]), array([4959]), array([4960]), array([4964]), array([4969]), array([4970]), array([4972]), array([4974]), array([4979]), array([4985]), array([4986]), array([4988]), array([4989]), array([4995]), array([4997]), array([14]), array([15]), array([16]), array([17]), array([26]), array([28]), array([31]), array([33]), array([35]), array([36]), array([39]), array([40]), array([41]), array([45]), array([46]), array([51]), array([54]), array([55]), array([56]), array([59]), array([60]), array([62]), array([64]), array([66]), array([67]), array([72]), array([74]), array([76]), array([78]), array([80]), array([82]), array([84]), array([85]), array([88]), array([92]), array([95]), array([96]), array([99]), array([100]), array([104]), array([106]), array([107]), array([109]), array([112]), array([113]), array([115]), array([117]), array([118]), array([119]), array([120]), array([121]), array([123]), array([124]), array([127]), array([128]), array([132]), array([133]), array([139]), array([142]), array([146]), array([147]), array([148]), array([150]), array([154]), array([157]), array([161]), array([163]), array([164]), array([165]), array([166]), array([167]), array([173]), array([176]), array([179]), array([180]), array([185]), array([186]), array([187]), array([188]), array([191]), array([192]), array([195]), array([197]), array([198]), array([199]), array([200]), array([202]), array([205]), array([207]), array([209]), array([210]), array([212]), array([213]), array([219]), array([220]), array([222]), array([223]), array([224]), array([230]), array([235]), array([236]), array([239]), array([240]), array([243]), array([247]), array([248]), array([249]), array([252]), array([253]), array([254]), array([259]), array([262]), array([264]), array([266]), array([268]), array([269]), array([270]), array([271]), array([278]), array([280]), array([281]), array([282]), array([283]), array([286]), array([289]), array([290]), array([291]), array([294]), array([295]), array([303]), array([310]), array([311]), array([313]), array([314]), array([316]), array([317]), array([320]), array([328]), array([329]), array([332]), array([342]), array([344]), array([350]), array([354]), array([355]), array([360]), array([363]), array([365]), array([367]), array([368]), array([372]), array([373]), array([375]), array([381]), array([385]), array([386]), array([387]), array([388]), array([390]), array([391]), array([393]), array([394]), array([395]), array([396]), array([397]), array([403]), array([407]), array([409]), array([411]), array([417]), array([424]), array([427]), array([429]), array([431]), array([432]), array([434]), array([435]), array([437]), array([440]), array([442]), array([447]), array([452]), array([455]), array([457]), array([462]), array([463]), array([465]), array([471]), array([473]), array([474]), array([477]), array([482]), array([484]), array([485]), array([488]), array([490]), array([491]), array([492]), array([495]), array([497]), array([498]), array([502]), array([503]), array([507]), array([508]), array([509]), array([510]), array([511]), array([514]), array([516]), array([518]), array([519]), array([522]), array([524]), array([527]), array([528]), array([531]), array([532]), array([535]), array([536]), array([537]), array([539]), array([541]), array([545]), array([552]), array([554]), array([560]), array([564]), array([566]), array([567]), array([568]), array([570]), array([576]), array([577]), array([579]), array([581]), array([585]), array([586]), array([587]), array([590]), array([591]), array([592]), array([595]), array([597]), array([598]), array([599]), array([600]), array([601]), array([603]), array([605]), array([606]), array([607]), array([613]), array([614]), array([620]), array([621]), array([622]), array([623]), array([626]), array([630]), array([631]), array([636]), array([640]), array([641]), array([644]), array([645]), array([648]), array([649]), array([652]), array([656]), array([657]), array([663]), array([664]), array([666]), array([667]), array([674]), array([675]), array([679]), array([681]), array([682]), array([685]), array([689]), array([692]), array([694]), array([698]), array([699]), array([700]), array([701]), array([704]), array([706]), array([707]), array([715]), array([718]), array([722]), array([723]), array([728]), array([730]), array([735]), array([736]), array([737]), array([742]), array([748]), array([749]), array([751]), array([752]), array([757]), array([766]), array([768]), array([769]), array([770]), array([771]), array([772]), array([774]), array([778]), array([779]), array([780]), array([784]), array([787]), array([788]), array([793]), array([795]), array([798]), array([799]), array([807]), array([810]), array([814]), array([815]), array([816]), array([818]), array([819]), array([821]), array([823]), array([825]), array([830]), array([834]), array([839]), array([841]), array([846]), array([847]), array([848]), array([849]), array([851]), array([854]), array([856]), array([858]), array([859]), array([861]), array([864]), array([865]), array([869]), array([870]), array([871]), array([873]), array([874]), array([875]), array([878]), array([879]), array([880]), array([881]), array([882]), array([886]), array([888]), array([889]), array([890]), array([894]), array([895]), array([905]), array([909]), array([913]), array([919]), array([921]), array([922]), array([923]), array([924]), array([925]), array([926]), array([929]), array([932]), array([933]), array([934]), array([936]), array([938]), array([939]), array([943]), array([944]), array([946]), array([947]), array([953]), array([954]), array([958]), array([959]), array([961]), array([963]), array([966]), array([967]), array([972]), array([973]), array([974]), array([975]), array([976]), array([982]), array([983]), array([987]), array([989]), array([991]), array([992]), array([993]), array([997]), array([999]), array([1004]), array([1005]), array([1012]), array([1013]), array([1014]), array([1015]), array([1017]), array([1022]), array([1025]), array([1028]), array([1029]), array([1030]), array([1033]), array([1035]), array([1036]), array([1038]), array([1039]), array([1040]), array([1041]), array([1044]), array([1045]), array([1048]), array([1052]), array([1053]), array([1054]), array([1059]), array([1064]), array([1065]), array([1067]), array([1068]), array([1071]), array([1073]), array([1075]), array([1078]), array([1079]), array([1081]), array([1082]), array([1083]), array([1085]), array([1087]), array([1089]), array([1098]), array([1099]), array([1101]), array([1103]), array([1104]), array([1108]), array([1113]), array([1115]), array([1119]), array([1120]), array([1121]), array([1122]), array([1124]), array([1125]), array([1126]), array([1127]), array([1130]), array([1132]), array([1135]), array([1140]), array([1141]), array([1142]), array([1144]), array([1146]), array([1147]), array([1151]), array([1155]), array([1157]), array([1158]), array([1159]), array([1167]), array([1168]), array([1170]), array([1173]), array([1176]), array([1181]), array([1185]), array([1188]), array([1192]), array([1194]), array([1195]), array([1199]), array([1201]), array([1207]), array([1208]), array([1211]), array([1212]), array([1218]), array([1220]), array([1223]), array([1224]), array([1227]), array([1228]), array([1230]), array([1231]), array([1232]), array([1236]), array([1237]), array([1240]), array([1244]), array([1245]), array([1251]), array([1252]), array([1258]), array([1259]), array([1263]), array([1264]), array([1270]), array([1286]), array([1293]), array([1294]), array([1296]), array([1297]), array([1298]), array([1299]), array([1300]), array([1304]), array([1309]), array([1310]), array([1311]), array([1313]), array([1314]), array([1316]), array([1318]), array([1331]), array([1332]), array([1333]), array([1335]), array([1336]), array([1342]), array([1344]), array([1345]), array([1346]), array([1347]), array([1350]), array([1352]), array([1354]), array([1355]), array([1357]), array([1358]), array([1360]), array([1365]), array([1366]), array([1367]), array([1368]), array([1369]), array([1370]), array([1374]), array([1377]), array([1379]), array([1381]), array([1393]), array([1398]), array([1404]), array([1406]), array([1410]), array([1411]), array([1416]), array([1417]), array([1426]), array([1430]), array([1432]), array([1435]), array([1436]), array([1437]), array([1438]), array([1448]), array([1449]), array([1451]), array([1453]), array([1455]), array([1456]), array([1458]), array([1459]), array([1462]), array([1463]), array([1467]), array([1470]), array([1476]), array([1481]), array([1482]), array([1483]), array([1485]), array([1486]), array([1492]), array([1497]), array([1498]), array([1503]), array([1504]), array([1506]), array([1511]), array([1514]), array([1515]), array([1520]), array([1526]), array([1527]), array([1530]), array([1532]), array([1533]), array([1536]), array([1540]), array([1543]), array([1544]), array([1546]), array([1549]), array([1550]), array([1556]), array([1558]), array([1563]), array([1565]), array([1567]), array([1572]), array([1573]), array([1574]), array([1581]), array([1582]), array([1584]), array([1585]), array([1587]), array([1589]), array([1591]), array([1593]), array([1598]), array([1599]), array([1600]), array([1601]), array([1604]), array([1605]), array([1606]), array([1607]), array([1610]), array([1611]), array([1614]), array([1615]), array([1620]), array([1621]), array([1622]), array([1624]), array([1626]), array([1628]), array([1631]), array([1634]), array([1635]), array([1640]), array([1643]), array([1644]), array([1646]), array([1647]), array([1649]), array([1652]), array([1653]), array([1654]), array([1657]), array([1661]), array([1662]), array([1663]), array([1666]), array([1667]), array([1669]), array([1671]), array([1674]), array([1676]), array([1677]), array([1680]), array([1683]), array([1684]), array([1687]), array([1690]), array([1692]), array([1695]), array([1696]), array([1699]), array([1702]), array([1705]), array([1706]), array([1709]), array([1710]), array([1712]), array([1716]), array([1721]), array([1725]), array([1728]), array([1731]), array([1732]), array([1734]), array([1740]), array([1745]), array([1747]), array([1748]), array([1751]), array([1755]), array([1758]), array([1759]), array([1761]), array([1765]), array([1769]), array([1773]), array([1774]), array([1779]), array([1780]), array([1782]), array([1783]), array([1789]), array([1793]), array([1795]), array([1797]), array([1805]), array([1808]), array([1814]), array([1817]), array([1819]), array([1820]), array([1821]), array([1823]), array([1824]), array([1825]), array([1826]), array([1827]), array([1828]), array([1832]), array([1833]), array([1836]), array([1839]), array([1840]), array([1841]), array([1843]), array([1845]), array([1850]), array([1851]), array([1852]), array([1854]), array([1855]), array([1858]), array([1859]), array([1860]), array([1863]), array([1865]), array([1867]), array([1871]), array([1878]), array([1879]), array([1881]), array([1882]), array([1883]), array([1884]), array([1885]), array([1886]), array([1890]), array([1894]), array([1896]), array([1899]), array([1902]), array([1903]), array([1906]), array([1910]), array([1911]), array([1919]), array([1926]), array([1927]), array([1930]), array([1935]), array([1938]), array([1943]), array([1944]), array([1948]), array([1949]), array([1953]), array([1954]), array([1958]), array([1960]), array([1962]), array([1966]), array([1972]), array([1974]), array([1976]), array([1979]), array([1981]), array([1982]), array([1983]), array([1987]), array([1990]), array([1997]), array([1999]), array([2002]), array([2008]), array([2011]), array([2021]), array([2023]), array([2024]), array([2025]), array([2028]), array([2030]), array([2031]), array([2033]), array([2034]), array([2035]), array([2036]), array([2038]), array([2039]), array([2040]), array([2045]), array([2046]), array([2047]), array([2048]), array([2052]), array([2056]), array([2057]), array([2058]), array([2060]), array([2065]), array([2066]), array([2072]), array([2073]), array([2076]), array([2078]), array([2079]), array([2081]), array([2085]), array([2086]), array([2089]), array([2091]), array([2095]), array([2096]), array([2097]), array([2098]), array([2099]), array([2100]), array([2101]), array([2108]), array([2110]), array([2112]), array([2116]), array([2118]), array([2121]), array([2123]), array([2124]), array([2125]), array([2126]), array([2127]), array([2129]), array([2131]), array([2133]), array([2137]), array([2139]), array([2140]), array([2141]), array([2142]), array([2144]), array([2146]), array([2150]), array([2153]), array([2154]), array([2155]), array([2160]), array([2161]), array([2163]), array([2164]), array([2166]), array([2169]), array([2175]), array([2179]), array([2182]), array([2185]), array([2186]), array([2187]), array([2194]), array([2196]), array([2197]), array([2200]), array([2202]), array([2203]), array([2206]), array([2208]), array([2209]), array([2214]), array([2215]), array([2221]), array([2224]), array([2225]), array([2232]), array([2233]), array([2237]), array([2238]), array([2239]), array([2240]), array([2242]), array([2247]), array([2249]), array([2254]), array([2263]), array([2264]), array([2265]), array([2266]), array([2269]), array([2272]), array([2277]), array([2281]), array([2285]), array([2287]), array([2288]), array([2292]), array([2293]), array([2294]), array([2295]), array([2296]), array([2299]), array([2300]), array([2303]), array([2306]), array([2309]), array([2314]), array([2316]), array([2317]), array([2327]), array([2331]), array([2332]), array([2333]), array([2335]), array([2340]), array([2341]), array([2343]), array([2349]), array([2351]), array([2353]), array([2354]), array([2356]), array([2359]), array([2361]), array([2363]), array([2364]), array([2366]), array([2367]), array([2369]), array([2371]), array([2373]), array([2374]), array([2377]), array([2379]), array([2382]), array([2384]), array([2396]), array([2398]), array([2399]), array([2400]), array([2401]), array([2404]), array([2406]), array([2424]), array([2425]), array([2426]), array([2433]), array([2438]), array([2441]), array([2442]), array([2444]), array([2447]), array([2448]), array([2453]), array([2461]), array([2462]), array([2464]), array([2466]), array([2467]), array([2469]), array([2474]), array([2481]), array([2488]), array([2489]), array([2492]), array([2494]), array([2496]), array([2497]), array([2501]), array([2505]), array([2506]), array([2507]), array([2510]), array([2512]), array([2513]), array([2514]), array([2515]), array([2517]), array([2518]), array([2523]), array([2527]), array([2528]), array([2529]), array([2532]), array([2537]), array([2538]), array([2543]), array([2548]), array([2549]), array([2551]), array([2555]), array([2556]), array([2557]), array([2559]), array([2563]), array([2568]), array([2570]), array([2571]), array([2572]), array([2573]), array([2574]), array([2576]), array([2578]), array([2579]), array([2581]), array([2582]), array([2584]), array([2586]), array([2587]), array([2588]), array([2590]), array([2597]), array([2599]), array([2602]), array([2603]), array([2605]), array([2607]), array([2608]), array([2610]), array([2614]), array([2616]), array([2621]), array([2631]), array([2633]), array([2640]), array([2641]), array([2643]), array([2645]), array([2646]), array([2647]), array([2649]), array([2654]), array([2655]), array([2659]), array([2661]), array([2662]), array([2663]), array([2664]), array([2670]), array([2671]), array([2672]), array([2677]), array([2680]), array([2681]), array([2682]), array([2687]), array([2689]), array([2691]), array([2693]), array([2695]), array([2697]), array([2698]), array([2703]), array([2705]), array([2706]), array([2707]), array([2710]), array([2717]), array([2718]), array([2722]), array([2723]), array([2724]), array([2726]), array([2727]), array([2729]), array([2730]), array([2731]), array([2734]), array([2735]), array([2748]), array([2750]), array([2754]), array([2755]), array([2757]), array([2759]), array([2760]), array([2762]), array([2763]), array([2764]), array([2766]), array([2767]), array([2769]), array([2770]), array([2774]), array([2776]), array([2777]), array([2778]), array([2781]), array([2786]), array([2789]), array([2795]), array([2801]), array([2803]), array([2805]), array([2806]), array([2808]), array([2809]), array([2810]), array([2815]), array([2823]), array([2824]), array([2825]), array([2826]), array([2834]), array([2836]), array([2839]), array([2842]), array([2845]), array([2849]), array([2850]), array([2853]), array([2855]), array([2856]), array([2858]), array([2859]), array([2860]), array([2863]), array([2865]), array([2868]), array([2869]), array([2878]), array([2888]), array([2890]), array([2891]), array([2897]), array([2901]), array([2904]), array([2909]), array([2910]), array([2911]), array([2915]), array([2918]), array([2921]), array([2925]), array([2926]), array([2927]), array([2928]), array([2930]), array([2931]), array([2932]), array([2939]), array([2943]), array([2944]), array([2946]), array([2948]), array([2950]), array([2951]), array([2952]), array([2953]), array([2956]), array([2959]), array([2963]), array([2965]), array([2968]), array([2970]), array([2975]), array([2977]), array([2978]), array([2979]), array([2980]), array([2981]), array([2982]), array([2984]), array([2985]), array([2990]), array([2991]), array([3001]), array([3004]), array([3006]), array([3008]), array([3009]), array([3011]), array([3020]), array([3021]), array([3027]), array([3028]), array([3029]), array([3031]), array([3034]), array([3038]), array([3040]), array([3041]), array([3046]), array([3049]), array([3052]), array([3054]), array([3057]), array([3059]), array([3060]), array([3062]), array([3067]), array([3073]), array([3074]), array([3079]), array([3081]), array([3082]), array([3087]), array([3091]), array([3092]), array([3094]), array([3095]), array([3101]), array([3105]), array([3112]), array([3121]), array([3124]), array([3127]), array([3128]), array([3129]), array([3130]), array([3132]), array([3137]), array([3142]), array([3143]), array([3146]), array([3151]), array([3152]), array([3153]), array([3155]), array([3156]), array([3157]), array([3160]), array([3165]), array([3166]), array([3168]), array([3169]), array([3170]), array([3173]), array([3175]), array([3178]), array([3179]), array([3181]), array([3183]), array([3185]), array([3187]), array([3191]), array([3192]), array([3193]), array([3198]), array([3199]), array([3205]), array([3206]), array([3207]), array([3209]), array([3210]), array([3211]), array([3212]), array([3214]), array([3217]), array([3223]), array([3224]), array([3230]), array([3231]), array([3235]), array([3237]), array([3242]), array([3246]), array([3248]), array([3250]), array([3254]), array([3255]), array([3271]), array([3273]), array([3274]), array([3276]), array([3277]), array([3281]), array([3288]), array([3289]), array([3290]), array([3291]), array([3294]), array([3296]), array([3298]), array([3303]), array([3307]), array([3308]), array([3310]), array([3311]), array([3312]), array([3316]), array([3322]), array([3323]), array([3324]), array([3326]), array([3334]), array([3335]), array([3336]), array([3339]), array([3346]), array([3347]), array([3348]), array([3350]), array([3352]), array([3354]), array([3357]), array([3360]), array([3364]), array([3371]), array([3374]), array([3375]), array([3376]), array([3381]), array([3383]), array([3387]), array([3388]), array([3391]), array([3394]), array([3395]), array([3400]), array([3401]), array([3407]), array([3412]), array([3415]), array([3419]), array([3420]), array([3421]), array([3422]), array([3424]), array([3431]), array([3432]), array([3436]), array([3437]), array([3441]), array([3445]), array([3447]), array([3453]), array([3463]), array([3464]), array([3465]), array([3467]), array([3469]), array([3471]), array([3473]), array([3474]), array([3475]), array([3477]), array([3478]), array([3480]), array([3484]), array([3486]), array([3491]), array([3499]), array([3505]), array([3506]), array([3513]), array([3514]), array([3518]), array([3520]), array([3521]), array([3523]), array([3527]), array([3528]), array([3529]), array([3533]), array([3535]), array([3537]), array([3538]), array([3540]), array([3542]), array([3543]), array([3546]), array([3552]), array([3553]), array([3554]), array([3559]), array([3564]), array([3567]), array([3568]), array([3572]), array([3573]), array([3578]), array([3579]), array([3582]), array([3583]), array([3584]), array([3585]), array([3586]), array([3594]), array([3595]), array([3599]), array([3600]), array([3601]), array([3602]), array([3603]), array([3604]), array([3606]), array([3611]), array([3612]), array([3613]), array([3615]), array([3622]), array([3623]), array([3625]), array([3626]), array([3629]), array([3630]), array([3633]), array([3643]), array([3644]), array([3645]), array([3646]), array([3648]), array([3650]), array([3654]), array([3657]), array([3658]), array([3663]), array([3664]), array([3676]), array([3680]), array([3685]), array([3686]), array([3690]), array([3693]), array([3696]), array([3698]), array([3700]), array([3703]), array([3707]), array([3708]), array([3719]), array([3721]), array([3722]), array([3724]), array([3728]), array([3732]), array([3740]), array([3745]), array([3747]), array([3748]), array([3749]), array([3752]), array([3758]), array([3766]), array([3767]), array([3768]), array([3769]), array([3775]), array([3776]), array([3779]), array([3780]), array([3785]), array([3786]), array([3789]), array([3793]), array([3794]), array([3801]), array([3805]), array([3807]), array([3808]), array([3810]), array([3811]), array([3812]), array([3815]), array([3819]), array([3821]), array([3823]), array([3827]), array([3831]), array([3832]), array([3835]), array([3838]), array([3843]), array([3846]), array([3848]), array([3849]), array([3850]), array([3854]), array([3855]), array([3860]), array([3861]), array([3862]), array([3863]), array([3871]), array([3872]), array([3876]), array([3877]), array([3879]), array([3885]), array([3889]), array([3890]), array([3891]), array([3894]), array([3896]), array([3898]), array([3905]), array([3906]), array([3907]), array([3909]), array([3911]), array([3916]), array([3917]), array([3925]), array([3926]), array([3931]), array([3933]), array([3935]), array([3937]), array([3938]), array([3939]), array([3941]), array([3942]), array([3945]), array([3949]), array([3951]), array([3952]), array([3954]), array([3956]), array([3959]), array([3960]), array([3961]), array([3962]), array([3963]), array([3964]), array([3967]), array([3970]), array([3974]), array([3976]), array([3977]), array([3978]), array([3981]), array([3984]), array([3989]), array([3996]), array([3998]), array([4001]), array([4002]), array([4004]), array([4007]), array([4013]), array([4015]), array([4021]), array([4022]), array([4024]), array([4029]), array([4036]), array([4037]), array([4038]), array([4039]), array([4041]), array([4042]), array([4044]), array([4045]), array([4046]), array([4047]), array([4048]), array([4054]), array([4055]), array([4056]), array([4057]), array([4061]), array([4063]), array([4064]), array([4066]), array([4071]), array([4072]), array([4075]), array([4083]), array([4086]), array([4091]), array([4096]), array([4098]), array([4104]), array([4106]), array([4109]), array([4129]), array([4131]), array([4133]), array([4135]), array([4136]), array([4137]), array([4143]), array([4144]), array([4145]), array([4147]), array([4148]), array([4149]), array([4151]), array([4155]), array([4158]), array([4164]), array([4165]), array([4170]), array([4175]), array([4177]), array([4178]), array([4180]), array([4186]), array([4187]), array([4188]), array([4189]), array([4192]), array([4198]), array([4200]), array([4201]), array([4207]), array([4209]), array([4211]), array([4213]), array([4214]), array([4221]), array([4225]), array([4226]), array([4228]), array([4230]), array([4231]), array([4232]), array([4233]), array([4235]), array([4242]), array([4243]), array([4245]), array([4246]), array([4250]), array([4252]), array([4253]), array([4254]), array([4255]), array([4257]), array([4258]), array([4260]), array([4261]), array([4264]), array([4274]), array([4277]), array([4282]), array([4285]), array([4286]), array([4292]), array([4293]), array([4300]), array([4304]), array([4307]), array([4308]), array([4315]), array([4319]), array([4323]), array([4327]), array([4329]), array([4330]), array([4331]), array([4332]), array([4334]), array([4338]), array([4339]), array([4344]), array([4346]), array([4348]), array([4353]), array([4368]), array([4371]), array([4373]), array([4376]), array([4379]), array([4380]), array([4391]), array([4393]), array([4395]), array([4397]), array([4399]), array([4400]), array([4402]), array([4403]), array([4406]), array([4413]), array([4414]), array([4416]), array([4417]), array([4418]), array([4423]), array([4428]), array([4429]), array([4436]), array([4438]), array([4441]), array([4447]), array([4449]), array([4451]), array([4452]), array([4453]), array([4454]), array([4456]), array([4458]), array([4463]), array([4465]), array([4467]), array([4468]), array([4469]), array([4471]), array([4472]), array([4475]), array([4476]), array([4477]), array([4481]), array([4484]), array([4485]), array([4496]), array([4498]), array([4500]), array([4503]), array([4504]), array([4505]), array([4508]), array([4509]), array([4510]), array([4512]), array([4513]), array([4515]), array([4516]), array([4517]), array([4519]), array([4520]), array([4521]), array([4525]), array([4526]), array([4528]), array([4529]), array([4533]), array([4536]), array([4539]), array([4542]), array([4545]), array([4546]), array([4551]), array([4554]), array([4555]), array([4558]), array([4561]), array([4566]), array([4567]), array([4568]), array([4569]), array([4570]), array([4573]), array([4574]), array([4578]), array([4579]), array([4580]), array([4582]), array([4586]), array([4587]), array([4590]), array([4592]), array([4597]), array([4598]), array([4602]), array([4605]), array([4609]), array([4612]), array([4614]), array([4615]), array([4618]), array([4621]), array([4626]), array([4627]), array([4631]), array([4635]), array([4636]), array([4638]), array([4639]), array([4643]), array([4644]), array([4651]), array([4654]), array([4655]), array([4657]), array([4663]), array([4666]), array([4669]), array([4670]), array([4671]), array([4675]), array([4677]), array([4685]), array([4687]), array([4688]), array([4689]), array([4693]), array([4696]), array([4698]), array([4702]), array([4703]), array([4705]), array([4706]), array([4707]), array([4709]), array([4710]), array([4712]), array([4714]), array([4715]), array([4716]), array([4723]), array([4725]), array([4730]), array([4735]), array([4738]), array([4739]), array([4741]), array([4749]), array([4754]), array([4756]), array([4757]), array([4758]), array([4759]), array([4760]), array([4762]), array([4763]), array([4766]), array([4770]), array([4777]), array([4784]), array([4785]), array([4786]), array([4793]), array([4795]), array([4796]), array([4800]), array([4801]), array([4803]), array([4805]), array([4806]), array([4808]), array([4814]), array([4815]), array([4816]), array([4819]), array([4821]), array([4826]), array([4829]), array([4830]), array([4831]), array([4838]), array([4840]), array([4842]), array([4847]), array([4853]), array([4854]), array([4856]), array([4859]), array([4863]), array([4864]), array([4866]), array([4867]), array([4868]), array([4870]), array([4876]), array([4877]), array([4879]), array([4880]), array([4892]), array([4896]), array([4897]), array([4898]), array([4900]), array([4901]), array([4902]), array([4903]), array([4904]), array([4905]), array([4906]), array([4907]), array([4908]), array([4909]), array([4910]), array([4912]), array([4916]), array([4921]), array([4928]), array([4930]), array([4931]), array([4935]), array([4936]), array([4939]), array([4940]), array([4942]), array([4944]), array([4946]), array([4947]), array([4949]), array([4952]), array([4953]), array([4960]), array([4961]), array([4963]), array([4964]), array([4967]), array([4972]), array([4973]), array([4979]), array([4983]), array([4984]), array([4986]), array([4989]), array([4997]), array([4998]), array([4999])]\n"
     ]
    },
    {
     "data": {
      "text/plain": [
       "array([3])"
      ]
     },
     "execution_count": 12,
     "metadata": {},
     "output_type": "execute_result"
    }
   ],
   "source": [
    "# Access event number if available\n",
    "event_numbers = tree[\"Event/Event.Number\"].array(library=\"np\")\n",
    "\n",
    "# Access the electrons and muons subbranches\n",
    "electrons = tree[\"Electron\"]\n",
    "muons = tree[\"Muon\"]\n",
    "\n",
    "# Convert to numpy arrays\n",
    "electron_data = electrons.arrays([\"Electron.PT\", \"Electron.Charge\"], library=\"np\")\n",
    "muon_data = muons.arrays([\"Muon.PT\", \"Muon.Charge\"], library=\"np\")\n",
    "\n",
    "# Now you can analyze the electron and muon data with event information\n",
    "signal_events = []\n",
    "background_events = []\n",
    "\n",
    "for i in range(len(event_numbers)):\n",
    "    n_electrons = len(electron_data[\"Electron.PT\"][i])  # Assuming 'PT' is an array for electrons\n",
    "    n_muons = len(muon_data[\"Muon.PT\"][i])            # Assuming 'PT' is an array for muons\n",
    "\n",
    "    # Check for signal conditions\n",
    "    if n_electrons + n_muons >= 1:\n",
    "        signal_events.append(event_numbers[i])  # Store the event number\n",
    "    elif n_electrons == 2 and np.all(electron_data[\"Electron.Charge\"][i] == electron_data[\"Electron.Charge\"][i][0]):\n",
    "        signal_events.append(event_numbers[i])\n",
    "    else:\n",
    "        background_events.append(event_numbers[i])\n",
    "\n",
    "# Now you have lists of signal and background event numbers\n",
    "print(f\"Signal events: {len(signal_events)}: {signal_events}\")\n",
    "#print(f\"Background events: {len(background_events)}: {background_events}\")\n",
    "signal_events[0]"
   ]
  },
  {
   "cell_type": "code",
   "execution_count": 13,
   "metadata": {},
   "outputs": [
    {
     "data": {
      "text/plain": [
       "20000"
      ]
     },
     "execution_count": 13,
     "metadata": {},
     "output_type": "execute_result"
    }
   ],
   "source": [
    "# Check total unique event numbers from the jet data\n",
    "total_events = len(jet_pt)\n",
    "unique_event_numbers = set(range(1, total_events + 1))  \n",
    "total_events"
   ]
  },
  {
   "cell_type": "code",
   "execution_count": 14,
   "metadata": {},
   "outputs": [],
   "source": [
    "#unique_event_numbers\n",
    "#signal_events[0].item()\n",
    "signal_data=np.zeros((total_events))"
   ]
  },
  {
   "cell_type": "code",
   "execution_count": 15,
   "metadata": {},
   "outputs": [],
   "source": [
    "tree = file[\"Delphes;1\"]\n",
    "#print(tree.keys())\n",
    "jet=tree['Jet'].arrays()\n",
    "jet_pt=jet['Jet.PT']\n",
    "jet_eta=jet['Jet.Eta']\n",
    "jet_phi=jet['Jet.Phi']\n",
    "jet_mass=jet['Jet.Mass']\n",
    "# jet_pt"
   ]
  },
  {
   "cell_type": "code",
   "execution_count": 16,
   "metadata": {},
   "outputs": [
    {
     "name": "stdout",
     "output_type": "stream",
     "text": [
      "Unique events in final DataFrame: 20000\n",
      "   event_no  jet_no      jet_pt   jet_eta   jet_phi   jet_mass  \\\n",
      "0         1       1  325.750549 -0.337415 -0.428045  56.044598   \n",
      "1         1       2  282.529022  0.035443 -2.732777  77.315948   \n",
      "2         1       3  214.638321 -0.699969 -3.098346  21.759722   \n",
      "3         1       4  150.365768 -0.098526  2.244453  11.167752   \n",
      "4         1       5  130.927414 -0.918064 -0.642317  13.407317   \n",
      "\n",
      "   signal_or_background  \n",
      "0                     0  \n",
      "1                     0  \n",
      "2                     0  \n",
      "3                     0  \n",
      "4                     0  \n"
     ]
    }
   ],
   "source": [
    "import numpy as np\n",
    "import pandas as pd\n",
    "\n",
    "# Assuming you have signal_events defined (as in your earlier output)\n",
    "signal_events_indices = [int(event[0]) for event in signal_events if event.size > 0]  # Extracting event numbers from signal events\n",
    "\n",
    "# Create an array of size 20000 initialized to 0\n",
    "event_classification = np.zeros(20000, dtype=int)\n",
    "\n",
    "# Set the indices of signal events to 1\n",
    "for index in signal_events_indices:\n",
    "    if index < 20000:  # Ensure the index is within bounds\n",
    "        event_classification[index] = 1\n",
    "\n",
    "# Prepare to collect jet data for each event\n",
    "dataframes = []\n",
    "\n",
    "# Example for jet data (this part assumes you have your jet data ready)\n",
    "for event_no, (jets_pt, jets_eta, jets_phi, jet_mass) in enumerate(zip(jet_pt, jet_eta, jet_phi, jet_mass), start=1):\n",
    "    # Create a DataFrame for each event\n",
    "    event_df = pd.DataFrame({\n",
    "        'event_no': [event_no] * len(jets_pt),\n",
    "        'jet_no': list(range(1, len(jets_pt) + 1)),\n",
    "        'jet_pt': jets_pt,\n",
    "        'jet_eta': jets_eta,\n",
    "        'jet_phi': jets_phi,\n",
    "        'jet_mass': jet_mass\n",
    "    })\n",
    "\n",
    "    # Add the classification for the jets based on the event classification\n",
    "    event_df['signal_or_background'] = event_classification[event_no - 1]  # event_no - 1 to get the correct index\n",
    "\n",
    "    dataframes.append(event_df)\n",
    "\n",
    "# Concatenating all DataFrames into a single DataFrame\n",
    "final_df = pd.concat(dataframes, ignore_index=True)\n",
    "\n",
    "# Count unique events in the final DataFrame\n",
    "unique_events_in_final = final_df['event_no'].nunique()\n",
    "print(f\"Unique events in final DataFrame: {unique_events_in_final}\")\n",
    "print(final_df.head())\n"
   ]
  },
  {
   "cell_type": "code",
   "execution_count": 17,
   "metadata": {},
   "outputs": [
    {
     "data": {
      "text/plain": [
       "193228"
      ]
     },
     "execution_count": 17,
     "metadata": {},
     "output_type": "execute_result"
    }
   ],
   "source": [
    "len(final_df)"
   ]
  },
  {
   "cell_type": "code",
   "execution_count": 18,
   "metadata": {},
   "outputs": [
    {
     "name": "stdout",
     "output_type": "stream",
     "text": [
      "DataFrame saved to /home/sandeep/Desktop/pp24tops20KE2.csv\n"
     ]
    }
   ],
   "source": [
    "# Save the final DataFrame as a CSV file\n",
    "output_file_path = '/home/sandeep/Desktop/pp24tops20KE2.csv'  # Replace with your desired file path\n",
    "final_df.to_csv(output_file_path, index=False)\n",
    "\n",
    "print(f\"DataFrame saved to {output_file_path}\")\n"
   ]
  },
  {
   "cell_type": "code",
   "execution_count": null,
   "metadata": {},
   "outputs": [],
   "source": []
  }
 ],
 "metadata": {
  "colab": {
   "authorship_tag": "ABX9TyPjvOKtBwp11kuulskbZad2",
   "include_colab_link": true,
   "provenance": []
  },
  "kernelspec": {
   "display_name": "base",
   "language": "python",
   "name": "python3"
  },
  "language_info": {
   "codemirror_mode": {
    "name": "ipython",
    "version": 3
   },
   "file_extension": ".py",
   "mimetype": "text/x-python",
   "name": "python",
   "nbconvert_exporter": "python",
   "pygments_lexer": "ipython3",
   "version": "3.12.7"
  }
 },
 "nbformat": 4,
 "nbformat_minor": 4
}
