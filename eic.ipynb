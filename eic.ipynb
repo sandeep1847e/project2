{
  "cells": [
    {
      "cell_type": "code",
      "execution_count": 1,
      "metadata": {
        "colab": {
          "base_uri": "https://localhost:8080/",
          "height": 384
        },
        "id": "iQNUcvZdYqcw",
        "outputId": "57a77fd0-d9e6-40c9-d45e-99470db34078"
      },
      "outputs": [
        {
          "ename": "ModuleNotFoundError",
          "evalue": "No module named 'torch_cluster'",
          "output_type": "error",
          "traceback": [
            "\u001b[0;31m---------------------------------------------------------------------------\u001b[0m",
            "\u001b[0;31mModuleNotFoundError\u001b[0m                       Traceback (most recent call last)",
            "Cell \u001b[0;32mIn[1], line 39\u001b[0m\n\u001b[1;32m     37\u001b[0m \u001b[38;5;28;01mfrom\u001b[39;00m \u001b[38;5;21;01mtorch_geometric\u001b[39;00m\u001b[38;5;21;01m.\u001b[39;00m\u001b[38;5;21;01mdatasets\u001b[39;00m \u001b[38;5;28;01mimport\u001b[39;00m QM9\n\u001b[1;32m     38\u001b[0m \u001b[38;5;28;01mfrom\u001b[39;00m \u001b[38;5;21;01mtorch_scatter\u001b[39;00m \u001b[38;5;28;01mimport\u001b[39;00m scatter\n\u001b[0;32m---> 39\u001b[0m \u001b[38;5;28;01mfrom\u001b[39;00m \u001b[38;5;21;01mtorch_cluster\u001b[39;00m \u001b[38;5;28;01mimport\u001b[39;00m knn\n\u001b[1;32m     41\u001b[0m \u001b[38;5;28;01mimport\u001b[39;00m \u001b[38;5;21;01mmatplotlib\u001b[39;00m\u001b[38;5;21;01m.\u001b[39;00m\u001b[38;5;21;01mpyplot\u001b[39;00m \u001b[38;5;28;01mas\u001b[39;00m \u001b[38;5;21;01mplt\u001b[39;00m\n\u001b[1;32m     42\u001b[0m \u001b[38;5;28;01mimport\u001b[39;00m \u001b[38;5;21;01mseaborn\u001b[39;00m \u001b[38;5;28;01mas\u001b[39;00m \u001b[38;5;21;01msns\u001b[39;00m\n",
            "\u001b[0;31mModuleNotFoundError\u001b[0m: No module named 'torch_cluster'"
          ]
        }
      ],
      "source": [
        "import os\n",
        "import time\n",
        "import random\n",
        "import numpy as np\n",
        "\n",
        "from scipy.stats import ortho_group\n",
        "\n",
        "\n",
        "import torch\n",
        "import torch.nn as nn\n",
        "import torch.utils.data as data\n",
        "import torch.nn.functional as F\n",
        "from torch.nn import Linear, ReLU, BatchNorm1d, Module, Sequential\n",
        "from torch import Tensor\n",
        "from sklearn.metrics import confusion_matrix, ConfusionMatrixDisplay\n",
        "from collections import Counter\n",
        "import pickle\n",
        "\n",
        "torch.set_default_dtype(torch.float64)\n",
        "\n",
        "from torch_geometric.typing import (\n",
        "    Adj,\n",
        "    OptPairTensor,\n",
        "    OptTensor,\n",
        "    Size,\n",
        "    SparseTensor,\n",
        "    torch_sparse,\n",
        ")\n",
        "\n",
        "import torch_geometric\n",
        "from torch_geometric.data import Data\n",
        "from torch_geometric.data import Batch\n",
        "import torch_geometric.transforms as T\n",
        "from torch_geometric.utils import remove_self_loops, to_dense_adj, dense_to_sparse, to_undirected\n",
        "from torch_geometric.loader import DataLoader\n",
        "from torch_geometric.nn import MessagePassing, global_mean_pool, knn_graph\n",
        "from torch_geometric.datasets import QM9\n",
        "from torch_scatter import scatter\n",
        "from torch_cluster import knn\n",
        "\n",
        "import matplotlib.pyplot as plt\n",
        "import seaborn as sns\n",
        "import pandas as pd\n",
        "import uproot\n",
        "import vector\n",
        "vector.register_awkward()\n",
        "import awkward as ak\n",
        "\n",
        "from IPython.display import HTML\n",
        "\n",
        "print(\"PyTorch version {}\".format(torch.__version__))\n",
        "print(\"PyG version {}\".format(torch_geometric.__version__))"
      ]
    },
    {
      "cell_type": "markdown",
      "metadata": {
        "id": "s2nuYh9PYqc_"
      },
      "source": [
        "### Extract the data and make graphs"
      ]
    },
    {
      "cell_type": "code",
      "execution_count": 2,
      "metadata": {},
      "outputs": [
        {
          "name": "stdout",
          "output_type": "stream",
          "text": [
            "Collecting torch_cluster\n",
            "  Using cached torch_cluster-1.6.3.tar.gz (54 kB)\n",
            "  Preparing metadata (setup.py) ... \u001b[?25ldone\n",
            "\u001b[?25hRequirement already satisfied: scipy in /home/sandeep-sharma/anaconda3/lib/python3.12/site-packages (from torch_cluster) (1.13.1)\n",
            "Requirement already satisfied: numpy<2.3,>=1.22.4 in /home/sandeep-sharma/anaconda3/lib/python3.12/site-packages (from scipy->torch_cluster) (1.26.4)\n",
            "Building wheels for collected packages: torch_cluster\n",
            "  Building wheel for torch_cluster (setup.py) ... \u001b[?25l-^C\n",
            "\u001b[?25canceled\n",
            "\u001b[31mERROR: Operation cancelled by user\u001b[0m\u001b[31m\n",
            "\u001b[0mNote: you may need to restart the kernel to use updated packages.\n"
          ]
        }
      ],
      "source": [
        "pip install torch_cluster"
      ]
    },
    {
      "cell_type": "code",
      "execution_count": null,
      "metadata": {
        "id": "bgS1JONYYqdG"
      },
      "outputs": [],
      "source": [
        "class Jet_Dataset(data.Dataset):\n",
        "    def __init__(self, dataset_path: str, k: int = 5) -> None:\n",
        "        \"\"\"\n",
        "        Dataset for Jet Graphs:\n",
        "            dataset_path: Path to the ROOT file containing jet data\n",
        "            k: Number of nearest neighbors for KNN graph\n",
        "        \"\"\"\n",
        "        super(Jet_Dataset, self).__init__()\n",
        "\n",
        "        self.dataset = uproot.open(dataset_path)\n",
        "        self.tree_names = [key for key in self.dataset.keys() if key.startswith(\"tree_\")]\n",
        "        self.trees = []\n",
        "        self.k = k\n",
        "\n",
        "        # Define jet features\n",
        "        self.light_jet_feat = [\"light_jet_pt\", \"light_jet_eta\", \"light_jet_phi\", \"light_jet_m\", \"light_jet_e\"]\n",
        "        self.c_jet_feat = [\"c_jet_pt\", \"c_jet_eta\", \"c_jet_phi\", \"c_jet_m\", \"c_jet_e\"]\n",
        "        self.b_jet_feat = [\"b_jet_pt\", \"b_jet_eta\", \"b_jet_phi\", \"b_jet_m\", \"b_jet_e\"]\n",
        "\n",
        "        self.graphs = []\n",
        "        for tree_name in self.tree_names:\n",
        "            tree = self.dataset[tree_name].arrays(library=\"ak\")\n",
        "            self.process_tree(tree)\n",
        "\n",
        "    def process_tree(self, tree):\n",
        "        # ocess a single tree and append each jet graph as an independent sample.\n",
        "        def process_jet_features(jet_feat_list, label):\n",
        "            if not all(feat in tree.fields for feat in jet_feat_list):\n",
        "                return []\n",
        "\n",
        "            graphs = []\n",
        "            for i in range(len(tree[jet_feat_list[0]])):\n",
        "                jet_features = np.stack(\n",
        "                    [ak.to_numpy(tree[feat][i]) for feat in jet_feat_list], axis=-1\n",
        "                )\n",
        "                jet_features[np.isnan(jet_features)] = 0.0\n",
        "                jet_features = torch.tensor(jet_features, dtype=torch.float32)\n",
        "                global_features = self.compute_global_features(jet_features)\n",
        "\n",
        "                if jet_features.shape[0] > 1:\n",
        "                    eta = jet_features[:, 1]\n",
        "                    phi = jet_features[:, 2]\n",
        "                    edge_index, deltaR = self.calculate_edges(eta, phi)\n",
        "                else:\n",
        "                    edge_index = torch.tensor([], dtype=torch.long).view(2, -1)\n",
        "                    deltaR = torch.tensor([])\n",
        "\n",
        "                data = Data(x=jet_features, edge_index=edge_index, edge_deltaR=deltaR, global_features=global_features, label=torch.tensor(label))\n",
        "                graphs.append(data)\n",
        "            return graphs\n",
        "\n",
        "        self.graphs += process_jet_features(self.light_jet_feat, label=0)\n",
        "        self.graphs += process_jet_features(self.c_jet_feat, label=1)\n",
        "        self.graphs += process_jet_features(self.b_jet_feat, label=2)\n",
        "\n",
        "    def compute_global_features(self, jet_features):\n",
        "\n",
        "        total_pt = torch.sum(jet_features[:, 0])\n",
        "        avg_eta = torch.mean(jet_features[:, 1])\n",
        "        avg_phi = torch.mean(jet_features[:, 2])\n",
        "        total_energy = torch.sum(jet_features[:, 4])\n",
        "        total_mass = torch.sum(jet_features[:, 3])\n",
        "        num_particles = jet_features.shape[0]\n",
        "\n",
        "        global_features = torch.tensor(\n",
        "            [total_pt, avg_eta, avg_phi, total_energy, total_mass, num_particles],\n",
        "            dtype=torch.float32\n",
        "        ).view(1, -1)\n",
        "\n",
        "        return global_features\n",
        "\n",
        "\n",
        "\n",
        "    def calculate_edges(self, eta, phi):\n",
        "\n",
        "        eta_phi = torch.stack([eta, phi], dim=-1)\n",
        "        edge_index = torch_geometric.nn.pool.knn_graph(x=eta_phi, k=self.k)\n",
        "        src, dst = edge_index\n",
        "        delta_eta = eta[dst] - eta[src]\n",
        "        delta_phi = phi[dst] - phi[src]\n",
        "        deltaR = torch.hypot(delta_eta, delta_phi).view(-1, 1)\n",
        "        return edge_index, deltaR\n",
        "\n",
        "    def __len__(self):\n",
        "        return len(self.graphs)\n",
        "\n",
        "    def __getitem__(self, idx):\n",
        "        return self.graphs[idx]"
      ]
    },
    {
      "cell_type": "code",
      "execution_count": null,
      "metadata": {
        "id": "v9_IdcmBYqdJ"
      },
      "outputs": [],
      "source": [
        "root_file_path = \"/home/pradeep/Desktop/PROJECT/jet_dataset.root\"\n",
        "\n",
        "# Initialize the dataset\n",
        "dataset = Jet_Dataset(root_file_path)\n",
        "\n",
        "# Print the first few graphs and their labels\n",
        "# for i in range(5):\n",
        "#     print(f\"Graph {i}:\")\n",
        "#     print(jet_dataset[i])\n",
        "#     print(\"Label:\", jet_dataset[i].y)\n"
      ]
    },
    {
      "cell_type": "code",
      "execution_count": null,
      "metadata": {
        "id": "S5CZV4JFYqdL",
        "outputId": "43db1e9c-ab9a-4c09-b977-454543c4dac9"
      },
      "outputs": [
        {
          "data": {
            "text/plain": [
              "Data(x=[8, 5], edge_index=[2, 40], edge_deltaR=[40, 1], global_features=[1, 6], label=0)"
            ]
          },
          "execution_count": 376,
          "metadata": {},
          "output_type": "execute_result"
        }
      ],
      "source": [
        "dataset[0]"
      ]
    },
    {
      "cell_type": "code",
      "execution_count": null,
      "metadata": {
        "id": "44ekl1FkYqdN",
        "outputId": "7c9808f9-561f-4325-acf1-f4732f77c71c"
      },
      "outputs": [
        {
          "data": {
            "text/plain": [
              "(tensor([1.]), tensor([2.]), tensor([3.]))"
            ]
          },
          "execution_count": 377,
          "metadata": {},
          "output_type": "execute_result"
        }
      ],
      "source": [
        "a=Tensor([1])\n",
        "b=Tensor([2])\n",
        "c=Tensor([3])\n",
        "a,b,c"
      ]
    },
    {
      "cell_type": "code",
      "execution_count": null,
      "metadata": {
        "id": "yjAvVxVdYqdP"
      },
      "outputs": [],
      "source": [
        "d=torch.stack((a,b,c),0).T\n",
        "e=torch.tensor([a,b,c],dtype=torch.float32)"
      ]
    },
    {
      "cell_type": "markdown",
      "metadata": {
        "id": "-9BWFDMWYqdS"
      },
      "source": []
    },
    {
      "cell_type": "code",
      "execution_count": null,
      "metadata": {
        "id": "riUStzDPYqdT",
        "outputId": "4b059f96-9bd9-4026-a038-f3f93d4f413c"
      },
      "outputs": [
        {
          "data": {
            "text/plain": [
              "(tensor([[1., 2., 3.]]), tensor([1., 2., 3.], dtype=torch.float32))"
            ]
          },
          "execution_count": 379,
          "metadata": {},
          "output_type": "execute_result"
        }
      ],
      "source": [
        "d,e"
      ]
    },
    {
      "cell_type": "code",
      "execution_count": null,
      "metadata": {
        "id": "gISl9YnCYqdV",
        "outputId": "815944fb-aaec-4564-ac06-f159ee735d4d"
      },
      "outputs": [
        {
          "data": {
            "text/plain": [
              "57873"
            ]
          },
          "execution_count": 380,
          "metadata": {},
          "output_type": "execute_result"
        }
      ],
      "source": [
        "len(dataset)"
      ]
    },
    {
      "cell_type": "code",
      "execution_count": null,
      "metadata": {
        "id": "efosxYZlYqdW",
        "outputId": "4f3c2410-8134-4fe7-c6f0-2d725e1352df"
      },
      "outputs": [
        {
          "name": "stdout",
          "output_type": "stream",
          "text": [
            "0\n"
          ]
        }
      ],
      "source": [
        "b=0\n",
        "for batch in dataset:\n",
        "    if batch.edge_deltaR is None:\n",
        "        print(batch)\n",
        "        b+=1\n",
        "print(b)"
      ]
    },
    {
      "cell_type": "code",
      "execution_count": null,
      "metadata": {
        "id": "zXeAKs3PYqdX",
        "outputId": "cefc6671-7125-441f-ad0d-e3e6b1f58c25"
      },
      "outputs": [
        {
          "data": {
            "text/plain": [
              "57873"
            ]
          },
          "execution_count": 382,
          "metadata": {},
          "output_type": "execute_result"
        }
      ],
      "source": [
        "len(dataset)"
      ]
    },
    {
      "cell_type": "code",
      "execution_count": null,
      "metadata": {
        "id": "_-eiy6HbYqdZ",
        "outputId": "e40cd31a-c3b4-4e0d-aad9-3f3e456193d8"
      },
      "outputs": [
        {
          "name": "stdout",
          "output_type": "stream",
          "text": [
            "torch.Size([2, 40])\n",
            "40\n"
          ]
        }
      ],
      "source": [
        "print((dataset[0].edge_index).shape)\n",
        "print(len(dataset[0].edge_deltaR))"
      ]
    },
    {
      "cell_type": "code",
      "execution_count": null,
      "metadata": {
        "id": "w3eDBgQYYqda",
        "outputId": "cf8662e6-a500-429a-c300-43e822823ea7"
      },
      "outputs": [
        {
          "data": {
            "text/plain": [
              "Data(x=[8, 5], edge_index=[2, 40], edge_deltaR=[40, 1], global_features=[1, 6], label=0)"
            ]
          },
          "execution_count": 384,
          "metadata": {},
          "output_type": "execute_result"
        }
      ],
      "source": [
        "dataset[0]"
      ]
    },
    {
      "cell_type": "code",
      "execution_count": null,
      "metadata": {
        "id": "mwEa-iI7Yqdc",
        "outputId": "a5f3dfb9-bb19-4208-c661-a9f9d445dcbf"
      },
      "outputs": [
        {
          "name": "stdout",
          "output_type": "stream",
          "text": [
            "jet labels: Counter({0: 48339, 1: 8255, 2: 1279})\n"
          ]
        }
      ],
      "source": [
        "labels = [data.label.tolist() for data in dataset]\n",
        "print(f\"jet labels: {Counter(labels)}\")"
      ]
    },
    {
      "cell_type": "markdown",
      "metadata": {
        "id": "s3-O6m3YYqdd"
      },
      "source": [
        "### Data process"
      ]
    },
    {
      "cell_type": "code",
      "execution_count": null,
      "metadata": {
        "id": "zrSxXgk9Yqdd"
      },
      "outputs": [],
      "source": [
        "# Use the loaded dataset\n",
        "class PreprocessedJetDataset(torch.utils.data.Dataset):\n",
        "    def __init__(self, graphs):\n",
        "        super(PreprocessedJetDataset, self).__init__()\n",
        "        self.graphs = graphs\n",
        "\n",
        "    def __len__(self):\n",
        "        return len(self.graphs)\n",
        "\n",
        "    def __getitem__(self, idx):\n",
        "        return self.graphs[idx]"
      ]
    },
    {
      "cell_type": "code",
      "execution_count": null,
      "metadata": {
        "id": "61KTMDWcYqde",
        "outputId": "58454930-ae72-48da-efa8-62ca5013d654"
      },
      "outputs": [
        {
          "name": "stdout",
          "output_type": "stream",
          "text": [
            "Balanced dataset size: 3837\n"
          ]
        }
      ],
      "source": [
        "### Downsample the dataset\n",
        "import random\n",
        "\n",
        "def balance_dataset(dataset):\n",
        "    labels = [data.label.item() for data in dataset]\n",
        "    label_counts = Counter(labels)\n",
        "\n",
        "    min_count = min(label_counts.values())\n",
        "\n",
        "    # Create a balanced dataset\n",
        "    balanced_graphs = []\n",
        "    for label in label_counts:\n",
        "        class_graphs = [data for data in dataset if data.label.item() == label]\n",
        "\n",
        "        balanced_graphs.extend(random.sample(class_graphs, min_count))\n",
        "\n",
        "    return balanced_graphs\n",
        "\n",
        "\n",
        "balanced_graphs = balance_dataset(dataset)\n",
        "print(f\"Balanced dataset size: {len(balanced_graphs)}\")\n",
        "\n",
        "balanced_dataset = PreprocessedJetDataset(balanced_graphs)\n"
      ]
    },
    {
      "cell_type": "code",
      "execution_count": null,
      "metadata": {
        "id": "Gihd-4P1Yqdg"
      },
      "outputs": [],
      "source": [
        "jet_dataset = balanced_dataset"
      ]
    },
    {
      "cell_type": "code",
      "execution_count": null,
      "metadata": {
        "id": "iPKPAOv4Yqdg",
        "outputId": "1d717b3e-e638-4c24-dc45-2a1a61dd44fb"
      },
      "outputs": [
        {
          "name": "stdout",
          "output_type": "stream",
          "text": [
            "0\n"
          ]
        }
      ],
      "source": [
        "# Handle None case\n",
        "a=0\n",
        "for batch in jet_dataset:\n",
        "    if batch.x is None:\n",
        "        print(batch)\n",
        "        a+=1\n",
        "print(a)"
      ]
    },
    {
      "cell_type": "code",
      "execution_count": null,
      "metadata": {
        "id": "2oQrs0lPYqdh",
        "outputId": "6ef0f2ef-6a5d-411c-e563-803a2406c145"
      },
      "outputs": [
        {
          "data": {
            "text/plain": [
              "Data(x=[3, 5], edge_index=[2, 6], edge_deltaR=[6, 1], global_features=[1, 6], label=0)"
            ]
          },
          "execution_count": 390,
          "metadata": {},
          "output_type": "execute_result"
        }
      ],
      "source": [
        "jet_dataset[0]"
      ]
    },
    {
      "cell_type": "code",
      "execution_count": null,
      "metadata": {
        "id": "ZX8fzwSYYqdi"
      },
      "outputs": [],
      "source": [
        "# Rename 'label' to 'y' for all data objects in the dataset\n",
        "for data in jet_dataset:\n",
        "    data.y = data.label\n",
        "    del data.label\n"
      ]
    },
    {
      "cell_type": "code",
      "execution_count": null,
      "metadata": {
        "id": "ojz-fS_2Yqdj",
        "outputId": "8d6fef5f-a01b-4278-f8b2-26fdb8cd1942"
      },
      "outputs": [
        {
          "data": {
            "text/plain": [
              "Data(x=[3, 5], edge_index=[2, 6], edge_deltaR=[6, 1], global_features=[1, 6], y=0)"
            ]
          },
          "execution_count": 392,
          "metadata": {},
          "output_type": "execute_result"
        }
      ],
      "source": [
        "jet_dataset[0]"
      ]
    },
    {
      "cell_type": "code",
      "execution_count": null,
      "metadata": {
        "id": "tXM3tslHYqdj",
        "outputId": "9a299516-3390-4eb9-e12c-4a2348b02a8d"
      },
      "outputs": [
        {
          "name": "stdout",
          "output_type": "stream",
          "text": [
            "Jet dataset labels: Counter({0: 1279, 1: 1279, 2: 1279})\n"
          ]
        }
      ],
      "source": [
        "jet_labels = [data.y.tolist() for data in jet_dataset]\n",
        "\n",
        "print(f\"Jet dataset labels: {Counter(jet_labels)}\")"
      ]
    },
    {
      "cell_type": "code",
      "execution_count": null,
      "metadata": {
        "id": "Vj8MqPToYqdk",
        "outputId": "320fc92b-16c5-4fb7-ff1b-fde7ffa70899"
      },
      "outputs": [
        {
          "name": "stdout",
          "output_type": "stream",
          "text": [
            "Training set size: 2685\n",
            "Validation set size: 575\n",
            "Testing set size: 577\n"
          ]
        }
      ],
      "source": [
        "from torch.utils.data import random_split\n",
        "\n",
        "total_size = len(jet_dataset)\n",
        "\n",
        "train_size = int(0.7 * total_size)\n",
        "val_size = int(0.15 * total_size)\n",
        "test_size = total_size - train_size - val_size\n",
        "\n",
        "train_dataset, val_dataset, test_dataset = random_split(balanced_dataset, [train_size, val_size, test_size])\n",
        "\n",
        "print(f\"Training set size: {len(train_dataset)}\")\n",
        "print(f\"Validation set size: {len(val_dataset)}\")\n",
        "print(f\"Testing set size: {len(test_dataset)}\")\n"
      ]
    },
    {
      "cell_type": "code",
      "execution_count": null,
      "metadata": {
        "id": "L0rawiM1Yqdk",
        "outputId": "293df66b-3106-4a28-b659-bbeeac32b4c4"
      },
      "outputs": [
        {
          "name": "stdout",
          "output_type": "stream",
          "text": [
            "Training labels: Counter({1: 903, 0: 891, 2: 891})\n",
            "Validation labels: Counter({0: 195, 2: 193, 1: 187})\n",
            "Test labels: Counter({2: 195, 0: 193, 1: 189})\n"
          ]
        }
      ],
      "source": [
        "train_loader = DataLoader(train_dataset, batch_size=32, shuffle=True)\n",
        "val_loader = DataLoader(val_dataset, batch_size=32, shuffle=False)\n",
        "test_loader = DataLoader(test_dataset, batch_size=32, shuffle=False)\n",
        "\n",
        "# Count labels in each split\n",
        "train_labels = [data.y.tolist() for data in train_dataset]\n",
        "val_labels = [data.y.tolist() for data in val_dataset]\n",
        "test_labels = [data.y.tolist() for data in test_dataset]\n",
        "\n",
        "print(f\"Training labels: {Counter(train_labels)}\")\n",
        "print(f\"Validation labels: {Counter(val_labels)}\")\n",
        "print(f\"Test labels: {Counter(test_labels)}\")\n"
      ]
    },
    {
      "cell_type": "code",
      "execution_count": null,
      "metadata": {
        "id": "-LDEooNaYqdl"
      },
      "outputs": [],
      "source": [
        "# next(iter(train_loader))"
      ]
    },
    {
      "cell_type": "code",
      "execution_count": null,
      "metadata": {
        "id": "k3_4tfvwYqdm"
      },
      "outputs": [],
      "source": [
        "# # Handle None case\n",
        "# for batch in train_loader:\n",
        "#     if batch.edge_deltaR is None:\n",
        "#         print(batch)\n"
      ]
    },
    {
      "cell_type": "code",
      "execution_count": null,
      "metadata": {
        "id": "0YWgmVTrYqdn"
      },
      "outputs": [],
      "source": [
        "# gr_b = next(iter(train_loader))\n",
        "# gr_b"
      ]
    },
    {
      "cell_type": "code",
      "execution_count": null,
      "metadata": {
        "id": "BsbAYcOZYqdo"
      },
      "outputs": [],
      "source": [
        "# src_idx, dst_idx = gr_b.edge_index\n",
        "# src, dst = gr_b.x[src_idx], gr_b.x[dst_idx]\n",
        "# edge_attr = gr_b.edge_deltaR\n",
        "# u = gr_b.global_features\n",
        "# batch = gr_b.batch\n",
        "# node_batch = gr_b.batch\n",
        "# edge_batch = gr_b.batch[src_idx]"
      ]
    },
    {
      "cell_type": "code",
      "execution_count": null,
      "metadata": {
        "id": "4WHGNOkCYqdp"
      },
      "outputs": [],
      "source": [
        "# len(src), len(dst), len(edge_attr) ,src.shape, dst.shape, edge_attr.shape"
      ]
    },
    {
      "cell_type": "code",
      "execution_count": null,
      "metadata": {
        "id": "hWIUt5Q0Yqdq"
      },
      "outputs": [],
      "source": []
    },
    {
      "cell_type": "code",
      "execution_count": null,
      "metadata": {
        "id": "3kNmUemzYqdr"
      },
      "outputs": [],
      "source": [
        "# print(f\"src: {src.shape}\")\n",
        "# print(f\"dst: {dst.shape}\")\n",
        "# print(f\"edge_attr: {edge_attr.shape}\")\n",
        "# print(f\"u: {u.shape}\")\n",
        "# print(F\"batch: {batch.shape}\")\n",
        "# print(f\"edge_batch size: {edge_batch.shape}\")\n",
        "# print(\"............................\")\n",
        "# print(len(u))\n",
        "# print(len(batch))\n",
        "# print(len(edge_batch))"
      ]
    },
    {
      "cell_type": "code",
      "execution_count": null,
      "metadata": {
        "id": "KmTnkxgkYqds"
      },
      "outputs": [],
      "source": [
        "# print(f\"x data type: {gr_b.x.dtype}\")\n",
        "# print(f\"src data type: {src.dtype}\")\n",
        "# print(f\"dst data type: {dst.dtype}\")\n",
        "# print(f\"edge_attr data type: {edge_attr.dtype}\")\n",
        "# print(f\"u data type: {u.dtype}\")\n",
        "# print(F\"batch data type: {batch.dtype}\")"
      ]
    },
    {
      "cell_type": "code",
      "execution_count": null,
      "metadata": {
        "id": "j0OylY0fYqdt"
      },
      "outputs": [],
      "source": [
        "# c = [data.tolist() for data in u]\n",
        "\n",
        "# print(f\"Jet dataset labels: {Counter(jet_labels)}\")"
      ]
    },
    {
      "cell_type": "code",
      "execution_count": null,
      "metadata": {
        "id": "GZAn-lPPYqdu"
      },
      "outputs": [],
      "source": [
        "# print(f\"src: {src.shape}\")\n",
        "# print(f\"dst: {dst.shape}\")\n",
        "# print(f\"edge_attr: {edge_attr.shape}\")\n",
        "# print(f\"u: {u.shape}\")\n",
        "# print(F\"batch: {batch.shape}\")\n",
        "# print(len(u))\n",
        "# print(len(batch))"
      ]
    },
    {
      "cell_type": "code",
      "execution_count": null,
      "metadata": {
        "id": "0wfehBfIYqdu"
      },
      "outputs": [],
      "source": [
        "# torch.cat([src, dst, edge_attr,u[edge_batch]], dim=1)"
      ]
    },
    {
      "cell_type": "code",
      "execution_count": null,
      "metadata": {
        "id": "kFuUGNnZYqdv"
      },
      "outputs": [],
      "source": [
        "# a=0\n",
        "# for batch in val_loader:\n",
        "#         edge_attr = batch.edge_deltaR\n",
        "#         src_idx, dst_idx = batch.edge_index\n",
        "#         src, dst = batch.x[src_idx], batch.x[dst_idx]\n",
        "#         edge_batch = batch.batch[src_idx]\n",
        "#         u = batch.global_features\n",
        "#         node_batch = batch.batch\n",
        "#         s = len(src)\n",
        "#         d = len(dst)\n",
        "#         e = len(edge_attr)\n",
        "#         ul = len(u[edge_batch])\n",
        "#         out = torch.cat([src, dst, edge_attr, u[edge_batch]], dim=1)\n",
        "#         if not (s == d == e == ul):\n",
        "#                 a+=1\n",
        "#         if (e == 1905):\n",
        "#                 print(f\"{s}, {d}, {e}, {ul}\")\n",
        "\n",
        "# print(a)"
      ]
    },
    {
      "cell_type": "markdown",
      "metadata": {
        "id": "Cv7NcQnqYqdw"
      },
      "source": [
        "### Model"
      ]
    },
    {
      "cell_type": "code",
      "execution_count": null,
      "metadata": {
        "id": "jYprwbt3Yqd6"
      },
      "outputs": [],
      "source": [
        "#mlp = multi layer preceptron\n",
        "def build_mlp(inputsize,outputsize,features,add_batch_norm=False,add_activation=None):\n",
        "    layers = []\n",
        "    layers.append(nn.Linear(inputsize,features[0]))\n",
        "    layers.append(nn.ReLU())\n",
        "    for hidden_i in range(1,len(features)):\n",
        "        if add_batch_norm:\n",
        "            layers.append(nn.BatchNorm1d(features[hidden_i-1]))\n",
        "        layers.append(nn.Linear(features[hidden_i-1],features[hidden_i]))\n",
        "        layers.append(nn.ReLU())\n",
        "    layers.append(nn.Linear(features[-1],outputsize))\n",
        "    if add_activation!=None:\n",
        "        layers.append(add_activation)\n",
        "    return nn.Sequential(*layers)"
      ]
    },
    {
      "cell_type": "code",
      "execution_count": null,
      "metadata": {
        "id": "FxFPM-JtYqd6"
      },
      "outputs": [],
      "source": [
        "import torch\n",
        "import torch.nn as nn\n",
        "import torch.nn.functional as F\n",
        "from torch_geometric.nn import MetaLayer\n",
        "\n",
        "class EdgeModel(nn.Module):\n",
        "    def __init__(self, input_edge_dim, input_node_dim, input_global_dim, output_edge_dim, hidden_dims):\n",
        "        super(EdgeModel, self).__init__()\n",
        "        self.edge_mlp = build_mlp(inputsize=input_edge_dim + 2 * input_node_dim + input_global_dim,\n",
        "                                  outputsize=output_edge_dim,\n",
        "                                  features=hidden_dims)\n",
        "\n",
        "    def forward(self, src, dst, edge_attr, u, batch):\n",
        "        out = torch.cat([src, dst, edge_attr, u[edge_batch]], dim=1)\n",
        "        return self.edge_mlp(out)\n",
        "\n",
        "class NodeModel(nn.Module):\n",
        "    def __init__(self, input_edge_dim, input_node_dim, input_global_dim, output_node_dim, hidden_dims):\n",
        "        super(NodeModel, self).__init__()\n",
        "        self.node_mlp = build_mlp(inputsize=input_edge_dim + input_node_dim + input_global_dim,\n",
        "                                  outputsize=output_node_dim,\n",
        "                                  features=hidden_dims)\n",
        "\n",
        "    def forward(self, x, edge_index, edge_attr, u, batch):\n",
        "        row, col = edge_index\n",
        "        agg = scatter(edge_attr, row, dim=0, reduce='mean')\n",
        "        out = torch.cat([x, agg, u[batch]], dim=1)\n",
        "        return self.node_mlp(out)\n",
        "\n",
        "class GlobalModel(nn.Module):\n",
        "    def __init__(self, input_edge_dim, input_node_dim, input_global_dim, output_global_dim, hidden_dims):\n",
        "        super(GlobalModel, self).__init__()\n",
        "        self.global_mlp = build_mlp(inputsize=input_edge_dim + input_node_dim + input_global_dim,\n",
        "                                    outputsize=output_global_dim,\n",
        "                                    features=hidden_dims)\n",
        "\n",
        "    def forward(self, x, edge_index, edge_attr, u, batch):\n",
        "        edge_agg = scatter(edge_attr, batch[src_idx], dim=0, reduce='mean')\n",
        "        node_agg = scatter(x, batch, dim=0, reduce='mean')\n",
        "        out = torch.cat([u, node_agg, edge_agg], dim=1)\n",
        "        return self.global_mlp(out)\n",
        "\n",
        "class GNNModel(nn.Module):\n",
        "    def __init__(self, input_edge_dim, input_node_dim, input_global_dim, output_dim, hidden_dims):\n",
        "        super(GNNModel, self).__init__()\n",
        "        self.meta_layer = MetaLayer(\n",
        "            edge_model=EdgeModel(input_edge_dim, input_node_dim, input_global_dim, hidden_dims[0], hidden_dims),\n",
        "            node_model=NodeModel(hidden_dims[0], input_node_dim, input_global_dim, hidden_dims[1], hidden_dims),\n",
        "            global_model=GlobalModel(hidden_dims[0], hidden_dims[1], input_global_dim, hidden_dims[2], hidden_dims)\n",
        "        )\n",
        "        self.output_layer = nn.Linear(hidden_dims[2], output_dim)\n",
        "\n",
        "    def forward(self, x, edge_index, edge_attr, u, batch):\n",
        "        x, edge_attr, u = self.meta_layer(x, edge_index, edge_attr, u, batch)\n",
        "        out = self.output_layer(u)\n",
        "        return out\n"
      ]
    },
    {
      "cell_type": "code",
      "execution_count": null,
      "metadata": {
        "id": "yKhVVxJjYqd8",
        "outputId": "51465a8b-0e25-4db9-c9a0-85437b69d505"
      },
      "outputs": [
        {
          "name": "stdout",
          "output_type": "stream",
          "text": [
            "Epoch 1/50, Train Loss: 0.8621, val Loss: 0.5672,val Accuracy: 0.7565\n",
            "Epoch 2/50, Train Loss: 0.5021, val Loss: 0.3753,val Accuracy: 0.8504\n",
            "Epoch 3/50, Train Loss: 0.4489, val Loss: 0.3519,val Accuracy: 0.8539\n",
            "Epoch 4/50, Train Loss: 0.3970, val Loss: 0.2997,val Accuracy: 0.8922\n",
            "Epoch 5/50, Train Loss: 0.3820, val Loss: 0.3204,val Accuracy: 0.8678\n",
            "Epoch 6/50, Train Loss: 0.3730, val Loss: 0.2827,val Accuracy: 0.8800\n",
            "Epoch 7/50, Train Loss: 0.3534, val Loss: 0.2766,val Accuracy: 0.8957\n",
            "Epoch 8/50, Train Loss: 0.3360, val Loss: 0.2942,val Accuracy: 0.8904\n",
            "Epoch 9/50, Train Loss: 0.3320, val Loss: 0.3009,val Accuracy: 0.8800\n",
            "Epoch 10/50, Train Loss: 0.3220, val Loss: 0.3139,val Accuracy: 0.8591\n",
            "Epoch 11/50, Train Loss: 0.3301, val Loss: 0.2975,val Accuracy: 0.8730\n",
            "Epoch 12/50, Train Loss: 0.3257, val Loss: 0.2920,val Accuracy: 0.8765\n",
            "Epoch 13/50, Train Loss: 0.3201, val Loss: 0.2892,val Accuracy: 0.8696\n",
            "Epoch 14/50, Train Loss: 0.3210, val Loss: 0.2939,val Accuracy: 0.8765\n",
            "Epoch 15/50, Train Loss: 0.3219, val Loss: 0.2980,val Accuracy: 0.8730\n",
            "Epoch 16/50, Train Loss: 0.3012, val Loss: 0.2541,val Accuracy: 0.9078\n",
            "Epoch 17/50, Train Loss: 0.2897, val Loss: 0.3174,val Accuracy: 0.8696\n",
            "Epoch 18/50, Train Loss: 0.3126, val Loss: 0.3034,val Accuracy: 0.8678\n",
            "Epoch 19/50, Train Loss: 0.2825, val Loss: 0.2553,val Accuracy: 0.8870\n",
            "Epoch 20/50, Train Loss: 0.2865, val Loss: 0.2310,val Accuracy: 0.9130\n",
            "Epoch 21/50, Train Loss: 0.2883, val Loss: 0.2366,val Accuracy: 0.9009\n",
            "Epoch 22/50, Train Loss: 0.2665, val Loss: 0.2187,val Accuracy: 0.9113\n",
            "Epoch 23/50, Train Loss: 0.2504, val Loss: 0.2157,val Accuracy: 0.9200\n",
            "Epoch 24/50, Train Loss: 0.2523, val Loss: 0.2129,val Accuracy: 0.9200\n",
            "Epoch 25/50, Train Loss: 0.2663, val Loss: 0.2217,val Accuracy: 0.9287\n",
            "Epoch 26/50, Train Loss: 0.2467, val Loss: 0.2083,val Accuracy: 0.9217\n",
            "Epoch 27/50, Train Loss: 0.2492, val Loss: 0.2390,val Accuracy: 0.9148\n",
            "Epoch 28/50, Train Loss: 0.2535, val Loss: 0.2010,val Accuracy: 0.9252\n",
            "Epoch 29/50, Train Loss: 0.2507, val Loss: 0.2028,val Accuracy: 0.9252\n",
            "Epoch 30/50, Train Loss: 0.2650, val Loss: 0.2344,val Accuracy: 0.9096\n",
            "Epoch 31/50, Train Loss: 0.2546, val Loss: 0.1997,val Accuracy: 0.9252\n",
            "Epoch 32/50, Train Loss: 0.2324, val Loss: 0.2066,val Accuracy: 0.9270\n",
            "Epoch 33/50, Train Loss: 0.2333, val Loss: 0.1966,val Accuracy: 0.9304\n",
            "Epoch 34/50, Train Loss: 0.2779, val Loss: 0.2194,val Accuracy: 0.9148\n",
            "Epoch 35/50, Train Loss: 0.2287, val Loss: 0.1981,val Accuracy: 0.9287\n",
            "Epoch 36/50, Train Loss: 0.2198, val Loss: 0.2102,val Accuracy: 0.9270\n",
            "Epoch 37/50, Train Loss: 0.2323, val Loss: 0.2150,val Accuracy: 0.9339\n",
            "Epoch 38/50, Train Loss: 0.2319, val Loss: 0.2079,val Accuracy: 0.9304\n",
            "Epoch 39/50, Train Loss: 0.2213, val Loss: 0.2347,val Accuracy: 0.9270\n",
            "Epoch 40/50, Train Loss: 0.2313, val Loss: 0.2115,val Accuracy: 0.9287\n",
            "Epoch 41/50, Train Loss: 0.2276, val Loss: 0.2164,val Accuracy: 0.9200\n",
            "Epoch 42/50, Train Loss: 0.2275, val Loss: 0.1980,val Accuracy: 0.9357\n",
            "Epoch 43/50, Train Loss: 0.2238, val Loss: 0.1952,val Accuracy: 0.9270\n",
            "Epoch 44/50, Train Loss: 0.2157, val Loss: 0.2066,val Accuracy: 0.9217\n",
            "Epoch 45/50, Train Loss: 0.2167, val Loss: 0.1976,val Accuracy: 0.9322\n",
            "Epoch 46/50, Train Loss: 0.2120, val Loss: 0.2155,val Accuracy: 0.9252\n",
            "Epoch 47/50, Train Loss: 0.2088, val Loss: 0.2313,val Accuracy: 0.9217\n",
            "Epoch 48/50, Train Loss: 0.2048, val Loss: 0.1986,val Accuracy: 0.9339\n",
            "Epoch 49/50, Train Loss: 0.2215, val Loss: 0.2244,val Accuracy: 0.9270\n",
            "Epoch 50/50, Train Loss: 0.2121, val Loss: 0.1798,val Accuracy: 0.9374\n"
          ]
        }
      ],
      "source": [
        "import torch\n",
        "from torch_geometric.loader import DataLoader\n",
        "from sklearn.metrics import accuracy_score\n",
        "import matplotlib.pyplot as plt\n",
        "\n",
        "# Hyperparameters\n",
        "num_epochs = 50\n",
        "learning_rate = 0.001\n",
        "hidden_dims = [32, 64, 64]\n",
        "output_dim = 3\n",
        "input_edge_dim = 1\n",
        "input_node_dim = 5\n",
        "input_global_dim = 6\n",
        "\n",
        "# Create the model\n",
        "model = GNNModel(input_edge_dim, input_node_dim, input_global_dim, output_dim, hidden_dims)\n",
        "optimizer = torch.optim.Adam(model.parameters(), lr=learning_rate)\n",
        "criterion = torch.nn.CrossEntropyLoss()\n",
        "model = model.float()\n",
        "\n",
        "# Training Loop\n",
        "train_losses, val_losses, accuracies = [], [], []\n",
        "for epoch in range(num_epochs):\n",
        "    model.train()\n",
        "    epoch_loss = 0\n",
        "    for batch in train_loader:\n",
        "        edge_attr = batch.edge_deltaR\n",
        "        src_idx, dst_idx = batch.edge_index\n",
        "        src, dst = batch.x[src_idx], batch.x[dst_idx]\n",
        "        edge_batch = batch.batch[src_idx]\n",
        "        u = batch.global_features\n",
        "        node_batch = batch.batch\n",
        "        optimizer.zero_grad()\n",
        "        out = model(batch.x, batch.edge_index, edge_attr,u , batch.batch)\n",
        "        loss = criterion(out, batch.y)\n",
        "        loss.backward()\n",
        "        optimizer.step()\n",
        "        epoch_loss += loss.item()\n",
        "\n",
        "    train_losses.append(epoch_loss / len(train_loader))\n",
        "\n",
        "\n",
        "    model.eval()\n",
        "    test_loss, correct, total = 0, 0, 0\n",
        "    with torch.no_grad():\n",
        "        for batch in val_loader:\n",
        "            edge_attr = batch.edge_deltaR\n",
        "            src_idx, dst_idx = batch.edge_index\n",
        "            src, dst = batch.x[src_idx], batch.x[dst_idx]\n",
        "            edge_batch = batch.batch[src_idx]\n",
        "            u = batch.global_features\n",
        "            node_batch = batch.batch\n",
        "            out = model(batch.x, batch.edge_index, edge_attr, u, batch.batch)\n",
        "            loss = criterion(out, batch.y)\n",
        "            test_loss += loss.item()\n",
        "            pred = out.argmax(dim=1)\n",
        "            correct += (pred == batch.y).sum().item()\n",
        "            total += batch.y.size(0)\n",
        "\n",
        "    val_losses.append(test_loss / len(test_loader))\n",
        "    accuracies.append(correct / total)\n",
        "    print(f\"Epoch {epoch + 1}/{num_epochs}, Train Loss: {train_losses[-1]:.4f}, val Loss: {val_losses[-1]:.4f},val Accuracy: {accuracies[-1]:.4f}\")\n",
        "\n",
        "\n",
        "torch.save(model.state_dict(), \"gnn_model.pth\")\n"
      ]
    },
    {
      "cell_type": "code",
      "execution_count": null,
      "metadata": {
        "id": "URo6gR7pYqd9",
        "outputId": "549749be-8106-4e95-f152-68cf1fb8e96a"
      },
      "outputs": [
        {
          "data": {
            "image/png": "[encoded data removed]",
            "text/plain": [
              "<Figure size 1200x500 with 2 Axes>"
            ]
          },
          "metadata": {},
          "output_type": "display_data"
        }
      ],
      "source": [
        "plt.figure(figsize=(12, 5))\n",
        "plt.subplot(1, 2, 1)\n",
        "plt.plot(range(1, num_epochs + 1), train_losses, label=\"Train Loss\")\n",
        "plt.plot(range(1, num_epochs + 1), val_losses, label=\"val Loss\")\n",
        "plt.xlabel(\"Epoch\")\n",
        "plt.ylabel(\"Loss\")\n",
        "plt.title(\"Loss vs. Epochs\")\n",
        "plt.legend()\n",
        "\n",
        "\n",
        "plt.subplot(1, 2, 2)\n",
        "plt.plot(range(1, num_epochs + 1), accuracies, label=\"Accuracy\")\n",
        "plt.xlabel(\"Epoch\")\n",
        "plt.ylabel(\"Accuracy\")\n",
        "plt.title(\"Accuracy vs. Epochs\")\n",
        "plt.legend()\n",
        "\n",
        "plt.tight_layout()\n",
        "plt.show()\n"
      ]
    },
    {
      "cell_type": "code",
      "execution_count": null,
      "metadata": {
        "id": "UzmAvWNeYqd_",
        "outputId": "c59f5cbf-09c0-4e2b-aabe-32cff49813bb"
      },
      "outputs": [
        {
          "name": "stdout",
          "output_type": "stream",
          "text": [
            "Test Accuracy: 0.9463\n"
          ]
        },
        {
          "data": {
            "image/png": "[encoded data removed]",
            "text/plain": [
              "<Figure size 640x480 with 2 Axes>"
            ]
          },
          "metadata": {},
          "output_type": "display_data"
        }
      ],
      "source": [
        "# test the model\n",
        "model.eval()\n",
        "all_preds, all_labels = [], []\n",
        "with torch.no_grad():\n",
        "    for batch in test_loader:\n",
        "        edge_attr = batch.edge_deltaR\n",
        "        src_idx, dst_idx = batch.edge_index\n",
        "        src, dst = batch.x[src_idx], batch.x[dst_idx]\n",
        "        edge_batch = batch.batch[src_idx]\n",
        "        u = batch.global_features\n",
        "        node_batch = batch.batch\n",
        "        out = model(batch.x, batch.edge_index, edge_attr, u, batch.batch)\n",
        "        preds = out.argmax(dim=1)\n",
        "        all_preds.append(preds)\n",
        "        all_labels.append(batch.y)\n",
        "\n",
        "# Concatenate all predictions and labels\n",
        "all_preds = torch.cat(all_preds, dim=0).cpu().numpy()\n",
        "all_labels = torch.cat(all_labels, dim=0).cpu().numpy()\n",
        "\n",
        "test_accuracy = accuracy_score(all_labels, all_preds)\n",
        "print(f\"Test Accuracy: {test_accuracy:.4f}\")\n",
        "\n",
        "# Confusion Matrix\n",
        "from sklearn.metrics import confusion_matrix, ConfusionMatrixDisplay\n",
        "cm = confusion_matrix(all_labels, all_preds)\n",
        "disp = ConfusionMatrixDisplay(confusion_matrix=cm, display_labels=[\"Light Jet\", \"Charm Jet\", \"Bottom Jet\"])\n",
        "disp.plot(cmap=\"Blues\")\n",
        "plt.show()"
      ]
    }
  ],
  "metadata": {
    "colab": {
      "provenance": []
    },
    "kernelspec": {
      "display_name": "base",
      "language": "python",
      "name": "python3"
    },
    "language_info": {
      "codemirror_mode": {
        "name": "ipython",
        "version": 3
      },
      "file_extension": ".py",
      "mimetype": "text/x-python",
      "name": "python",
      "nbconvert_exporter": "python",
      "pygments_lexer": "ipython3",
      "version": "3.12.2"
    }
  },
  "nbformat": 4,
  "nbformat_minor": 0
}
